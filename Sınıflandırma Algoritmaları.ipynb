{
 "cells": [
  {
   "cell_type": "code",
   "execution_count": 1,
   "metadata": {},
   "outputs": [],
   "source": [
    "import pandas\n",
    "import numpy as np\n",
    "from pandas import read_csv\n",
    "url = \"https://raw.githubusercontent.com/jbrownlee/Datasets/master/pima-indians-diabetes.data.csv\"\n",
    "names = [\"preg\", \"plas\", \"pres\", \"skin\", \"test\", \"mass\", \"pedi\", \"age\", \"class\"]\n",
    "data = read_csv(url, names = names)"
   ]
  },
  {
   "cell_type": "code",
   "execution_count": 2,
   "metadata": {},
   "outputs": [],
   "source": [
    "veri = data.values\n",
    "X = veri[:, 0:8]\n",
    "Y = veri[:, 8]"
   ]
  },
  {
   "cell_type": "code",
   "execution_count": 3,
   "metadata": {},
   "outputs": [],
   "source": [
    "from sklearn.model_selection import train_test_split\n",
    "x_train, x_test, y_train, y_test = train_test_split(X,Y, test_size = 0.3, random_state = 0)"
   ]
  },
  {
   "cell_type": "code",
   "execution_count": 4,
   "metadata": {},
   "outputs": [],
   "source": [
    "#MAKİNE ÖĞRENMESİ ALGORİTMALARINDA SINIFLANDIRMA MODELLERİ\n",
    "# 1- LOJİSTİK REGRESYON"
   ]
  },
  {
   "cell_type": "code",
   "execution_count": 5,
   "metadata": {},
   "outputs": [],
   "source": [
    "from sklearn.linear_model import LogisticRegression\n",
    "\n",
    "model = LogisticRegression(solver= \"lbfgs\", max_iter = 1000)\n",
    "model.fit(x_train, y_train)\n",
    "\n",
    "y_pred = model.predict(x_test)\n",
    "y_pred1 = model.predict(x_train)"
   ]
  },
  {
   "cell_type": "code",
   "execution_count": 6,
   "metadata": {},
   "outputs": [
    {
     "name": "stdout",
     "output_type": "stream",
     "text": [
      "Eğitim Verisi İçin Doğruluk Oranı:  0.7653631284916201\n",
      "Test Verisi İçin Doğruluk Oranı  :  0.7792207792207793\n"
     ]
    }
   ],
   "source": [
    "from sklearn.metrics import accuracy_score\n",
    "print(\"Eğitim Verisi İçin Doğruluk Oranı: \", accuracy_score(y_pred1, y_train))\n",
    "print(\"Test Verisi İçin Doğruluk Oranı  : \", accuracy_score(y_pred, y_test))"
   ]
  },
  {
   "cell_type": "code",
   "execution_count": 7,
   "metadata": {},
   "outputs": [],
   "source": [
    "#Veriyi normalize edicez.\n",
    "from sklearn.preprocessing import StandardScaler\n",
    "sc = StandardScaler()\n",
    "sc.fit(x_train)\n",
    "x_train_std = sc.transform(x_train)\n",
    "x_test_std = sc.transform(x_test)"
   ]
  },
  {
   "cell_type": "code",
   "execution_count": 8,
   "metadata": {},
   "outputs": [
    {
     "name": "stdout",
     "output_type": "stream",
     "text": [
      "Eğitim Verisi İçin Doğruluk Oranı:  0.7635009310986964\n",
      "Test Verisi İçin Doğruluk Oranı  :  0.7792207792207793\n"
     ]
    }
   ],
   "source": [
    "#Normalize edilmiş veri seti için modelleme\n",
    "model1 = LogisticRegression(solver= \"lbfgs\", max_iter = 1000)\n",
    "model1.fit(x_train_std, y_train)\n",
    "\n",
    "y_pred = model1.predict(x_test_std)\n",
    "y_pred1 = model1.predict(x_train_std)\n",
    "print(\"Eğitim Verisi İçin Doğruluk Oranı: \", accuracy_score(y_pred1, y_train))\n",
    "print(\"Test Verisi İçin Doğruluk Oranı  : \", accuracy_score(y_pred, y_test))"
   ]
  },
  {
   "cell_type": "code",
   "execution_count": 9,
   "metadata": {},
   "outputs": [
    {
     "name": "stdout",
     "output_type": "stream",
     "text": [
      "Eğitim Verisi İçin Doğruluk Oranı:  0.638733705772812\n",
      "Test Verisi İçin Doğruluk Oranı  :  0.6796536796536796\n"
     ]
    }
   ],
   "source": [
    "# Performansı arttırmak için parametreler değiştirilir.\n",
    "# C PARAMETRESİ (Düzenlileştirme katsayısı - lambda) (En iyi C değeri deneyerek veya basit bir döngü yardımı ile bulunur.)\n",
    "model1 = LogisticRegression(solver= \"lbfgs\", max_iter = 1000, C=0.0001)\n",
    "model1.fit(x_train_std, y_train)\n",
    "\n",
    "y_pred = model1.predict(x_test_std)\n",
    "y_pred1 = model1.predict(x_train_std)\n",
    "print(\"Eğitim Verisi İçin Doğruluk Oranı: \", accuracy_score(y_pred1, y_train))\n",
    "print(\"Test Verisi İçin Doğruluk Oranı  : \", accuracy_score(y_pred, y_test))"
   ]
  },
  {
   "cell_type": "code",
   "execution_count": 10,
   "metadata": {},
   "outputs": [
    {
     "name": "stdout",
     "output_type": "stream",
     "text": [
      "Parametre =  0.001 \n",
      "\n",
      "Eğitim Verisi İçin Doğruluk Oranı:  0.6368715083798883\n",
      "Test Verisi İçin Doğruluk Oranı  :  0.6796536796536796\n",
      "\n",
      "\n",
      "Parametre =  0.01 \n",
      "\n",
      "Eğitim Verisi İçin Doğruluk Oranı:  0.7523277467411545\n",
      "Test Verisi İçin Doğruluk Oranı  :  0.7748917748917749\n",
      "\n",
      "\n",
      "Parametre =  0.05 \n",
      "\n",
      "Eğitim Verisi İçin Doğruluk Oranı:  0.7616387337057728\n",
      "Test Verisi İçin Doğruluk Oranı  :  0.7835497835497836\n",
      "\n",
      "\n",
      "Parametre =  0.1 \n",
      "\n",
      "Eğitim Verisi İçin Doğruluk Oranı:  0.7653631284916201\n",
      "Test Verisi İçin Doğruluk Oranı  :  0.7835497835497836\n",
      "\n",
      "\n",
      "Parametre =  0.5 \n",
      "\n",
      "Eğitim Verisi İçin Doğruluk Oranı:  0.7653631284916201\n",
      "Test Verisi İçin Doğruluk Oranı  :  0.7792207792207793\n",
      "\n",
      "\n",
      "Parametre =  1 \n",
      "\n",
      "Eğitim Verisi İçin Doğruluk Oranı:  0.7635009310986964\n",
      "Test Verisi İçin Doğruluk Oranı  :  0.7792207792207793\n",
      "\n",
      "\n",
      "Parametre =  5 \n",
      "\n",
      "Eğitim Verisi İçin Doğruluk Oranı:  0.7653631284916201\n",
      "Test Verisi İçin Doğruluk Oranı  :  0.7792207792207793\n",
      "\n",
      "\n",
      "Parametre =  10 \n",
      "\n",
      "Eğitim Verisi İçin Doğruluk Oranı:  0.7653631284916201\n",
      "Test Verisi İçin Doğruluk Oranı  :  0.7792207792207793\n",
      "\n",
      "\n",
      "Parametre =  1000 \n",
      "\n",
      "Eğitim Verisi İçin Doğruluk Oranı:  0.7653631284916201\n",
      "Test Verisi İçin Doğruluk Oranı  :  0.7792207792207793\n",
      "\n",
      "\n",
      "Parametre =  10000 \n",
      "\n",
      "Eğitim Verisi İçin Doğruluk Oranı:  0.7653631284916201\n",
      "Test Verisi İçin Doğruluk Oranı  :  0.7792207792207793\n",
      "\n",
      "\n"
     ]
    }
   ],
   "source": [
    "for aa in [0.001, 0.01, 0.05, 0.1, 0.5, 1, 5, 10, 1000, 10000]:\n",
    "    model1 = LogisticRegression(solver= \"lbfgs\", C=aa)\n",
    "    model1.fit(x_train_std, y_train)\n",
    "    y_pred = model1.predict(x_test_std)\n",
    "    y_pred1 = model1.predict(x_train_std)\n",
    "    print(\"Parametre = \", aa,  \"\\n\")\n",
    "    print(\"Eğitim Verisi İçin Doğruluk Oranı: \", accuracy_score(y_pred1, y_train))\n",
    "    print(\"Test Verisi İçin Doğruluk Oranı  : \", accuracy_score(y_pred, y_test))\n",
    "    print(\"\\n\")"
   ]
  },
  {
   "cell_type": "code",
   "execution_count": 11,
   "metadata": {},
   "outputs": [
    {
     "name": "stdout",
     "output_type": "stream",
     "text": [
      "Eğitim Verisi İçin Doğruluk Oranı:  0.7895716945996276\n",
      "Test Verisi İçin Doğruluk Oranı  :  0.7489177489177489\n"
     ]
    }
   ],
   "source": [
    "#MAKİNE ÖĞRENMESİ ALGORİTMALARINDA SINIFLANDIRMA MODELLERİ\n",
    "#2- K-En Yakın Komşu Algoritması (k-Nearest Neighbors)\n",
    "from sklearn.neighbors import KNeighborsClassifier\n",
    "\n",
    "knn = KNeighborsClassifier(n_neighbors = 5)\n",
    "knn.fit(x_train, y_train)\n",
    "y_pred = knn.predict(x_test)\n",
    "y_pred1 = knn.predict(x_train)\n",
    "print(\"Eğitim Verisi İçin Doğruluk Oranı: \", accuracy_score(y_pred1, y_train))\n",
    "print(\"Test Verisi İçin Doğruluk Oranı  : \", accuracy_score(y_pred, y_test))\n",
    "\n"
   ]
  },
  {
   "cell_type": "code",
   "execution_count": 12,
   "metadata": {},
   "outputs": [
    {
     "name": "stdout",
     "output_type": "stream",
     "text": [
      "k =  1\n",
      "Eğitim Verisi İçin Doğruluk Oranı:  1.0\n",
      "Test Verisi İçin Doğruluk Oranı  :  0.6147186147186147\n",
      "0.056966543197631836 sn. geçti\n",
      "\n",
      "\n",
      "\n",
      "k =  2\n",
      "Eğitim Verisi İçin Doğruluk Oranı:  0.8417132216014898\n",
      "Test Verisi İçin Doğruluk Oranı  :  0.7142857142857143\n",
      "0.05696821212768555 sn. geçti\n",
      "\n",
      "\n",
      "\n",
      "k =  3\n",
      "Eğitim Verisi İçin Doğruluk Oranı:  0.8603351955307262\n",
      "Test Verisi İçin Doğruluk Oranı  :  0.6926406926406926\n",
      "0.05596327781677246 sn. geçti\n",
      "\n",
      "\n",
      "\n",
      "k =  4\n",
      "Eğitim Verisi İçin Doğruluk Oranı:  0.7951582867783985\n",
      "Test Verisi İçin Doğruluk Oranı  :  0.7359307359307359\n",
      "0.05496788024902344 sn. geçti\n",
      "\n",
      "\n",
      "\n",
      "k =  5\n",
      "Eğitim Verisi İçin Doğruluk Oranı:  0.7895716945996276\n",
      "Test Verisi İçin Doğruluk Oranı  :  0.7489177489177489\n",
      "0.06196188926696777 sn. geçti\n",
      "\n",
      "\n",
      "\n",
      "k =  6\n",
      "Eğitim Verisi İçin Doğruluk Oranı:  0.7858472998137802\n",
      "Test Verisi İçin Doğruluk Oranı  :  0.7402597402597403\n",
      "0.05696463584899902 sn. geçti\n",
      "\n",
      "\n",
      "\n",
      "k =  7\n",
      "Eğitim Verisi İçin Doğruluk Oranı:  0.770949720670391\n",
      "Test Verisi İçin Doğruluk Oranı  :  0.7489177489177489\n",
      "0.05696439743041992 sn. geçti\n",
      "\n",
      "\n",
      "\n",
      "k =  8\n",
      "Eğitim Verisi İçin Doğruluk Oranı:  0.7821229050279329\n",
      "Test Verisi İçin Doğruluk Oranı  :  0.7489177489177489\n",
      "0.056964874267578125 sn. geçti\n",
      "\n",
      "\n",
      "\n",
      "k =  9\n",
      "Eğitim Verisi İçin Doğruluk Oranı:  0.7914338919925512\n",
      "Test Verisi İçin Doğruluk Oranı  :  0.7489177489177489\n",
      "0.06395769119262695 sn. geçti\n",
      "\n",
      "\n",
      "\n",
      "k =  10\n",
      "Eğitim Verisi İçin Doğruluk Oranı:  0.7839851024208566\n",
      "Test Verisi İçin Doğruluk Oranı  :  0.7532467532467533\n",
      "0.06096482276916504 sn. geçti\n",
      "\n",
      "\n",
      "\n"
     ]
    }
   ],
   "source": [
    "import time\n",
    "for a in range(1,11):\n",
    "    tic = time.time()\n",
    "    knn = KNeighborsClassifier(n_neighbors = a)\n",
    "    knn.fit(x_train, y_train)\n",
    "    y_pred = knn.predict(x_test)\n",
    "    y_pred1 = knn.predict(x_train)\n",
    "    print(\"k = \", a)\n",
    "    print(\"Eğitim Verisi İçin Doğruluk Oranı: \", accuracy_score(y_pred1, y_train))\n",
    "    print(\"Test Verisi İçin Doğruluk Oranı  : \", accuracy_score(y_pred, y_test))\n",
    "    toc = time.time()\n",
    "    print(toc-tic, \"sn. geçti\\n\")\n",
    "    print(\"\\n\")\n",
    "    \n",
    "    "
   ]
  },
  {
   "cell_type": "code",
   "execution_count": 29,
   "metadata": {},
   "outputs": [
    {
     "ename": "TypeError",
     "evalue": "'str' object is not callable",
     "output_type": "error",
     "traceback": [
      "\u001b[1;31m---------------------------------------------------------------------------\u001b[0m",
      "\u001b[1;31mTypeError\u001b[0m                                 Traceback (most recent call last)",
      "\u001b[1;32m<ipython-input-29-322df6205a0d>\u001b[0m in \u001b[0;36m<module>\u001b[1;34m\u001b[0m\n\u001b[0;32m     11\u001b[0m \u001b[0mplt\u001b[0m\u001b[1;33m.\u001b[0m\u001b[0mplot\u001b[0m\u001b[1;33m(\u001b[0m\u001b[0mkomsu_sayisi\u001b[0m\u001b[1;33m,\u001b[0m \u001b[0megitim_accuracy\u001b[0m\u001b[1;33m,\u001b[0m \u001b[0mlabel\u001b[0m\u001b[1;33m=\u001b[0m\u001b[1;34m\"Eğitim Verisi Doğruluk Oranı\"\u001b[0m\u001b[1;33m)\u001b[0m\u001b[1;33m\u001b[0m\u001b[1;33m\u001b[0m\u001b[0m\n\u001b[0;32m     12\u001b[0m \u001b[0mplt\u001b[0m\u001b[1;33m.\u001b[0m\u001b[0mplot\u001b[0m\u001b[1;33m(\u001b[0m\u001b[0mkomsu_sayisi\u001b[0m\u001b[1;33m,\u001b[0m \u001b[0mtest_accuracy\u001b[0m\u001b[1;33m,\u001b[0m \u001b[0mlabel\u001b[0m\u001b[1;33m=\u001b[0m\u001b[1;34m\"Test Verisi Doğruluk Oranı\"\u001b[0m\u001b[1;33m)\u001b[0m\u001b[1;33m\u001b[0m\u001b[1;33m\u001b[0m\u001b[0m\n\u001b[1;32m---> 13\u001b[1;33m \u001b[0mplt\u001b[0m\u001b[1;33m.\u001b[0m\u001b[0mylabel\u001b[0m\u001b[1;33m(\u001b[0m\u001b[1;34m\"Doğruluk\"\u001b[0m\u001b[1;33m)\u001b[0m\u001b[1;33m\u001b[0m\u001b[1;33m\u001b[0m\u001b[0m\n\u001b[0m\u001b[0;32m     14\u001b[0m \u001b[0mplt\u001b[0m\u001b[1;33m.\u001b[0m\u001b[0mxlabel\u001b[0m\u001b[1;33m(\u001b[0m\u001b[1;34m\"Komşu Sayısı\"\u001b[0m\u001b[1;33m)\u001b[0m\u001b[1;33m\u001b[0m\u001b[1;33m\u001b[0m\u001b[0m\n\u001b[0;32m     15\u001b[0m \u001b[0mplt\u001b[0m\u001b[1;33m.\u001b[0m\u001b[0mlegend\u001b[0m\u001b[1;33m(\u001b[0m\u001b[1;33m)\u001b[0m\u001b[1;33m\u001b[0m\u001b[1;33m\u001b[0m\u001b[0m\n",
      "\u001b[1;31mTypeError\u001b[0m: 'str' object is not callable"
     ]
    },
    {
     "data": {
      "image/png": "[encoded data removed]",
      "text/plain": [
       "<Figure size 432x288 with 1 Axes>"
      ]
     },
     "metadata": {
      "needs_background": "light"
     },
     "output_type": "display_data"
    }
   ],
   "source": [
    "import matplotlib.pyplot as plt\n",
    "egitim_accuracy = []\n",
    "test_accuracy = []\n",
    "komsu_sayisi = range(1,11)\n",
    "for a in komsu_sayisi:\n",
    "    clf = KNeighborsClassifier(n_neighbors = a)\n",
    "    clf.fit(x_train, y_train)\n",
    "    egitim_accuracy.append((clf.score(x_train, y_train)))\n",
    "    test_accuracy.append((clf.score(x_test, y_test)))\n",
    "    \n",
    "plt.plot(komsu_sayisi, egitim_accuracy, label=\"Eğitim Verisi Doğruluk Oranı\")\n",
    "plt.plot(komsu_sayisi, test_accuracy, label=\"Test Verisi Doğruluk Oranı\")\n",
    "plt.ylabel(\"Doğruluk\")\n",
    "plt.xlabel(\"Komşu Sayısı\")\n",
    "plt.legend()"
   ]
  },
  {
   "cell_type": "code",
   "execution_count": 14,
   "metadata": {},
   "outputs": [
    {
     "name": "stdout",
     "output_type": "stream",
     "text": [
      "Skorlar      :  [0.74545455 0.72727273 0.72727273 0.66666667 0.67924528 0.71698113\n",
      " 0.60377358 0.60377358 0.81132075 0.75471698] \n",
      "\n",
      "Ortalama Skor:  0.7036477987421383\n"
     ]
    }
   ],
   "source": [
    "#Çapraz doğrulama\n",
    "from sklearn.model_selection import cross_val_score\n",
    "cv_scores = []\n",
    "\n",
    "knn = KNeighborsClassifier(n_neighbors = 5)\n",
    "knn.fit(x_train, y_train)\n",
    "pred = knn.predict(x_test)\n",
    "\n",
    "scores = cross_val_score(knn, x_train, y_train, cv = 10, scoring = \"accuracy\")\n",
    "print(\"Skorlar      : \", scores, \"\\n\")\n",
    "print(\"Ortalama Skor: \",scores.mean())"
   ]
  },
  {
   "cell_type": "code",
   "execution_count": 21,
   "metadata": {},
   "outputs": [
    {
     "data": {
      "image/png": "[encoded data removed]",
      "text/plain": [
       "<Figure size 432x288 with 1 Axes>"
      ]
     },
     "metadata": {
      "needs_background": "light"
     },
     "output_type": "display_data"
    }
   ],
   "source": [
    "#Çapraz doğrulama ile parametre optimizasyonunun birlikte kullanımı\n",
    "k_range = range(1,11)\n",
    "k_scores = []\n",
    "\n",
    "for k in k_range:\n",
    "    knn = KNeighborsClassifier(n_neighbors = k)\n",
    "    scores = cross_val_score(knn, x_train, y_train, cv = 10, scoring = \"accuracy\")\n",
    "    k_scores.append(scores.mean())\n",
    "    \n",
    "%matplotlib inline\n",
    "\n",
    "plt.plot(k_range, k_scores)\n",
    "plt.xlabel = (\"KNN için Komşu Değerleri(k)\")\n",
    "plt.ylabel = (\"CV ile Elde Edilen Doğruluk Oranları\")\n",
    "plt.show()\n",
    "#Sonraki aşamada, Bulunan en iyi K değeri için modelin test performansı ölçülecek.\n"
   ]
  },
  {
   "cell_type": "code",
   "execution_count": 31,
   "metadata": {},
   "outputs": [
    {
     "name": "stdout",
     "output_type": "stream",
     "text": [
      "Eğitim Verisi için Doğruluk Oranı:  0.7672253258845437\n",
      "\n",
      "\n",
      "Test Verisi için Doğruluk Oranı  :  0.7619047619047619\n"
     ]
    }
   ],
   "source": [
    "# 3- NAIVE BAYES (koşullu olasılık)\n",
    "#Bu algoritmada da verinin normalize-standardize(std) edilmesi önerilir.\n",
    "from sklearn.naive_bayes import GaussianNB\n",
    "nb = GaussianNB()\n",
    "nb.fit(x_train_std, y_train)\n",
    "\n",
    "y_pred = nb.predict(x_test_std)\n",
    "y_pred1 = nb.predict(x_train_std)\n",
    "\n",
    "print(\"Eğitim Verisi için Doğruluk Oranı: \", accuracy_score(y_pred1, y_train))\n",
    "print(\"\\n\")\n",
    "print(\"Test Verisi için Doğruluk Oranı  : \", accuracy_score(y_pred, y_test))"
   ]
  },
  {
   "cell_type": "code",
   "execution_count": 35,
   "metadata": {},
   "outputs": [
    {
     "name": "stdout",
     "output_type": "stream",
     "text": [
      "Eğitim Verisi için Doğruluk Oranı:  0.770949720670391\n",
      "\n",
      "\n",
      "Test Verisi için Doğruluk Oranı  :  0.7835497835497836\n"
     ]
    }
   ],
   "source": [
    "# 4- SUPPORT VECTOR MACHINE\n",
    "# Örneklem uzayında bir ayırma düzlemi yardımıyla sınıflandırma yapar. (Doğrusal, Doğrusal olmayan ayırma)\n",
    "#Bu algoritmada da verinin normalize-standardize(std) edilmesi önerilir.\n",
    "from sklearn.svm import SVC\n",
    "clf = SVC(kernel = \"linear\", C = 1) \n",
    "# Kernel: ayırma düzlemi , C : kontrol parametresi (farklı değerler verilerek modelin performansı arttırılıp azaltılabilir.)\n",
    "clf.fit(x_train_std, y_train)\n",
    "y_pred = clf.predict(x_test_std)\n",
    "y_pred1 = clf.predict(x_train_std)\n",
    "print(\"Eğitim Verisi için Doğruluk Oranı: \", accuracy_score(y_pred1, y_train))\n",
    "print(\"\\n\")\n",
    "print(\"Test Verisi için Doğruluk Oranı  : \", accuracy_score(y_pred, y_test))"
   ]
  },
  {
   "cell_type": "code",
   "execution_count": 37,
   "metadata": {},
   "outputs": [
    {
     "name": "stdout",
     "output_type": "stream",
     "text": [
      "Eğitim Verisi için Doğruluk Oranı:  0.8789571694599627\n",
      "\n",
      "\n",
      "Test Verisi için Doğruluk Oranı  :  0.7662337662337663\n"
     ]
    }
   ],
   "source": [
    "clf = SVC(kernel = \"rbf\", gamma = 0.7) #Doğrusal olmayan düzlem, gamma değerini değiştirerek modelin performansı arttırılıp azaltılabilir.\n",
    "clf.fit(x_train_std, y_train)\n",
    "y_pred = clf.predict(x_test_std)\n",
    "y_pred1 = clf.predict(x_train_std)\n",
    "print(\"Eğitim Verisi için Doğruluk Oranı: \", accuracy_score(y_pred1, y_train))\n",
    "print(\"\\n\")\n",
    "print(\"Test Verisi için Doğruluk Oranı  : \", accuracy_score(y_pred, y_test))"
   ]
  },
  {
   "cell_type": "code",
   "execution_count": 38,
   "metadata": {},
   "outputs": [
    {
     "name": "stdout",
     "output_type": "stream",
     "text": [
      "gamma =  0.001 \n",
      "\n",
      "Eğitim Verisi için Doğruluk Oranı:  0.6405959031657356\n",
      "Test Verisi için Doğruluk Oranı  :  0.683982683982684\n",
      "\n",
      "\n",
      "gamma =  0.01 \n",
      "\n",
      "Eğitim Verisi için Doğruluk Oranı:  0.7672253258845437\n",
      "Test Verisi için Doğruluk Oranı  :  0.7835497835497836\n",
      "\n",
      "\n",
      "gamma =  0.05 \n",
      "\n",
      "Eğitim Verisi için Doğruluk Oranı:  0.7951582867783985\n",
      "Test Verisi için Doğruluk Oranı  :  0.7792207792207793\n",
      "\n",
      "\n",
      "gamma =  0.1 \n",
      "\n",
      "Eğitim Verisi için Doğruluk Oranı:  0.8212290502793296\n",
      "Test Verisi için Doğruluk Oranı  :  0.7705627705627706\n",
      "\n",
      "\n",
      "gamma =  0.5 \n",
      "\n",
      "Eğitim Verisi için Doğruluk Oranı:  0.9180633147113594\n",
      "Test Verisi için Doğruluk Oranı  :  0.7619047619047619\n",
      "\n",
      "\n",
      "gamma =  1 \n",
      "\n",
      "Eğitim Verisi için Doğruluk Oranı:  0.962756052141527\n",
      "Test Verisi için Doğruluk Oranı  :  0.7359307359307359\n",
      "\n",
      "\n",
      "gamma =  5 \n",
      "\n",
      "Eğitim Verisi için Doğruluk Oranı:  1.0\n",
      "Test Verisi için Doğruluk Oranı  :  0.6796536796536796\n",
      "\n",
      "\n",
      "gamma =  10 \n",
      "\n",
      "Eğitim Verisi için Doğruluk Oranı:  1.0\n",
      "Test Verisi için Doğruluk Oranı  :  0.6796536796536796\n",
      "\n",
      "\n",
      "gamma =  100 \n",
      "\n",
      "Eğitim Verisi için Doğruluk Oranı:  1.0\n",
      "Test Verisi için Doğruluk Oranı  :  0.6796536796536796\n",
      "\n",
      "\n"
     ]
    }
   ],
   "source": [
    "for aa in [0.001, 0.01, 0.05, 0.1, 0.5, 1, 5, 10, 100]:\n",
    "    clf = SVC(kernel = \"rbf\", gamma = aa)\n",
    "    clf.fit(x_train_std, y_train)\n",
    "    y_pred = clf.predict(x_test_std)\n",
    "    y_pred1 = clf.predict(x_train_std)\n",
    "    \n",
    "    print(\"gamma = \", aa, \"\\n\")\n",
    "    print(\"Eğitim Verisi için Doğruluk Oranı: \", accuracy_score(y_pred1, y_train))\n",
    "    print(\"Test Verisi için Doğruluk Oranı  : \", accuracy_score(y_pred, y_test))\n",
    "    print(\"\\n\")\n"
   ]
  },
  {
   "cell_type": "code",
   "execution_count": 39,
   "metadata": {},
   "outputs": [
    {
     "name": "stdout",
     "output_type": "stream",
     "text": [
      "Eğitim Verisi için Doğruluk Oranı:  0.7951582867783985\n",
      "\n",
      "\n",
      "Test Verisi için Doğruluk Oranı:  0.7532467532467533\n"
     ]
    }
   ],
   "source": [
    "# 5- KARAR AĞACI\n",
    "from sklearn.tree import DecisionTreeClassifier\n",
    "\n",
    "dtc = DecisionTreeClassifier(max_depth = 4)\n",
    "dtc.fit(x_train, y_train)\n",
    "pred = dtc.predict(x_test)\n",
    "pred1 = dtc.predict(x_train)\n",
    "\n",
    "print(\"Eğitim Verisi için Doğruluk Oranı: \", accuracy_score(pred1, y_train))\n",
    "print(\"\\n\")\n",
    "print(\"Test Verisi için Doğruluk Oranı: \", accuracy_score(pred, y_test))"
   ]
  },
  {
   "cell_type": "code",
   "execution_count": 40,
   "metadata": {},
   "outputs": [
    {
     "data": {
      "image/png": "[encoded data removed]",
      "text/plain": [
       "<Figure size 1200x1200 with 1 Axes>"
      ]
     },
     "metadata": {
      "needs_background": "light"
     },
     "output_type": "display_data"
    }
   ],
   "source": [
    "#Görselleştirme\n",
    "from sklearn import tree\n",
    "fig, axes = plt.subplots(nrows = 1, ncols = 1, figsize = (4,4), dpi = 300)\n",
    "tree.plot_tree(dtc);"
   ]
  },
  {
   "cell_type": "code",
   "execution_count": 44,
   "metadata": {},
   "outputs": [
    {
     "name": "stdout",
     "output_type": "stream",
     "text": [
      "Eğitim Verisi için Doğruluk Oranı:  0.813780260707635\n",
      "\n",
      "\n",
      "Test Verisi için Doğruluk Oranı:  0.7316017316017316\n"
     ]
    }
   ],
   "source": [
    "# 6- YAPAY SİNİR AĞLARI (MULTİLAYER PERCEPTRON)\n",
    "#Bu algoritmada da verinin normalize-standardize(std) edilmesi önerilir.\n",
    "\n",
    "from sklearn.neural_network import MLPClassifier\n",
    "\n",
    "# activation fonksiyonunun alabileceği değerler : {\"logistic\", \"tanh\", \"relu\"} \n",
    "mlp = MLPClassifier(activation = \"logistic\", hidden_layer_sizes = [3,5], solver = \"lbfgs\", max_iter = 20000, tol = 0.000000001)\n",
    "mlp.fit(x_train_std, y_train)\n",
    "pred = mlp.predict(x_test_std)\n",
    "pred1 = mlp.predict(x_train_std)\n",
    "\n",
    "print(\"Eğitim Verisi için Doğruluk Oranı: \", accuracy_score(pred1, y_train))\n",
    "print(\"\\n\")\n",
    "print(\"Test Verisi için Doğruluk Oranı: \", accuracy_score(pred, y_test))"
   ]
  },
  {
   "cell_type": "code",
   "execution_count": 48,
   "metadata": {},
   "outputs": [
    {
     "name": "stdout",
     "output_type": "stream",
     "text": [
      "Eğitim Verisi için Doğruluk Oranı:  1.0\n",
      "\n",
      "\n",
      "Test Verisi için Doğruluk Oranı:  0.7662337662337663\n"
     ]
    }
   ],
   "source": [
    "# 7- XGBOOST\n",
    "\n",
    "import xgboost\n",
    "\n",
    "xgb = xgboost.XGBClassifier(n_estimators = 100, learning_rate = 0.16, max_depth = 5)\n",
    "xgb.fit(x_train, y_train)\n",
    "pred = xgb.predict(x_test)\n",
    "pred1 = xgb.predict(x_train)\n",
    "\n",
    "print(\"Eğitim Verisi için Doğruluk Oranı: \", accuracy_score(pred1, y_train))\n",
    "print(\"\\n\")\n",
    "print(\"Test Verisi için Doğruluk Oranı: \", accuracy_score(pred, y_test))"
   ]
  },
  {
   "cell_type": "code",
   "execution_count": 49,
   "metadata": {},
   "outputs": [
    {
     "ename": "TypeError",
     "evalue": "'str' object is not callable",
     "output_type": "error",
     "traceback": [
      "\u001b[1;31m---------------------------------------------------------------------------\u001b[0m",
      "\u001b[1;31mTypeError\u001b[0m                                 Traceback (most recent call last)",
      "\u001b[1;32m<ipython-input-49-e82f05079d2c>\u001b[0m in \u001b[0;36m<module>\u001b[1;34m\u001b[0m\n\u001b[0;32m      1\u001b[0m \u001b[0mimp_feat_rf\u001b[0m \u001b[1;33m=\u001b[0m \u001b[0mpandas\u001b[0m\u001b[1;33m.\u001b[0m\u001b[0mSeries\u001b[0m\u001b[1;33m(\u001b[0m\u001b[0mxgb\u001b[0m\u001b[1;33m.\u001b[0m\u001b[0mfeature_importances_\u001b[0m\u001b[1;33m,\u001b[0m \u001b[0mindex\u001b[0m \u001b[1;33m=\u001b[0m \u001b[0mnames\u001b[0m\u001b[1;33m[\u001b[0m\u001b[1;36m0\u001b[0m\u001b[1;33m:\u001b[0m\u001b[1;36m8\u001b[0m\u001b[1;33m]\u001b[0m\u001b[1;33m)\u001b[0m\u001b[1;33m.\u001b[0m\u001b[0msort_values\u001b[0m\u001b[1;33m(\u001b[0m\u001b[0mascending\u001b[0m \u001b[1;33m=\u001b[0m \u001b[1;32mFalse\u001b[0m\u001b[1;33m)\u001b[0m\u001b[1;33m\u001b[0m\u001b[1;33m\u001b[0m\u001b[0m\n\u001b[0;32m      2\u001b[0m \u001b[0mimp_feat_rf\u001b[0m\u001b[1;33m.\u001b[0m\u001b[0mplot\u001b[0m\u001b[1;33m(\u001b[0m\u001b[0mkind\u001b[0m \u001b[1;33m=\u001b[0m \u001b[1;34m\"bar\"\u001b[0m\u001b[1;33m,\u001b[0m \u001b[0mtitle\u001b[0m \u001b[1;33m=\u001b[0m \u001b[1;34m\"XGBoost ile Öznitelik Önemleri\"\u001b[0m\u001b[1;33m,\u001b[0m \u001b[0mfigsize\u001b[0m \u001b[1;33m=\u001b[0m \u001b[1;33m(\u001b[0m\u001b[1;36m12\u001b[0m\u001b[1;33m,\u001b[0m\u001b[1;36m8\u001b[0m\u001b[1;33m)\u001b[0m\u001b[1;33m)\u001b[0m\u001b[1;33m\u001b[0m\u001b[1;33m\u001b[0m\u001b[0m\n\u001b[1;32m----> 3\u001b[1;33m \u001b[0mplt\u001b[0m\u001b[1;33m.\u001b[0m\u001b[0mylabel\u001b[0m\u001b[1;33m(\u001b[0m\u001b[1;34m\"Öznitelik Önem Derecesi\"\u001b[0m\u001b[1;33m)\u001b[0m\u001b[1;33m\u001b[0m\u001b[1;33m\u001b[0m\u001b[0m\n\u001b[0m\u001b[0;32m      4\u001b[0m \u001b[0mplt\u001b[0m\u001b[1;33m.\u001b[0m\u001b[0msubplots_adjust\u001b[0m\u001b[1;33m(\u001b[0m\u001b[0mbottom\u001b[0m \u001b[1;33m=\u001b[0m \u001b[1;36m0.25\u001b[0m\u001b[1;33m)\u001b[0m\u001b[1;33m\u001b[0m\u001b[1;33m\u001b[0m\u001b[0m\n\u001b[0;32m      5\u001b[0m \u001b[0mplt\u001b[0m\u001b[1;33m.\u001b[0m\u001b[0mshow\u001b[0m\u001b[1;33m(\u001b[0m\u001b[1;33m)\u001b[0m\u001b[1;33m\u001b[0m\u001b[1;33m\u001b[0m\u001b[0m\n",
      "\u001b[1;31mTypeError\u001b[0m: 'str' object is not callable"
     ]
    },
    {
     "data": {
      "image/png": "[encoded data removed]",
      "text/plain": [
       "<Figure size 864x576 with 1 Axes>"
      ]
     },
     "metadata": {
      "needs_background": "light"
     },
     "output_type": "display_data"
    }
   ],
   "source": [
    "imp_feat_rf = pandas.Series(xgb.feature_importances_, index = names[0:8]).sort_values(ascending = False)\n",
    "imp_feat_rf.plot(kind = \"bar\", title = \"XGBoost ile Öznitelik Önemleri\", figsize = (12,8))\n",
    "plt.ylabel(\"Öznitelik Önem Derecesi\")\n",
    "plt.subplots_adjust(bottom = 0.25)\n",
    "plt.show()"
   ]
  },
  {
   "cell_type": "code",
   "execution_count": 53,
   "metadata": {},
   "outputs": [
    {
     "name": "stdout",
     "output_type": "stream",
     "text": [
      "Test Verisi için Doğruluk Oranı  :  0.7619047619047619\n",
      "\n",
      "\n",
      "Eğitim Verisi için Doğruluk Oranı:  0.8845437616387337\n"
     ]
    }
   ],
   "source": [
    "# 8- RANDOM FOREST\n",
    "from sklearn.ensemble import RandomForestClassifier\n",
    "\n",
    "model = RandomForestClassifier(n_estimators = 100, max_depth = 8, min_samples_leaf = 5)\n",
    "model.fit(x_train, y_train)\n",
    "\n",
    "pred = model.predict(x_test)\n",
    "pred1 = model.predict(x_train)\n",
    "\n",
    "print(\"Test Verisi için Doğruluk Oranı  : \", accuracy_score(pred, y_test))\n",
    "print(\"\\n\")\n",
    "print(\"Eğitim Verisi için Doğruluk Oranı: \", accuracy_score(pred1, y_train))\n",
    "\n"
   ]
  },
  {
   "cell_type": "code",
   "execution_count": 54,
   "metadata": {},
   "outputs": [
    {
     "ename": "TypeError",
     "evalue": "'str' object is not callable",
     "output_type": "error",
     "traceback": [
      "\u001b[1;31m---------------------------------------------------------------------------\u001b[0m",
      "\u001b[1;31mTypeError\u001b[0m                                 Traceback (most recent call last)",
      "\u001b[1;32m<ipython-input-54-d016c41c5bf7>\u001b[0m in \u001b[0;36m<module>\u001b[1;34m\u001b[0m\n\u001b[0;32m      1\u001b[0m \u001b[0mimp_feat_rf\u001b[0m \u001b[1;33m=\u001b[0m \u001b[0mpandas\u001b[0m\u001b[1;33m.\u001b[0m\u001b[0mSeries\u001b[0m\u001b[1;33m(\u001b[0m\u001b[0mmodel\u001b[0m\u001b[1;33m.\u001b[0m\u001b[0mfeature_importances_\u001b[0m\u001b[1;33m,\u001b[0m \u001b[0mindex\u001b[0m \u001b[1;33m=\u001b[0m \u001b[0mnames\u001b[0m\u001b[1;33m[\u001b[0m\u001b[1;36m0\u001b[0m\u001b[1;33m:\u001b[0m\u001b[1;36m8\u001b[0m\u001b[1;33m]\u001b[0m\u001b[1;33m)\u001b[0m\u001b[1;33m.\u001b[0m\u001b[0msort_values\u001b[0m\u001b[1;33m(\u001b[0m\u001b[0mascending\u001b[0m \u001b[1;33m=\u001b[0m \u001b[1;32mFalse\u001b[0m\u001b[1;33m)\u001b[0m\u001b[1;33m\u001b[0m\u001b[1;33m\u001b[0m\u001b[0m\n\u001b[0;32m      2\u001b[0m \u001b[0mimp_feat_rf\u001b[0m\u001b[1;33m.\u001b[0m\u001b[0mplot\u001b[0m\u001b[1;33m(\u001b[0m\u001b[0mkind\u001b[0m \u001b[1;33m=\u001b[0m \u001b[1;34m\"bar\"\u001b[0m\u001b[1;33m,\u001b[0m \u001b[0mtitle\u001b[0m \u001b[1;33m=\u001b[0m \u001b[1;34m\"Random Forest ile Öznitelik Önemleri\"\u001b[0m\u001b[1;33m,\u001b[0m \u001b[0mfigsize\u001b[0m \u001b[1;33m=\u001b[0m \u001b[1;33m(\u001b[0m\u001b[1;36m12\u001b[0m\u001b[1;33m,\u001b[0m\u001b[1;36m8\u001b[0m\u001b[1;33m)\u001b[0m\u001b[1;33m)\u001b[0m\u001b[1;33m\u001b[0m\u001b[1;33m\u001b[0m\u001b[0m\n\u001b[1;32m----> 3\u001b[1;33m \u001b[0mplt\u001b[0m\u001b[1;33m.\u001b[0m\u001b[0mylabel\u001b[0m\u001b[1;33m(\u001b[0m\u001b[1;34m\"Öznitelik Önem Derecesi\"\u001b[0m\u001b[1;33m)\u001b[0m\u001b[1;33m\u001b[0m\u001b[1;33m\u001b[0m\u001b[0m\n\u001b[0m\u001b[0;32m      4\u001b[0m \u001b[0mplt\u001b[0m\u001b[1;33m.\u001b[0m\u001b[0msubplots_adjust\u001b[0m\u001b[1;33m(\u001b[0m\u001b[0mbottom\u001b[0m \u001b[1;33m=\u001b[0m \u001b[1;36m0.25\u001b[0m\u001b[1;33m)\u001b[0m\u001b[1;33m\u001b[0m\u001b[1;33m\u001b[0m\u001b[0m\n\u001b[0;32m      5\u001b[0m \u001b[0mplt\u001b[0m\u001b[1;33m.\u001b[0m\u001b[0mshow\u001b[0m\u001b[1;33m(\u001b[0m\u001b[1;33m)\u001b[0m\u001b[1;33m\u001b[0m\u001b[1;33m\u001b[0m\u001b[0m\n",
      "\u001b[1;31mTypeError\u001b[0m: 'str' object is not callable"
     ]
    },
    {
     "data": {
      "image/png": "[encoded data removed]",
      "text/plain": [
       "<Figure size 864x576 with 1 Axes>"
      ]
     },
     "metadata": {
      "needs_background": "light"
     },
     "output_type": "display_data"
    }
   ],
   "source": [
    "imp_feat_rf = pandas.Series(model.feature_importances_, index = names[0:8]).sort_values(ascending = False)\n",
    "imp_feat_rf.plot(kind = \"bar\", title = \"Random Forest ile Öznitelik Önemleri\", figsize = (12,8))\n",
    "plt.ylabel(\"Öznitelik Önem Derecesi\")\n",
    "plt.subplots_adjust(bottom = 0.25)\n",
    "plt.show()"
   ]
  },
  {
   "cell_type": "code",
   "execution_count": null,
   "metadata": {},
   "outputs": [],
   "source": []
  }
 ],
 "metadata": {
  "kernelspec": {
   "display_name": "Python 3",
   "language": "python",
   "name": "python3"
  },
  "language_info": {
   "codemirror_mode": {
    "name": "ipython",
    "version": 3
   },
   "file_extension": ".py",
   "mimetype": "text/x-python",
   "name": "python",
   "nbconvert_exporter": "python",
   "pygments_lexer": "ipython3",
   "version": "3.7.7"
  }
 },
 "nbformat": 4,
 "nbformat_minor": 2
}
