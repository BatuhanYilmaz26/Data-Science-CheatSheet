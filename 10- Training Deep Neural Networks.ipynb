{
 "cells": [
  {
   "cell_type": "code",
   "execution_count": 1,
   "id": "bizarre-shakespeare",
   "metadata": {},
   "outputs": [],
   "source": [
    "import sklearn\n",
    "import tensorflow as tf\n",
    "from tensorflow import keras\n",
    "\n",
    "%load_ext tensorboard\n",
    "\n",
    "import numpy as np\n",
    "import os\n",
    "\n",
    "np.random.seed(42)\n",
    "\n",
    "# To plot pretty figures\n",
    "%matplotlib inline\n",
    "import matplotlib as mpl\n",
    "import matplotlib.pyplot as plt\n",
    "mpl.rc('axes', labelsize=14)\n",
    "mpl.rc('xtick', labelsize=12)\n",
    "mpl.rc('ytick', labelsize=12)"
   ]
  },
  {
   "cell_type": "markdown",
   "id": "clinical-association",
   "metadata": {},
   "source": [
    "#### Some of the problems you could run into when training a deep DNN: \n",
    "- You may be faced with the tricky **vanishing gradients problem** or the related **exploding gradients problem**. \n",
    "    - **This is when the gradients grow smaller and smaller, or larger and larger, when flowing backward through the DNN during training.** \n",
    "    - Both of these problems make lower layers very hard to train.\n",
    "- You might not have enough training data for such a large network, or it might be too costly to label.\n",
    "- Training may be extremely slow.\n",
    "- A model with millions of parameters would severely risk overfitting the training set, especially if there are not enough training instances or if they are too noisy."
   ]
  },
  {
   "cell_type": "markdown",
   "id": "loose-generic",
   "metadata": {},
   "source": [
    "## The Vanishing/Exploding Gradients Problems\n",
    "- The backpropagation algorithm works by going from the output layer to the input layer, propagating the error gradient along the way. \n",
    "    - Once the algorithm has computed the gradient of the cost function with regard to each parameter in the network, it uses these gradients to update each parameter with a Gradient Descent step.\n",
    "- **Unfortunately, gradients often get smaller and smaller as the algorithm progresses down to the lower layers.** \n",
    "    - As a result, the Gradient Descent update leaves the lower layers’ connection weights virtually unchanged, and training never converges to a good solution.\n",
    "    - **We call this the vanishing gradients problem.**\n",
    "- In some cases, the opposite can happen: **the gradients can grow bigger and bigger until layers get insanely large weight updates and the algorithm diverges.**\n",
    "    - This is the **exploding gradients problem**, which surfaces in recurrent neural networks. \n",
    "- More generally, deep neural networks suffer from unstable gradients; different layers may learn at widely different speeds.\n",
    "***\n",
    "- This unfortunate behavior was empirically observed long ago, and it was one of the reasons deep neural networks were mostly abandoned in the early 2000s. \n",
    "- It wasn’t clear what caused the gradients to be so unstable when training a DNN, but some light was shed in a 2010 paper by Xavier Glorot and Yoshua Bengio. \n",
    "    - The authors found a few suspects, including the combination of the popular logistic sigmoid activation function and the weight initialization technique that was most popular at the time (i.e., a normal distribution with a mean of 0 and a standard deviation of 1).\n",
    "    - In short, they showed that with this activation function and this initialization scheme, the variance of the outputs of each layer is much greater than the variance of its inputs.\n",
    "    - Going forward in the network, the variance keeps increasing after each layer until the activation function saturates at the top layers. \n",
    "    - This saturation is actually made worse by the fact that the logistic function has a mean of 0.5, not 0 (the hyperbolic tangent function has a mean of 0 and behaves slightly better than the logistic function in deep networks)."
   ]
  },
  {
   "cell_type": "code",
   "execution_count": 2,
   "id": "daily-edgar",
   "metadata": {},
   "outputs": [],
   "source": [
    "def logit(z):\n",
    "    return 1 / (1 + np.exp(-z))"
   ]
  },
  {
   "cell_type": "code",
   "execution_count": 3,
   "id": "perceived-frost",
   "metadata": {},
   "outputs": [
    {
     "data": {
      "image/png": "[encoded data removed]",
      "text/plain": [
       "<Figure size 432x288 with 1 Axes>"
      ]
     },
     "metadata": {
      "needs_background": "light"
     },
     "output_type": "display_data"
    }
   ],
   "source": [
    "z = np.linspace(-5, 5, 200)\n",
    "\n",
    "plt.plot([-5, 5], [0, 0], 'k-')\n",
    "plt.plot([-5, 5], [1, 1], 'k--')\n",
    "plt.plot([0, 0], [-0.2, 1.2], 'k-')\n",
    "plt.plot([-5, 5], [-3/4, 7/4], 'g--')\n",
    "plt.plot(z, logit(z), \"b-\", linewidth=2)\n",
    "props = dict(facecolor='black', shrink=0.1)\n",
    "plt.annotate('Saturating', xytext=(3.5, 0.7), xy=(5, 1), arrowprops=props, fontsize=14, ha=\"center\")\n",
    "plt.annotate('Saturating', xytext=(-3.5, 0.3), xy=(-5, 0), arrowprops=props, fontsize=14, ha=\"center\")\n",
    "plt.annotate('Linear', xytext=(2, 0.2), xy=(0, 0.5), arrowprops=props, fontsize=14, ha=\"center\")\n",
    "plt.grid(True)\n",
    "plt.title(\"Sigmoid activation function\", fontsize=14)\n",
    "plt.axis([-5, 5, -0.2, 1.2])\n",
    "\n",
    "plt.show()"
   ]
  },
  {
   "cell_type": "markdown",
   "id": "violent-burning",
   "metadata": {},
   "source": [
    "- Looking at the logistic activation function above, you can see that when inputs become large (negative or positive), the function saturates at 0 or 1, with a derivative extremely close to 0. \n",
    "- Thus, when backpropagation kicks in it has virtually no gradient to propagate back through the network; and what little gradient exists keeps getting diluted as backpropagation progresses down through the top layers, so there is really nothing left for the lower layers."
   ]
  },
  {
   "cell_type": "markdown",
   "id": "loving-smart",
   "metadata": {},
   "source": [
    "## Glorot and He Initialization\n",
    "- In their paper, Glorot and Bengio propose a way to significantly alleviate the unstable gradients problem. \n",
    "    - They point out that we need the signal to flow properly in both directions: in the forward direction when making predictions, and in the reverse direction when backpropagating gradients.\n",
    "    - We don’t want the signal to die out, nor do we want it to explode and saturate. \n",
    "    - For the signal to flow properly, the authors argue that we need the variance of the outputs of each layer to be equal to the variance of its inputs, and we need the gradients to have equal variance before and after flowing through a layer in the reverse direction.\n",
    "- It is actually not possible to guarantee both unless the layer has an equal number of inputs and neurons (these numbers are called the fan-in and fan-out of the layer), but Glorot and Bengio proposed a good compromise that has proven to work very well in practice: the connection weights of each layer must be initialized randomly as described in Equation 11-1, where. <img src=\"1.png\">\n",
    "    - This initialization strategy is called **Xavier initialization** or **Glorot initialization**, after the paper’s first author.\n",
    "<img src=\"11-1.png\">\n",
    "\n",
    "- If you replace fan with $fan_in$ in Equation 11-1, you get an initialization strategy that Yann LeCun proposed in the 1990s. He called it LeCun initialization. \n",
    "- Genevieve Orr and Klaus-Robert Müller even recommended it in their 1998 book Neural Networks: Tricks of the Trade (Springer).\n",
    "- LeCun initialization is equivalent to Glorot initialization when $fan_in$ = $fan_out$ . \n",
    "    - It took over a decade for researchers to realize how important this trick is. Using Glorot initialization can speed up training considerably, and it is one of the tricks that led to the success of Deep Learning.\n",
    "- Some papers have provided similar strategies for different activation functions. \n",
    "    - These strategies differ only by the scale of the variance and whether they use $fan_avg$ or $fan_in$ , as shown in Table 11-1.\n",
    "- **The initialization strategy for the ReLU activation function** (and its variants, including the ELU activation described shortly) is sometimes called **He initialization**, after the paper’s first author.\n",
    "<img src=\"t1.png\">\n",
    "\n",
    "- By default, Keras uses **Glorot initialization** with a uniform distribution.\n",
    "    - When creating a layer, you can change this to He initialization by setting kernel_initializer=\"he_uniform\" or kernel_initializer=\"he_normal\""
   ]
  },
  {
   "cell_type": "code",
   "execution_count": 4,
   "id": "governing-feelings",
   "metadata": {},
   "outputs": [
    {
     "data": {
      "text/plain": [
       "['Constant',\n",
       " 'GlorotNormal',\n",
       " 'GlorotUniform',\n",
       " 'HeNormal',\n",
       " 'HeUniform',\n",
       " 'Identity',\n",
       " 'Initializer',\n",
       " 'LecunNormal',\n",
       " 'LecunUniform',\n",
       " 'Ones',\n",
       " 'Orthogonal',\n",
       " 'RandomNormal',\n",
       " 'RandomUniform',\n",
       " 'TruncatedNormal',\n",
       " 'VarianceScaling',\n",
       " 'Zeros',\n",
       " 'constant',\n",
       " 'deserialize',\n",
       " 'get',\n",
       " 'glorot_normal',\n",
       " 'glorot_uniform',\n",
       " 'he_normal',\n",
       " 'he_uniform',\n",
       " 'identity',\n",
       " 'lecun_normal',\n",
       " 'lecun_uniform',\n",
       " 'ones',\n",
       " 'orthogonal',\n",
       " 'random_normal',\n",
       " 'random_uniform',\n",
       " 'serialize',\n",
       " 'truncated_normal',\n",
       " 'variance_scaling',\n",
       " 'zeros']"
      ]
     },
     "execution_count": 4,
     "metadata": {},
     "output_type": "execute_result"
    }
   ],
   "source": [
    "[name for name in dir(keras.initializers) if not name.startswith(\"_\")]"
   ]
  },
  {
   "cell_type": "code",
   "execution_count": 5,
   "id": "competent-conservation",
   "metadata": {},
   "outputs": [
    {
     "data": {
      "text/plain": [
       "<tensorflow.python.keras.layers.core.Dense at 0x1b9101ae9c8>"
      ]
     },
     "execution_count": 5,
     "metadata": {},
     "output_type": "execute_result"
    }
   ],
   "source": [
    "keras.layers.Dense(10, activation=\"relu\", kernel_initializer=\"he_normal\")"
   ]
  },
  {
   "cell_type": "markdown",
   "id": "eleven-pioneer",
   "metadata": {},
   "source": [
    "If you want He initialization with a uniform distribution but based on $fan_avg$ rather than $fan_in$ , you can use the VarianceScaling initializer like this:"
   ]
  },
  {
   "cell_type": "code",
   "execution_count": 6,
   "id": "animal-african",
   "metadata": {},
   "outputs": [
    {
     "data": {
      "text/plain": [
       "<tensorflow.python.keras.layers.core.Dense at 0x1b91133b948>"
      ]
     },
     "execution_count": 6,
     "metadata": {},
     "output_type": "execute_result"
    }
   ],
   "source": [
    "init = keras.initializers.VarianceScaling(scale=2., mode=\"fan_avg\", distribution=\"uniform\")\n",
    "keras.layers.Dense(10, activation=\"relu\", kernel_initializer=init)"
   ]
  },
  {
   "cell_type": "markdown",
   "id": "sporting-composer",
   "metadata": {},
   "source": [
    "## Nonsaturating Activation Functions\n",
    "- One of the insights in the 2010 paper by Glorot and Bengio was that the problems with unstable gradients were in part due to a poor choice of activation function. Until then most people had assumed that if Mother Nature had chosen to use roughly sigmoid activation functions in biological neurons, they must be an excellent choice.\n",
    "- But it turns out that other activation functions behave much better in deep neural networks—in particular, the **ReLU** activation function, mostly because it does not saturate for positive values (and because it is fast to compute).\n",
    "- Unfortunately, the ReLU activation function is not perfect. It suffers from a problem known as the dying ReLUs: during training, some neurons effectively “die,” meaning they stop outputting anything other than 0. \n",
    "    - In some cases, you may find that half of your network’s neurons are dead, especially if you used a large learning rate.\n",
    "    - A neuron dies when its weights get tweaked in such a way that the weighted sum of its inputs are negative for all instances in the training set. \n",
    "    - When this happens, it just keeps outputting zeros, and Gradient Descent does not affect it anymore because the gradient of the ReLU function is zero when its input is negative.\n",
    "    - To solve this problem, you may want to use a variant of the ReLU function, such as the **leaky ReLU**.\n",
    "    \n",
    "### Leaky ReLU\n",
    "- The hyperparameter α(alpha) defines how much the function “leaks”: it is the slope of the function for z < 0 and is typically set to 0.01. This small slope ensures that leaky ReLUs never die; they can go into a long coma, but they have a chance to eventually wake up."
   ]
  },
  {
   "cell_type": "code",
   "execution_count": 7,
   "id": "excess-islam",
   "metadata": {},
   "outputs": [],
   "source": [
    "def leaky_relu(z, alpha=0.01):\n",
    "    return np.maximum(alpha*z, z)"
   ]
  },
  {
   "cell_type": "code",
   "execution_count": 8,
   "id": "rapid-productivity",
   "metadata": {},
   "outputs": [
    {
     "data": {
      "image/png": "[encoded data removed]",
      "text/plain": [
       "<Figure size 432x288 with 1 Axes>"
      ]
     },
     "metadata": {
      "needs_background": "light"
     },
     "output_type": "display_data"
    }
   ],
   "source": [
    "plt.plot(z, leaky_relu(z, 0.05), \"b-\", linewidth=2)\n",
    "plt.plot([-5, 5], [0, 0], 'k-')\n",
    "plt.plot([0, 0], [-0.5, 4.2], 'k-')\n",
    "plt.grid(True)\n",
    "props = dict(facecolor='black', shrink=0.1)\n",
    "plt.annotate('Leak', xytext=(-3.5, 0.5), xy=(-5, -0.2), arrowprops=props, fontsize=14, ha=\"center\")\n",
    "plt.title(\"Leaky ReLU activation function\", fontsize=14)\n",
    "plt.axis([-5, 5, -0.5, 4.2])\n",
    "\n",
    "plt.show()"
   ]
  },
  {
   "cell_type": "code",
   "execution_count": 9,
   "id": "popular-southwest",
   "metadata": {},
   "outputs": [
    {
     "data": {
      "text/plain": [
       "['deserialize',\n",
       " 'elu',\n",
       " 'exponential',\n",
       " 'gelu',\n",
       " 'get',\n",
       " 'hard_sigmoid',\n",
       " 'linear',\n",
       " 'relu',\n",
       " 'selu',\n",
       " 'serialize',\n",
       " 'sigmoid',\n",
       " 'softmax',\n",
       " 'softplus',\n",
       " 'softsign',\n",
       " 'swish',\n",
       " 'tanh']"
      ]
     },
     "execution_count": 9,
     "metadata": {},
     "output_type": "execute_result"
    }
   ],
   "source": [
    "[m for m in dir(keras.activations) if not m.startswith(\"_\")]"
   ]
  },
  {
   "cell_type": "markdown",
   "id": "cellular-number",
   "metadata": {},
   "source": [
    "Let's train a neural network on Fashion MNIST using the Leaky ReLU:"
   ]
  },
  {
   "cell_type": "code",
   "execution_count": 10,
   "id": "portable-breathing",
   "metadata": {},
   "outputs": [],
   "source": [
    "(X_train_full, y_train_full), (X_test, y_test) = keras.datasets.fashion_mnist.load_data()\n",
    "X_train_full = X_train_full / 255.\n",
    "X_test = X_test / 255.\n",
    "X_valid, X_train = X_train_full[:5000], X_train_full[5000:]\n",
    "y_valid, y_train = y_train_full[:5000], y_train_full[5000:]"
   ]
  },
  {
   "cell_type": "code",
   "execution_count": 11,
   "id": "double-calculator",
   "metadata": {},
   "outputs": [],
   "source": [
    "tf.random.set_seed(42)\n",
    "np.random.seed(42)\n",
    "\n",
    "model = keras.models.Sequential([\n",
    "    keras.layers.Flatten(input_shape=[28, 28]), \n",
    "    keras.layers.Dense(300, kernel_initializer=\"he_normal\"), \n",
    "    keras.layers.LeakyReLU(), \n",
    "    keras.layers.Dense(100, kernel_initializer=\"he_normal\"), \n",
    "    keras.layers.LeakyReLU(), \n",
    "    keras.layers.Dense(10, activation=\"softmax\")\n",
    "])"
   ]
  },
  {
   "cell_type": "code",
   "execution_count": 12,
   "id": "improving-lingerie",
   "metadata": {},
   "outputs": [],
   "source": [
    "model.compile(loss=\"sparse_categorical_crossentropy\",\n",
    "              optimizer=keras.optimizers.SGD(lr=1e-3), \n",
    "              metrics=[\"accuracy\"])"
   ]
  },
  {
   "cell_type": "code",
   "execution_count": 13,
   "id": "secret-alexander",
   "metadata": {},
   "outputs": [
    {
     "name": "stdout",
     "output_type": "stream",
     "text": [
      "Epoch 1/10\n",
      "1719/1719 [==============================] - 8s 4ms/step - loss: 1.6314 - accuracy: 0.5054 - val_loss: 0.8886 - val_accuracy: 0.7160\n",
      "Epoch 2/10\n",
      "1719/1719 [==============================] - 5s 3ms/step - loss: 0.8416 - accuracy: 0.7247 - val_loss: 0.7130 - val_accuracy: 0.7656\n",
      "Epoch 3/10\n",
      "1719/1719 [==============================] - 5s 3ms/step - loss: 0.7053 - accuracy: 0.7637 - val_loss: 0.6427 - val_accuracy: 0.7898\n",
      "Epoch 4/10\n",
      "1719/1719 [==============================] - 5s 3ms/step - loss: 0.6325 - accuracy: 0.7908 - val_loss: 0.5900 - val_accuracy: 0.8066\n",
      "Epoch 5/10\n",
      "1719/1719 [==============================] - 5s 3ms/step - loss: 0.5992 - accuracy: 0.8021 - val_loss: 0.5582 - val_accuracy: 0.8198\n",
      "Epoch 6/10\n",
      "1719/1719 [==============================] - 5s 3ms/step - loss: 0.5624 - accuracy: 0.8142 - val_loss: 0.5350 - val_accuracy: 0.8238\n",
      "Epoch 7/10\n",
      "1719/1719 [==============================] - 5s 3ms/step - loss: 0.5379 - accuracy: 0.8217 - val_loss: 0.5156 - val_accuracy: 0.8304\n",
      "Epoch 8/10\n",
      "1719/1719 [==============================] - 6s 3ms/step - loss: 0.5152 - accuracy: 0.8297 - val_loss: 0.5079 - val_accuracy: 0.8284\n",
      "Epoch 9/10\n",
      "1719/1719 [==============================] - 6s 4ms/step - loss: 0.5100 - accuracy: 0.8269 - val_loss: 0.4895 - val_accuracy: 0.8386\n",
      "Epoch 10/10\n",
      "1719/1719 [==============================] - 6s 3ms/step - loss: 0.4918 - accuracy: 0.8339 - val_loss: 0.4817 - val_accuracy: 0.8398\n"
     ]
    }
   ],
   "source": [
    "history = model.fit(X_train, y_train, epochs=10, \n",
    "                   validation_data=(X_valid, y_valid))"
   ]
  },
  {
   "cell_type": "markdown",
   "id": "fuzzy-african",
   "metadata": {},
   "source": [
    "## PReLU\n",
    "- The paper evaluated the parametric leaky ReLU (PReLU), where α is authorized to be **learned during training (instead of being a hyperparameter, it becomes a parameter that can be modified by backpropagation like any other parameter).** \n",
    "- PReLU was reported to strongly outperform ReLU on large image datasets, but on smaller datasets it runs the risk of overfitting the training set.\n",
    "Now let's try PReLU:"
   ]
  },
  {
   "cell_type": "code",
   "execution_count": 14,
   "id": "applicable-maine",
   "metadata": {},
   "outputs": [],
   "source": [
    "tf.random.set_seed(42)\n",
    "np.random.seed(42)\n",
    "\n",
    "model = keras.models.Sequential([\n",
    "    keras.layers.Flatten(input_shape=[28, 28]), \n",
    "    keras.layers.Dense(300, kernel_initializer=\"he_normal\"), \n",
    "    keras.layers.PReLU(), \n",
    "    keras.layers.Dense(100, kernel_initializer=\"he_normal\"), \n",
    "    keras.layers.PReLU(), \n",
    "    keras.layers.Dense(10, activation=\"softmax\")\n",
    "])"
   ]
  },
  {
   "cell_type": "code",
   "execution_count": 15,
   "id": "seeing-notebook",
   "metadata": {},
   "outputs": [],
   "source": [
    "model.compile(loss=\"sparse_categorical_crossentropy\",\n",
    "              optimizer=keras.optimizers.SGD(lr=1e-3),\n",
    "              metrics=[\"accuracy\"])"
   ]
  },
  {
   "cell_type": "code",
   "execution_count": 16,
   "id": "adjusted-dayton",
   "metadata": {},
   "outputs": [
    {
     "name": "stdout",
     "output_type": "stream",
     "text": [
      "Epoch 1/10\n",
      "1719/1719 [==============================] - 8s 4ms/step - loss: 1.6969 - accuracy: 0.4974 - val_loss: 0.9255 - val_accuracy: 0.7186\n",
      "Epoch 2/10\n",
      "1719/1719 [==============================] - 6s 4ms/step - loss: 0.8706 - accuracy: 0.7247 - val_loss: 0.7305 - val_accuracy: 0.7628\n",
      "Epoch 3/10\n",
      "1719/1719 [==============================] - 7s 4ms/step - loss: 0.7211 - accuracy: 0.7620 - val_loss: 0.6565 - val_accuracy: 0.7878\n",
      "Epoch 4/10\n",
      "1719/1719 [==============================] - 7s 4ms/step - loss: 0.6448 - accuracy: 0.7881 - val_loss: 0.6004 - val_accuracy: 0.8046\n",
      "Epoch 5/10\n",
      "1719/1719 [==============================] - 6s 4ms/step - loss: 0.6078 - accuracy: 0.8003 - val_loss: 0.5656 - val_accuracy: 0.8182\n",
      "Epoch 6/10\n",
      "1719/1719 [==============================] - 6s 4ms/step - loss: 0.5693 - accuracy: 0.8119 - val_loss: 0.5406 - val_accuracy: 0.8238\n",
      "Epoch 7/10\n",
      "1719/1719 [==============================] - 7s 4ms/step - loss: 0.5428 - accuracy: 0.8194 - val_loss: 0.5196 - val_accuracy: 0.8310\n",
      "Epoch 8/10\n",
      "1719/1719 [==============================] - 6s 4ms/step - loss: 0.5193 - accuracy: 0.8284 - val_loss: 0.5113 - val_accuracy: 0.8316\n",
      "Epoch 9/10\n",
      "1719/1719 [==============================] - 6s 4ms/step - loss: 0.5129 - accuracy: 0.8273 - val_loss: 0.4916 - val_accuracy: 0.8378\n",
      "Epoch 10/10\n",
      "1719/1719 [==============================] - 7s 4ms/step - loss: 0.4941 - accuracy: 0.8314 - val_loss: 0.4826 - val_accuracy: 0.8396\n"
     ]
    }
   ],
   "source": [
    "history = model.fit(X_train, y_train, epochs=10,\n",
    "                    validation_data=(X_valid, y_valid))"
   ]
  },
  {
   "cell_type": "markdown",
   "id": "assured-heaven",
   "metadata": {},
   "source": [
    "## ELU\n",
    "- A 2015 paper by Djork-Arné Clevert et al. proposed a new activation function called the **exponential linear unit (ELU)** that outperformed all the ReLU variants in the authors’ experiments: training time was reduced, and the neural network performed better on the test set.\n",
    "<img src=\"11-2.png\">\n",
    "- The ELU activation function looks a lot like the ReLU function, with a few major differences:\n",
    "    - **It takes on negative values when z < 0, which allows the unit to have an average output closer to 0 and helps alleviate the vanishing gradients problem.** \n",
    "        - The hyperparameter α defines the value that the ELU function approaches when z is a large negative number. \n",
    "        - It is usually set to 1, but you can tweak it like any other hyperparameter.\n",
    "    - It has a nonzero gradient for z < 0, which avoids the dead neurons problem.\n",
    "    - **If α is equal to 1 then the function is smooth everywhere, including around z = 0, which helps speed up Gradient Descent since it does not bounce as much to the left and right of z = 0.**"
   ]
  },
  {
   "cell_type": "code",
   "execution_count": 17,
   "id": "distant-wyoming",
   "metadata": {},
   "outputs": [],
   "source": [
    "def elu(z, alpha=1):\n",
    "    return np.where(z < 0, alpha * (np.exp(z) - 1), z)"
   ]
  },
  {
   "cell_type": "code",
   "execution_count": 18,
   "id": "substantial-victim",
   "metadata": {},
   "outputs": [
    {
     "data": {
      "image/png": "[encoded data removed]",
      "text/plain": [
       "<Figure size 432x288 with 1 Axes>"
      ]
     },
     "metadata": {
      "needs_background": "light"
     },
     "output_type": "display_data"
    }
   ],
   "source": [
    "plt.plot(z, elu(z), \"b-\", linewidth=2)\n",
    "plt.plot([-5, 5], [0, 0], 'k-')\n",
    "plt.plot([-5, 5], [-1, -1], 'k--')\n",
    "plt.plot([0, 0], [-2.2, 3.2], 'k-')\n",
    "plt.grid(True)\n",
    "plt.title(r\"ELU activation function ($\\alpha=1$)\", fontsize=14)\n",
    "plt.axis([-5, 5, -2.2, 3.2])\n",
    "\n",
    "plt.show()"
   ]
  },
  {
   "cell_type": "markdown",
   "id": "scientific-tyler",
   "metadata": {},
   "source": [
    "Implementing ELU in TensorFlow is trivial, just specify the activation function when building each layer:"
   ]
  },
  {
   "cell_type": "code",
   "execution_count": 19,
   "id": "automatic-discretion",
   "metadata": {},
   "outputs": [
    {
     "data": {
      "text/plain": [
       "<tensorflow.python.keras.layers.core.Dense at 0x1b91683dc88>"
      ]
     },
     "execution_count": 19,
     "metadata": {},
     "output_type": "execute_result"
    }
   ],
   "source": [
    "keras.layers.Dense(10, activation=\"elu\")"
   ]
  },
  {
   "cell_type": "markdown",
   "id": "practical-worthy",
   "metadata": {},
   "source": [
    "## SELU\n",
    "- This activation function was proposed in a great paper by Günter Klambauer, Thomas Unterthiner and Andreas Mayr, published in June 2017. \n",
    "- **During training, a neural network composed exclusively of a stack of dense layers using the SELU activation function and LeCun initialization will self-normalize: the output of each layer will tend to preserve the same mean and variance during training, which solves the vanishing/exploding gradients problem.** \n",
    "    - As a result, this activation function outperforms the other activation functions very significantly for such neural nets. \n",
    "    - **The input features must be standardized (mean 0 and standard deviation 1).**\n",
    "    - **Every hidden layer’s weights must be initialized with LeCun normal initialization.** \n",
    "        - In Keras, this means setting kernel_initializer=\"lecun_normal\".\n",
    "    - **The network’s architecture must be Sequential.** \n",
    "    - Unfortunately, if you try to use SELU in nonsequential architectures, such as recurrent networks or networks with skip connections (i.e., connections that skip layers, such as in Wide & Deep nets), self-normalization will not be guaranteed, so SELU will not necessarily outperform other activation functions.\n",
    "    - Unfortunately, the self-normalizing property of the SELU activation function is easily broken: you cannot use ℓ1 or ℓ2 regularization, regular dropout, max-norm, skip connections or other non-sequential topologies (so recurrent neural networks won't self-normalize). \n",
    "    - However, in practice it works quite well with sequential CNNs. \n",
    "    - If you break self-normalization, SELU will not necessarily outperform other activation functions."
   ]
  },
  {
   "cell_type": "code",
   "execution_count": 20,
   "id": "dramatic-yellow",
   "metadata": {},
   "outputs": [],
   "source": [
    "from scipy.special import erfc\n",
    "\n",
    "# alpha and scale to self normalize with mean 0 and standard deviation 1\n",
    "alpha_0_1 = -np.sqrt(2 / np.pi) / (erfc(1/np.sqrt(2)) * np.exp(1/2) - 1)\n",
    "scale_0_1 = (1 - erfc(1 / np.sqrt(2)) * np.sqrt(np.e)) * np.sqrt(2 * np.pi) * (2 * erfc(np.sqrt(2))*np.e**2 + np.pi*erfc(1/np.sqrt(2))**2*np.e - 2*(2+np.pi)*erfc(1/np.sqrt(2))*np.sqrt(np.e)+np.pi+2)**(-1/2)"
   ]
  },
  {
   "cell_type": "code",
   "execution_count": 21,
   "id": "thrown-badge",
   "metadata": {},
   "outputs": [],
   "source": [
    "def selu(z, scale=scale_0_1, alpha=alpha_0_1):\n",
    "    return scale * elu(z, alpha)"
   ]
  },
  {
   "cell_type": "code",
   "execution_count": 22,
   "id": "resident-naples",
   "metadata": {},
   "outputs": [
    {
     "data": {
      "image/png": "[encoded data removed]",
      "text/plain": [
       "<Figure size 432x288 with 1 Axes>"
      ]
     },
     "metadata": {
      "needs_background": "light"
     },
     "output_type": "display_data"
    }
   ],
   "source": [
    "plt.plot(z, selu(z), \"b-\", linewidth=2)\n",
    "plt.plot([-5, 5], [0, 0], 'k-')\n",
    "plt.plot([-5, 5], [-1.758, -1.758], 'k--')\n",
    "plt.plot([0, 0], [-2.2, 3.2], 'k-')\n",
    "plt.grid(True)\n",
    "plt.title(\"SELU activation function\", fontsize=14)\n",
    "plt.axis([-5, 5, -2.2, 3.2])\n",
    "\n",
    "plt.show()"
   ]
  },
  {
   "cell_type": "markdown",
   "id": "inner-springer",
   "metadata": {},
   "source": [
    "By default, the SELU hyperparameters (scale and alpha) are tuned in such a way that the mean output of each neuron remains close to 0, and the standard deviation remains close to 1 (assuming the inputs are standardized with mean 0 and standard deviation 1 too). Using this activation function, even a 1,000 layer deep neural network preserves roughly mean 0 and standard deviation 1 across all layers, avoiding the exploding/vanishing gradients problem:"
   ]
  },
  {
   "cell_type": "code",
   "execution_count": 23,
   "id": "entertaining-tours",
   "metadata": {},
   "outputs": [
    {
     "name": "stdout",
     "output_type": "stream",
     "text": [
      "Layer 0: mean -0.00, std deviation 1.00\n",
      "Layer 100: mean 0.02, std deviation 0.96\n",
      "Layer 200: mean 0.01, std deviation 0.90\n",
      "Layer 300: mean -0.02, std deviation 0.92\n",
      "Layer 400: mean 0.05, std deviation 0.89\n",
      "Layer 500: mean 0.01, std deviation 0.93\n",
      "Layer 600: mean 0.02, std deviation 0.92\n",
      "Layer 700: mean -0.02, std deviation 0.90\n",
      "Layer 800: mean 0.05, std deviation 0.83\n",
      "Layer 900: mean 0.02, std deviation 1.00\n"
     ]
    }
   ],
   "source": [
    "np.random.seed(42)\n",
    "Z = np.random.normal(size=(500, 100)) # standardized inputs\n",
    "for layer in range(1000):\n",
    "    W = np.random.normal(size=(100, 100), scale=np.sqrt(1 / 100)) # LeCun initialization\n",
    "    Z = selu(np.dot(Z, W))\n",
    "    means = np.mean(Z, axis=0).mean()\n",
    "    stds = np.std(Z, axis=0).mean()\n",
    "    if layer % 100 == 0:\n",
    "        print(\"Layer {}: mean {:.2f}, std deviation {:.2f}\".format(layer, means, stds))"
   ]
  },
  {
   "cell_type": "markdown",
   "id": "comfortable-manner",
   "metadata": {},
   "source": [
    "Using SELU is easy:"
   ]
  },
  {
   "cell_type": "code",
   "execution_count": 24,
   "id": "false-simple",
   "metadata": {},
   "outputs": [
    {
     "data": {
      "text/plain": [
       "<tensorflow.python.keras.layers.core.Dense at 0x1b915929e48>"
      ]
     },
     "execution_count": 24,
     "metadata": {},
     "output_type": "execute_result"
    }
   ],
   "source": [
    "keras.layers.Dense(10, activation=\"selu\", kernel_initializer=\"lecun_normal\")"
   ]
  },
  {
   "cell_type": "markdown",
   "id": "inappropriate-lodging",
   "metadata": {},
   "source": [
    "Let's create a neural net for Fashion MNIST with 100 hidden layers, using the SELU activation function:"
   ]
  },
  {
   "cell_type": "code",
   "execution_count": 25,
   "id": "strange-adobe",
   "metadata": {},
   "outputs": [],
   "source": [
    "np.random.seed(42)\n",
    "tf.random.set_seed(42)"
   ]
  },
  {
   "cell_type": "code",
   "execution_count": 26,
   "id": "chinese-delivery",
   "metadata": {},
   "outputs": [],
   "source": [
    "model = keras.models.Sequential()\n",
    "model.add(keras.layers.Flatten(input_shape=[28, 28]))\n",
    "model.add(keras.layers.Dense(300, activation=\"selu\", kernel_initializer=\"lecun_normal\"))\n",
    "\n",
    "for layer in range(99):\n",
    "    model.add(keras.layers.Dense(100, activation=\"selu\", kernel_initializer=\"lecun_normal\"))\n",
    "model.add(keras.layers.Dense(10, activation=\"softmax\"))"
   ]
  },
  {
   "cell_type": "code",
   "execution_count": 27,
   "id": "advisory-ballet",
   "metadata": {},
   "outputs": [],
   "source": [
    "model.compile(loss=\"sparse_categorical_crossentropy\", \n",
    "              optimizer=keras.optimizers.SGD(lr=1e-3), \n",
    "              metrics=[\"accuracy\"])"
   ]
  },
  {
   "cell_type": "markdown",
   "id": "victorian-monte",
   "metadata": {},
   "source": [
    "Now let's train it. Do not forget to scale the inputs to mean 0 and standard deviation 1:"
   ]
  },
  {
   "cell_type": "code",
   "execution_count": 28,
   "id": "positive-subcommittee",
   "metadata": {},
   "outputs": [],
   "source": [
    "pixel_means = X_train.mean(axis=0, keepdims=True)\n",
    "pixel_stds = X_train.std(axis=0, keepdims=True)\n",
    "X_train_scaled = (X_train - pixel_means) / pixel_stds\n",
    "X_valid_scaled = (X_valid - pixel_means) / pixel_stds\n",
    "X_test_scaled = (X_test - pixel_means) / pixel_stds"
   ]
  },
  {
   "cell_type": "code",
   "execution_count": 29,
   "id": "split-symposium",
   "metadata": {},
   "outputs": [
    {
     "name": "stdout",
     "output_type": "stream",
     "text": [
      "Epoch 1/5\n",
      "1719/1719 [==============================] - 50s 27ms/step - loss: 1.3254 - accuracy: 0.4924 - val_loss: 0.7693 - val_accuracy: 0.7192\n",
      "Epoch 2/5\n",
      "1719/1719 [==============================] - 47s 27ms/step - loss: 0.7608 - accuracy: 0.7294 - val_loss: 0.6361 - val_accuracy: 0.7780\n",
      "Epoch 3/5\n",
      "1719/1719 [==============================] - 45s 26ms/step - loss: 0.6213 - accuracy: 0.7806 - val_loss: 0.5794 - val_accuracy: 0.7962\n",
      "Epoch 4/5\n",
      "1719/1719 [==============================] - 42s 24ms/step - loss: 0.5377 - accuracy: 0.8141 - val_loss: 0.4850 - val_accuracy: 0.8306\n",
      "Epoch 5/5\n",
      "1719/1719 [==============================] - 43s 25ms/step - loss: 0.4936 - accuracy: 0.8289 - val_loss: 0.4789 - val_accuracy: 0.8358\n"
     ]
    }
   ],
   "source": [
    "history = model.fit(X_train_scaled, y_train, epochs=5,\n",
    "                    validation_data=(X_valid_scaled, y_valid))"
   ]
  },
  {
   "cell_type": "markdown",
   "id": "greatest-raising",
   "metadata": {},
   "source": [
    "Now look at what happens if we try to use the ReLU activation function instead:"
   ]
  },
  {
   "cell_type": "code",
   "execution_count": 30,
   "id": "latest-musician",
   "metadata": {},
   "outputs": [],
   "source": [
    "np.random.seed(42)\n",
    "tf.random.set_seed(42)"
   ]
  },
  {
   "cell_type": "code",
   "execution_count": 31,
   "id": "italic-example",
   "metadata": {},
   "outputs": [],
   "source": [
    "model = keras.models.Sequential()\n",
    "model.add(keras.layers.Flatten(input_shape=[28, 28]))\n",
    "model.add(keras.layers.Dense(300, activation=\"relu\", kernel_initializer=\"he_normal\"))\n",
    "for layer in range(99):\n",
    "    model.add(keras.layers.Dense(100, activation=\"relu\", kernel_initializer=\"he_normal\"))\n",
    "model.add(keras.layers.Dense(10, activation=\"softmax\"))"
   ]
  },
  {
   "cell_type": "code",
   "execution_count": 32,
   "id": "written-worth",
   "metadata": {},
   "outputs": [],
   "source": [
    "model.compile(loss=\"sparse_categorical_crossentropy\",\n",
    "              optimizer=keras.optimizers.SGD(lr=1e-3),\n",
    "              metrics=[\"accuracy\"])"
   ]
  },
  {
   "cell_type": "code",
   "execution_count": 33,
   "id": "trying-blackberry",
   "metadata": {},
   "outputs": [
    {
     "name": "stdout",
     "output_type": "stream",
     "text": [
      "Epoch 1/5\n",
      "1719/1719 [==============================] - 48s 26ms/step - loss: 2.0999 - accuracy: 0.1760 - val_loss: 1.7955 - val_accuracy: 0.2882\n",
      "Epoch 2/5\n",
      "1719/1719 [==============================] - 43s 25ms/step - loss: 1.3662 - accuracy: 0.4005 - val_loss: 0.9627 - val_accuracy: 0.5952\n",
      "Epoch 3/5\n",
      "1719/1719 [==============================] - 43s 25ms/step - loss: 0.9966 - accuracy: 0.5824 - val_loss: 0.9120 - val_accuracy: 0.6410\n",
      "Epoch 4/5\n",
      "1719/1719 [==============================] - 42s 24ms/step - loss: 0.9921 - accuracy: 0.5944 - val_loss: 0.7455 - val_accuracy: 0.7198\n",
      "Epoch 5/5\n",
      "1719/1719 [==============================] - 43s 25ms/step - loss: 0.7753 - accuracy: 0.6996 - val_loss: 0.8021 - val_accuracy: 0.6832\n"
     ]
    }
   ],
   "source": [
    "history = model.fit(X_train_scaled, y_train, epochs=5,\n",
    "                    validation_data=(X_valid_scaled, y_valid))"
   ]
  },
  {
   "cell_type": "markdown",
   "id": "meaning-beauty",
   "metadata": {},
   "source": [
    "Not great at all, we suffered from the vanishing/exploding gradients problem."
   ]
  },
  {
   "cell_type": "markdown",
   "id": "dependent-encyclopedia",
   "metadata": {},
   "source": [
    "### TIP\n",
    "So, which activation function should you use for the hidden layers of your deep neural networks? \n",
    "- Although your mileage will vary, in general SELU > ELU > leaky ReLU (and its variants) > ReLU > tanh > logistic.\n",
    "- If the network’s architecture prevents it from self-normalizing, then ELU may perform better than SELU (since SELU is not smooth at z = 0).\n",
    "- If you care a lot about runtime latency, then you may prefer leaky ReLU. \n",
    "    - If you don’t want to tweak yet another hyperparameter, you may use the default α values used by Keras (e.g., 0.3 for leaky ReLU).\n",
    "- If you have spare time and computing power, you can use cross-validation to evaluate other activation functions, such as RReLU if your network is overfitting or PReLU if you have a huge training set.\n",
    "- That said, because\n",
    "- ReLU is the most used activation function (by far), many libraries and hardware accelerators provide ReLU-specific optimizations; therefore, if speed is your priority, ReLU might still be the best choice."
   ]
  },
  {
   "cell_type": "markdown",
   "id": "spanish-oxide",
   "metadata": {},
   "source": [
    "## Batch Normalization\n",
    "- Although using He initialization along with ELU (or any variant of ReLU) can significantly reduce the danger of the vanishing/exploding gradients problems at the beginning of training, it doesn’t guarantee that they won’t come back during training.\n",
    "- In a 2015 paper, Sergey Ioffe and Christian Szegedy proposed a technique called **Batch Normalization(BN)** that addresses these problems.\n",
    "- The technique consists of **adding an operation in the model just before or after the activation function of each hidden layer.**\n",
    "    - This operation simply zerocenters and normalizes each input, then scales and shifts the result using two new parameter vectors per layer: one for scaling, the other for shifting.\n",
    "    - In other words, **the operation lets the model learn the optimal scale and mean of each of the layer’s inputs.**\n",
    "    - In many cases, **if you add a BN layer as the very first layer of your neural network, you do not need to standardize your training set (e.g., using a StandardScaler); the BN layer will do it for you** (well, approximately, since it only looks at one batch at a time, and it can also rescale and shift each input feature).\n",
    "- In order to zero-center and normalize the inputs, the algorithm needs to estimate each input’s mean and standard deviation. \n",
    "    - It does so by evaluating the mean and standard deviation of the input over the current mini-batch (hence the name “Batch Normalization”). "
   ]
  },
  {
   "cell_type": "code",
   "execution_count": 34,
   "id": "chemical-delhi",
   "metadata": {},
   "outputs": [],
   "source": [
    "model = keras.models.Sequential([\n",
    "    keras.layers.Flatten(input_shape=[28, 28]),\n",
    "    keras.layers.BatchNormalization(),\n",
    "    keras.layers.Dense(300, activation=\"relu\"), \n",
    "    keras.layers.BatchNormalization(),\n",
    "    keras.layers.Dense(100, activation=\"relu\"),\n",
    "    keras.layers.BatchNormalization(),\n",
    "    keras.layers.Dense(10, activation=\"softmax\")\n",
    "])"
   ]
  },
  {
   "cell_type": "code",
   "execution_count": 35,
   "id": "acute-neighborhood",
   "metadata": {},
   "outputs": [
    {
     "name": "stdout",
     "output_type": "stream",
     "text": [
      "Model: \"sequential_4\"\n",
      "_________________________________________________________________\n",
      "Layer (type)                 Output Shape              Param #   \n",
      "=================================================================\n",
      "flatten_4 (Flatten)          (None, 784)               0         \n",
      "_________________________________________________________________\n",
      "batch_normalization (BatchNo (None, 784)               3136      \n",
      "_________________________________________________________________\n",
      "dense_212 (Dense)            (None, 300)               235500    \n",
      "_________________________________________________________________\n",
      "batch_normalization_1 (Batch (None, 300)               1200      \n",
      "_________________________________________________________________\n",
      "dense_213 (Dense)            (None, 100)               30100     \n",
      "_________________________________________________________________\n",
      "batch_normalization_2 (Batch (None, 100)               400       \n",
      "_________________________________________________________________\n",
      "dense_214 (Dense)            (None, 10)                1010      \n",
      "=================================================================\n",
      "Total params: 271,346\n",
      "Trainable params: 268,978\n",
      "Non-trainable params: 2,368\n",
      "_________________________________________________________________\n"
     ]
    }
   ],
   "source": [
    "model.summary()"
   ]
  },
  {
   "cell_type": "markdown",
   "id": "rational-glossary",
   "metadata": {},
   "source": [
    "- As you can see, each BN layer adds four parameters per input: γ, β, μ, and σ (for example, the first BN layer adds 3,136 parameters, which is 4 × 784).\n",
    "- The last two parameters, μ and σ, are the moving averages; they are not affected by backpropagation, so Keras calls them “non-trainable” (if you count the total number of BN parameters, 3,136 + 1,200 + 400, and divide by 2, you get 2,368, which is the total number of non-trainable parameters in this model)."
   ]
  },
  {
   "cell_type": "markdown",
   "id": "upper-heath",
   "metadata": {},
   "source": [
    "- Batch Normalization acts like a regularizer, reducing the need for other regularization techniques.\n",
    "- Batch Normalization does, however, add some complexity to the model (although it can remove the need for normalizing the input data). \n",
    "- Moreover, there is a runtime penalty: the neural network makes slower predictions due to the extra computations required at each layer. \n",
    "- Fortunately, it’s often possible to fuse the BN layer with the previous layer, after training, thereby avoiding the runtime penalty. \n",
    "    - This is done by updating the previous layer’s weights and biases so that it directly produces outputs of the appropriate scale and offset."
   ]
  },
  {
   "cell_type": "markdown",
   "id": "flexible-instrumentation",
   "metadata": {},
   "source": [
    "Let’s look at the parameters of the first BN layer. Two are trainable (by backpropagation), and two are not:"
   ]
  },
  {
   "cell_type": "code",
   "execution_count": 36,
   "id": "defined-trinidad",
   "metadata": {},
   "outputs": [
    {
     "data": {
      "text/plain": [
       "[('batch_normalization/gamma:0', True),\n",
       " ('batch_normalization/beta:0', True),\n",
       " ('batch_normalization/moving_mean:0', False),\n",
       " ('batch_normalization/moving_variance:0', False)]"
      ]
     },
     "execution_count": 36,
     "metadata": {},
     "output_type": "execute_result"
    }
   ],
   "source": [
    "bn1 = model.layers[1]\n",
    "[(var.name, var.trainable) for var in bn1.variables]"
   ]
  },
  {
   "cell_type": "code",
   "execution_count": 37,
   "id": "requested-postcard",
   "metadata": {},
   "outputs": [],
   "source": [
    "model.compile(loss=\"sparse_categorical_crossentropy\",\n",
    "              optimizer=keras.optimizers.SGD(lr=1e-3),\n",
    "              metrics=[\"accuracy\"])"
   ]
  },
  {
   "cell_type": "code",
   "execution_count": 38,
   "id": "fancy-nashville",
   "metadata": {},
   "outputs": [
    {
     "name": "stdout",
     "output_type": "stream",
     "text": [
      "Epoch 1/10\n",
      "1719/1719 [==============================] - 12s 6ms/step - loss: 1.2287 - accuracy: 0.5994 - val_loss: 0.5525 - val_accuracy: 0.8230\n",
      "Epoch 2/10\n",
      "1719/1719 [==============================] - 10s 6ms/step - loss: 0.5995 - accuracy: 0.7958 - val_loss: 0.4724 - val_accuracy: 0.8472\n",
      "Epoch 3/10\n",
      "1719/1719 [==============================] - 10s 6ms/step - loss: 0.5312 - accuracy: 0.8173 - val_loss: 0.4375 - val_accuracy: 0.8550\n",
      "Epoch 4/10\n",
      "1719/1719 [==============================] - 9s 5ms/step - loss: 0.4885 - accuracy: 0.8293 - val_loss: 0.4151 - val_accuracy: 0.8598\n",
      "Epoch 5/10\n",
      "1719/1719 [==============================] - 9s 5ms/step - loss: 0.4718 - accuracy: 0.8343 - val_loss: 0.3996 - val_accuracy: 0.8636\n",
      "Epoch 6/10\n",
      "1719/1719 [==============================] - 9s 5ms/step - loss: 0.4420 - accuracy: 0.8458 - val_loss: 0.3866 - val_accuracy: 0.8690\n",
      "Epoch 7/10\n",
      "1719/1719 [==============================] - 10s 6ms/step - loss: 0.4286 - accuracy: 0.8497 - val_loss: 0.3761 - val_accuracy: 0.8700\n",
      "Epoch 8/10\n",
      "1719/1719 [==============================] - 10s 6ms/step - loss: 0.4087 - accuracy: 0.8552 - val_loss: 0.3712 - val_accuracy: 0.8740\n",
      "Epoch 9/10\n",
      "1719/1719 [==============================] - 10s 6ms/step - loss: 0.4080 - accuracy: 0.8563 - val_loss: 0.3630 - val_accuracy: 0.8752\n",
      "Epoch 10/10\n",
      "1719/1719 [==============================] - 10s 6ms/step - loss: 0.3903 - accuracy: 0.8615 - val_loss: 0.3571 - val_accuracy: 0.8762\n"
     ]
    }
   ],
   "source": [
    "history = model.fit(X_train, y_train, epochs=10,\n",
    "                    validation_data=(X_valid, y_valid))"
   ]
  },
  {
   "cell_type": "markdown",
   "id": "latter-favor",
   "metadata": {},
   "source": [
    "- Sometimes applying BN before the activation function works better (there's a debate on this topic).\n",
    "- **To add the BN layers before the activation functions, you must remove the activation function from the hidden layers and add them as separate layers after the BN layers.**\n",
    "- Moreover, the layer before a BatchNormalization layer does not need to have bias terms, since the BatchNormalization layer some as well, it would be a waste of parameters, so you can set use_bias=False when creating those layers:"
   ]
  },
  {
   "cell_type": "code",
   "execution_count": 39,
   "id": "welsh-jenny",
   "metadata": {},
   "outputs": [],
   "source": [
    "model = keras.models.Sequential([\n",
    "    keras.layers.Flatten(input_shape=[28, 28]),\n",
    "    keras.layers.BatchNormalization(),\n",
    "    keras.layers.Dense(300, use_bias=False),\n",
    "    keras.layers.BatchNormalization(),\n",
    "    keras.layers.Activation(\"relu\"),\n",
    "    keras.layers.Dense(100, use_bias=False),\n",
    "    keras.layers.BatchNormalization(),\n",
    "    keras.layers.Activation(\"relu\"),\n",
    "    keras.layers.Dense(10, activation=\"softmax\")\n",
    "])"
   ]
  },
  {
   "cell_type": "code",
   "execution_count": 40,
   "id": "logical-polish",
   "metadata": {},
   "outputs": [
    {
     "name": "stdout",
     "output_type": "stream",
     "text": [
      "Model: \"sequential_5\"\n",
      "_________________________________________________________________\n",
      "Layer (type)                 Output Shape              Param #   \n",
      "=================================================================\n",
      "flatten_5 (Flatten)          (None, 784)               0         \n",
      "_________________________________________________________________\n",
      "batch_normalization_3 (Batch (None, 784)               3136      \n",
      "_________________________________________________________________\n",
      "dense_215 (Dense)            (None, 300)               235200    \n",
      "_________________________________________________________________\n",
      "batch_normalization_4 (Batch (None, 300)               1200      \n",
      "_________________________________________________________________\n",
      "activation (Activation)      (None, 300)               0         \n",
      "_________________________________________________________________\n",
      "dense_216 (Dense)            (None, 100)               30000     \n",
      "_________________________________________________________________\n",
      "batch_normalization_5 (Batch (None, 100)               400       \n",
      "_________________________________________________________________\n",
      "activation_1 (Activation)    (None, 100)               0         \n",
      "_________________________________________________________________\n",
      "dense_217 (Dense)            (None, 10)                1010      \n",
      "=================================================================\n",
      "Total params: 270,946\n",
      "Trainable params: 268,578\n",
      "Non-trainable params: 2,368\n",
      "_________________________________________________________________\n"
     ]
    }
   ],
   "source": [
    "model.summary()"
   ]
  },
  {
   "cell_type": "code",
   "execution_count": 41,
   "id": "fantastic-resort",
   "metadata": {},
   "outputs": [],
   "source": [
    "model.compile(loss=\"sparse_categorical_crossentropy\",\n",
    "              optimizer=keras.optimizers.SGD(lr=1e-3),\n",
    "              metrics=[\"accuracy\"])"
   ]
  },
  {
   "cell_type": "code",
   "execution_count": 42,
   "id": "sought-provider",
   "metadata": {},
   "outputs": [
    {
     "name": "stdout",
     "output_type": "stream",
     "text": [
      "Epoch 1/10\n",
      "1719/1719 [==============================] - 12s 6ms/step - loss: 1.3677 - accuracy: 0.5604 - val_loss: 0.6767 - val_accuracy: 0.7816\n",
      "Epoch 2/10\n",
      "1719/1719 [==============================] - 10s 6ms/step - loss: 0.7136 - accuracy: 0.7701 - val_loss: 0.5566 - val_accuracy: 0.8180\n",
      "Epoch 3/10\n",
      "1719/1719 [==============================] - 10s 6ms/step - loss: 0.6123 - accuracy: 0.7991 - val_loss: 0.5007 - val_accuracy: 0.8360\n",
      "Epoch 4/10\n",
      "1719/1719 [==============================] - 10s 6ms/step - loss: 0.5547 - accuracy: 0.8148 - val_loss: 0.4666 - val_accuracy: 0.8448\n",
      "Epoch 5/10\n",
      "1719/1719 [==============================] - 10s 6ms/step - loss: 0.5254 - accuracy: 0.8231 - val_loss: 0.4434 - val_accuracy: 0.8536\n",
      "Epoch 6/10\n",
      "1719/1719 [==============================] - 10s 6ms/step - loss: 0.4947 - accuracy: 0.8326 - val_loss: 0.4263 - val_accuracy: 0.8546\n",
      "Epoch 7/10\n",
      "1719/1719 [==============================] - 10s 6ms/step - loss: 0.4736 - accuracy: 0.8388 - val_loss: 0.4130 - val_accuracy: 0.8568\n",
      "Epoch 8/10\n",
      "1719/1719 [==============================] - 10s 6ms/step - loss: 0.4550 - accuracy: 0.8446 - val_loss: 0.4035 - val_accuracy: 0.8606\n",
      "Epoch 9/10\n",
      "1719/1719 [==============================] - 10s 6ms/step - loss: 0.4495 - accuracy: 0.8438 - val_loss: 0.3943 - val_accuracy: 0.8640\n",
      "Epoch 10/10\n",
      "1719/1719 [==============================] - 10s 6ms/step - loss: 0.4333 - accuracy: 0.8495 - val_loss: 0.3875 - val_accuracy: 0.8662\n"
     ]
    }
   ],
   "source": [
    "history = model.fit(X_train, y_train, epochs=10,\n",
    "                    validation_data=(X_valid, y_valid))"
   ]
  },
  {
   "cell_type": "markdown",
   "id": "prompt-performance",
   "metadata": {},
   "source": [
    "## Gradient Clipping\n",
    "- Another popular technique to mitigate the exploding gradients problem is to clip the gradients during backpropagation so that they never exceed some threshold.\n",
    "    - This is called Gradient Clipping. \n",
    "    - This technique is most often used in recurrent neural networks, as Batch Normalization is tricky to use in RNNs.\n",
    "- For other types of networks, BN is usually sufficient.\n",
    "\n",
    "In Keras, implementing Gradient Clipping is just a matter of setting the **clipvalue** or **clipnorm** argument when creating an optimizer, like this:"
   ]
  },
  {
   "cell_type": "code",
   "execution_count": 43,
   "id": "abstract-identity",
   "metadata": {},
   "outputs": [],
   "source": [
    "optimizer = keras.optimizers.SGD(clipvalue=1.0)"
   ]
  },
  {
   "cell_type": "markdown",
   "id": "valid-burns",
   "metadata": {},
   "source": [
    "- This optimizer will clip every component of the gradient vector to a value between –1.0 and 1.0. This means that all the partial derivatives of the loss (with regard to each and every trainable parameter) will be clipped between –1.0 and 1.0. \n",
    "- The threshold is a hyperparameter you can tune. Note that it may change the orientation of the gradient vector. \n",
    "    - For instance, if the original gradient vector is [0.9, 100.0], it points mostly in the direction of the second axis; but once you clip it by value, you get [0.9, 1.0], which points roughly in the diagonal between the two axes. \n",
    "    - In practice, this approach works well."
   ]
  },
  {
   "cell_type": "code",
   "execution_count": 44,
   "id": "through-consultation",
   "metadata": {},
   "outputs": [],
   "source": [
    "optimizer = keras.optimizers.SGD(clipnorm=1.0)"
   ]
  },
  {
   "cell_type": "markdown",
   "id": "pleased-credit",
   "metadata": {},
   "source": [
    "- If you want to ensure that Gradient Clipping does not change the direction of the gradient vector, you should clip by norm by setting clipnorm instead of clipvalue. \n",
    "- This will clip the whole gradient if its $ℓ_2$ norm is greater than the threshold you picked. \n",
    "    - For example, if you set clipnorm=1.0, then the vector [0.9, 100.0] will be clipped to [0.00899964, 0.9999595], preserving its orientation but almost eliminating the first component.\n",
    "- If you observe that the gradients explode during training (you can track the size of the gradients using TensorBoard), you may want to try both clipping by value and clipping by norm, with different thresholds, and see which option performs best on the validation set."
   ]
  },
  {
   "cell_type": "markdown",
   "id": "dying-component",
   "metadata": {},
   "source": [
    "## Reusing Pretrained Layers\n",
    "- It is generally not a good idea to train a very large DNN from scratch: instead, you should always try to find an existing neural network that accomplishes a similar task to the one you are trying to tackle, then reuse the lower layers of this network.\n",
    "    - This technique is called **transfer learning.**\n",
    "- It will not only speed up training considerably, but also require significantly less training data.\n",
    "***\n",
    "- Suppose you have access to a DNN that was trained to classify pictures into 100 different categories, including animals, plants, vehicles, and everyday objects. \n",
    "- You now want to train a DNN to classify specific types of vehicles.\n",
    "    - These tasks are very similar, even partly overlapping, so you should try to reuse parts of the first network.\n",
    "\n",
    "<img src=\"11-4.png\">\n",
    "\n",
    "### NOTE\n",
    "- If the input pictures of your new task don’t have the same size as the ones used in the original task, you will usually have to add a preprocessing step to **resize them to the size expected by the original model.** \n",
    "- More generally, **transfer learning will work best when the inputs have similar low-level features.**\n",
    "***"
   ]
  },
  {
   "cell_type": "markdown",
   "id": "informational-syndication",
   "metadata": {},
   "source": [
    "- **The output layer of the original model should usually be replaced because it is most likely not useful at all for the new task, and it may not even have the right number of outputs for the new task.**\n",
    "- Similarly, the upper hidden layers of the original model are less likely to be as useful as the lower layers, since the high-level features that are most useful for the new task may differ significantly from the ones that were most useful for the original task. \n",
    "    - You want to find the right number of layers to reuse.\n",
    "### TIP\n",
    "- **The more similar the tasks are, the more layers you want to reuse (starting with the lower layers).** \n",
    "- **For very similar tasks, try keeping all the hidden layers and just replacing the output layer.**\n",
    "***"
   ]
  },
  {
   "cell_type": "markdown",
   "id": "experimental-resident",
   "metadata": {},
   "source": [
    "- Try freezing all the reused layers first (i.e., make their weights non-trainable so that Gradient Descent won’t modify them), then train your model and see how it performs. \n",
    "- Then try unfreezing one or two of the top hidden layers to let backpropagation tweak them and see if performance improves. \n",
    "    - The more training data you have, the more layers you can unfreeze. \n",
    "    - **It is also useful to reduce the learning rate when you unfreeze reused layers**: this will avoid wrecking their fine-tuned weights.\n",
    "- If you still cannot get good performance, and you have little training data, try dropping the top hidden layer(s) and freezing all the remaining hidden layers again.\n",
    "    - You can iterate until you find the right number of layers to reuse. \n",
    "    - If you have plenty of training data, you may try replacing the top hidden layers instead of dropping them, and even adding more hidden layers."
   ]
  },
  {
   "cell_type": "markdown",
   "id": "further-ethics",
   "metadata": {},
   "source": [
    "### Reusing a Keras model\n",
    "Let's split the fashion MNIST training set in two:\n",
    "\n",
    "- X_train_A: all images of all items except for sandals and shirts (classes 5 and 6).\n",
    "- X_train_B: a much smaller training set of just the first 200 images of sandals or shirts.\n",
    "\n",
    "The validation set and the test set are also split this way, but without restricting the number of images.\n",
    "\n",
    "- We will train a model on set A (classification task with 8 classes), and try to reuse it to tackle set B (binary classification).(positive=shirt,negative=sandal).\n",
    "- We hope to transfer a little bit of knowledge from task A to task B, since classes in set A (sneakers, ankle boots, coats, t-shirts, etc.) are somewhat similar to classes in set B (sandals and shirts). \n",
    "- However, since we are using Dense layers, only patterns that occur at the same location can be reused (in contrast, convolutional layers will transfer much better, since learned patterns can be detected anywhere on the image)."
   ]
  },
  {
   "cell_type": "code",
   "execution_count": 45,
   "id": "nuclear-folks",
   "metadata": {},
   "outputs": [],
   "source": [
    "def split_dataset(X, y):\n",
    "    y_5_or_6 = (y == 5) | (y == 6) # sandals or shirts\n",
    "    y_A = y[~y_5_or_6]\n",
    "    y_A[y_A > 6] -= 2 # class indices 7, 8, 9 should be moved to 5, 6, 7\n",
    "    y_B = (y[y_5_or_6] == 6).astype(np.float32) # binary classification task: is it a shirt (class 6)?\n",
    "    return ((X[~y_5_or_6], y_A),\n",
    "            (X[y_5_or_6], y_B))\n",
    "\n",
    "(X_train_A, y_train_A), (X_train_B, y_train_B) = split_dataset(X_train, y_train)\n",
    "(X_valid_A, y_valid_A), (X_valid_B, y_valid_B) = split_dataset(X_valid, y_valid)\n",
    "(X_test_A, y_test_A), (X_test_B, y_test_B) = split_dataset(X_test, y_test)\n",
    "X_train_B = X_train_B[:200]\n",
    "y_train_B = y_train_B[:200]"
   ]
  },
  {
   "cell_type": "code",
   "execution_count": 46,
   "id": "popular-briefs",
   "metadata": {},
   "outputs": [
    {
     "data": {
      "text/plain": [
       "(43986, 28, 28)"
      ]
     },
     "execution_count": 46,
     "metadata": {},
     "output_type": "execute_result"
    }
   ],
   "source": [
    "X_train_A.shape"
   ]
  },
  {
   "cell_type": "code",
   "execution_count": 47,
   "id": "humanitarian-integration",
   "metadata": {},
   "outputs": [
    {
     "data": {
      "text/plain": [
       "(200, 28, 28)"
      ]
     },
     "execution_count": 47,
     "metadata": {},
     "output_type": "execute_result"
    }
   ],
   "source": [
    "X_train_B.shape"
   ]
  },
  {
   "cell_type": "code",
   "execution_count": 48,
   "id": "correct-mystery",
   "metadata": {},
   "outputs": [
    {
     "data": {
      "text/plain": [
       "array([4, 0, 5, 7, 7, 7, 4, 4, 3, 4, 0, 1, 6, 3, 4, 3, 2, 6, 5, 3, 4, 5,\n",
       "       1, 3, 4, 2, 0, 6, 7, 1], dtype=uint8)"
      ]
     },
     "execution_count": 48,
     "metadata": {},
     "output_type": "execute_result"
    }
   ],
   "source": [
    "y_train_A[:30]"
   ]
  },
  {
   "cell_type": "code",
   "execution_count": 49,
   "id": "static-supplement",
   "metadata": {},
   "outputs": [
    {
     "data": {
      "text/plain": [
       "array([1., 1., 0., 0., 0., 0., 1., 1., 1., 0., 0., 1., 1., 0., 0., 0., 0.,\n",
       "       0., 0., 1., 1., 0., 0., 1., 1., 0., 1., 1., 1., 1.], dtype=float32)"
      ]
     },
     "execution_count": 49,
     "metadata": {},
     "output_type": "execute_result"
    }
   ],
   "source": [
    "y_train_B[:30]"
   ]
  },
  {
   "cell_type": "code",
   "execution_count": 50,
   "id": "hundred-korean",
   "metadata": {},
   "outputs": [],
   "source": [
    "tf.random.set_seed(42)\n",
    "np.random.seed(42)"
   ]
  },
  {
   "cell_type": "code",
   "execution_count": 51,
   "id": "rental-duration",
   "metadata": {},
   "outputs": [],
   "source": [
    "model_A = keras.models.Sequential()\n",
    "model_A.add(keras.layers.Flatten(input_shape=[28, 28]))\n",
    "for n_hidden in (300, 100, 50, 50, 50):\n",
    "    model_A.add(keras.layers.Dense(n_hidden, activation=\"selu\"))\n",
    "model_A.add(keras.layers.Dense(8, activation=\"softmax\"))"
   ]
  },
  {
   "cell_type": "code",
   "execution_count": 52,
   "id": "nervous-converter",
   "metadata": {},
   "outputs": [],
   "source": [
    "model_A.compile(loss=\"sparse_categorical_crossentropy\",\n",
    "                optimizer=keras.optimizers.SGD(lr=1e-3),\n",
    "               metrics=[\"accuracy\"])"
   ]
  },
  {
   "cell_type": "code",
   "execution_count": 53,
   "id": "muslim-youth",
   "metadata": {},
   "outputs": [
    {
     "name": "stdout",
     "output_type": "stream",
     "text": [
      "Epoch 1/20\n",
      "1375/1375 [==============================] - 7s 4ms/step - loss: 0.9248 - accuracy: 0.6995 - val_loss: 0.3894 - val_accuracy: 0.8662\n",
      "Epoch 2/20\n",
      "1375/1375 [==============================] - 6s 4ms/step - loss: 0.3651 - accuracy: 0.8745 - val_loss: 0.3288 - val_accuracy: 0.8827\n",
      "Epoch 3/20\n",
      "1375/1375 [==============================] - 6s 4ms/step - loss: 0.3182 - accuracy: 0.8898 - val_loss: 0.3011 - val_accuracy: 0.8991\n",
      "Epoch 4/20\n",
      "1375/1375 [==============================] - 6s 4ms/step - loss: 0.3048 - accuracy: 0.8955 - val_loss: 0.2894 - val_accuracy: 0.9023\n",
      "Epoch 5/20\n",
      "1375/1375 [==============================] - 6s 4ms/step - loss: 0.2804 - accuracy: 0.9029 - val_loss: 0.2772 - val_accuracy: 0.9071\n",
      "Epoch 6/20\n",
      "1375/1375 [==============================] - 6s 4ms/step - loss: 0.2702 - accuracy: 0.9078 - val_loss: 0.2734 - val_accuracy: 0.9071\n",
      "Epoch 7/20\n",
      "1375/1375 [==============================] - 6s 4ms/step - loss: 0.2627 - accuracy: 0.9092 - val_loss: 0.2715 - val_accuracy: 0.9088\n",
      "Epoch 8/20\n",
      "1375/1375 [==============================] - 6s 4ms/step - loss: 0.2610 - accuracy: 0.9119 - val_loss: 0.2589 - val_accuracy: 0.9138\n",
      "Epoch 9/20\n",
      "1375/1375 [==============================] - 6s 4ms/step - loss: 0.2559 - accuracy: 0.9109 - val_loss: 0.2563 - val_accuracy: 0.9145\n",
      "Epoch 10/20\n",
      "1375/1375 [==============================] - 6s 4ms/step - loss: 0.2512 - accuracy: 0.9140 - val_loss: 0.2542 - val_accuracy: 0.9168\n",
      "Epoch 11/20\n",
      "1375/1375 [==============================] - 6s 4ms/step - loss: 0.2431 - accuracy: 0.9172 - val_loss: 0.2496 - val_accuracy: 0.9150\n",
      "Epoch 12/20\n",
      "1375/1375 [==============================] - 6s 4ms/step - loss: 0.2423 - accuracy: 0.9171 - val_loss: 0.2511 - val_accuracy: 0.9131\n",
      "Epoch 13/20\n",
      "1375/1375 [==============================] - 6s 4ms/step - loss: 0.2360 - accuracy: 0.9181 - val_loss: 0.2446 - val_accuracy: 0.9155\n",
      "Epoch 14/20\n",
      "1375/1375 [==============================] - 6s 4ms/step - loss: 0.2266 - accuracy: 0.9230 - val_loss: 0.2414 - val_accuracy: 0.9173\n",
      "Epoch 15/20\n",
      "1375/1375 [==============================] - 6s 4ms/step - loss: 0.2225 - accuracy: 0.9241 - val_loss: 0.2447 - val_accuracy: 0.9193\n",
      "Epoch 16/20\n",
      "1375/1375 [==============================] - 6s 4ms/step - loss: 0.2261 - accuracy: 0.9213 - val_loss: 0.2383 - val_accuracy: 0.9195\n",
      "Epoch 17/20\n",
      "1375/1375 [==============================] - 6s 4ms/step - loss: 0.2191 - accuracy: 0.9252 - val_loss: 0.2405 - val_accuracy: 0.9173\n",
      "Epoch 18/20\n",
      "1375/1375 [==============================] - 6s 4ms/step - loss: 0.2171 - accuracy: 0.9253 - val_loss: 0.2422 - val_accuracy: 0.9150\n",
      "Epoch 19/20\n",
      "1375/1375 [==============================] - 6s 4ms/step - loss: 0.2180 - accuracy: 0.9249 - val_loss: 0.2329 - val_accuracy: 0.9205\n",
      "Epoch 20/20\n",
      "1375/1375 [==============================] - 6s 4ms/step - loss: 0.2113 - accuracy: 0.9271 - val_loss: 0.2333 - val_accuracy: 0.9205\n"
     ]
    }
   ],
   "source": [
    "history = model_A.fit(X_train_A, y_train_A, epochs=20, \n",
    "                   validation_data=(X_valid_A, y_valid_A))"
   ]
  },
  {
   "cell_type": "code",
   "execution_count": 54,
   "id": "precious-emerald",
   "metadata": {},
   "outputs": [],
   "source": [
    "model_A.save(\"my_model_A.h5\")"
   ]
  },
  {
   "cell_type": "code",
   "execution_count": 55,
   "id": "smart-mozambique",
   "metadata": {},
   "outputs": [],
   "source": [
    "model_B = keras.models.Sequential()\n",
    "model_B.add(keras.layers.Flatten(input_shape=[28, 28]))\n",
    "for n_hidden in (300, 100, 50, 50, 50):\n",
    "    model_B.add(keras.layers.Dense(n_hidden, activation=\"selu\"))\n",
    "model_B.add(keras.layers.Dense(1, activation=\"sigmoid\"))"
   ]
  },
  {
   "cell_type": "code",
   "execution_count": 56,
   "id": "ahead-museum",
   "metadata": {},
   "outputs": [],
   "source": [
    "model_B.compile(loss=\"binary_crossentropy\",\n",
    "                optimizer=keras.optimizers.SGD(lr=1e-3),\n",
    "                metrics=[\"accuracy\"])"
   ]
  },
  {
   "cell_type": "code",
   "execution_count": 57,
   "id": "prerequisite-poland",
   "metadata": {},
   "outputs": [
    {
     "name": "stdout",
     "output_type": "stream",
     "text": [
      "Epoch 1/20\n",
      "7/7 [==============================] - 1s 71ms/step - loss: 1.0360 - accuracy: 0.4975 - val_loss: 0.6314 - val_accuracy: 0.6004\n",
      "Epoch 2/20\n",
      "7/7 [==============================] - 0s 28ms/step - loss: 0.5883 - accuracy: 0.6971 - val_loss: 0.4784 - val_accuracy: 0.8529\n",
      "Epoch 3/20\n",
      "7/7 [==============================] - 0s 27ms/step - loss: 0.4380 - accuracy: 0.8854 - val_loss: 0.4102 - val_accuracy: 0.8945\n",
      "Epoch 4/20\n",
      "7/7 [==============================] - 0s 28ms/step - loss: 0.4021 - accuracy: 0.8712 - val_loss: 0.3647 - val_accuracy: 0.9178\n",
      "Epoch 5/20\n",
      "7/7 [==============================] - 0s 27ms/step - loss: 0.3361 - accuracy: 0.9348 - val_loss: 0.3300 - val_accuracy: 0.9320\n",
      "Epoch 6/20\n",
      "7/7 [==============================] - 0s 27ms/step - loss: 0.3113 - accuracy: 0.9233 - val_loss: 0.3019 - val_accuracy: 0.9402\n",
      "Epoch 7/20\n",
      "7/7 [==============================] - 0s 27ms/step - loss: 0.2817 - accuracy: 0.9299 - val_loss: 0.2804 - val_accuracy: 0.9422\n",
      "Epoch 8/20\n",
      "7/7 [==============================] - 0s 27ms/step - loss: 0.2632 - accuracy: 0.9379 - val_loss: 0.2606 - val_accuracy: 0.9473\n",
      "Epoch 9/20\n",
      "7/7 [==============================] - 0s 27ms/step - loss: 0.2373 - accuracy: 0.9481 - val_loss: 0.2428 - val_accuracy: 0.9523\n",
      "Epoch 10/20\n",
      "7/7 [==============================] - 0s 30ms/step - loss: 0.2229 - accuracy: 0.9657 - val_loss: 0.2281 - val_accuracy: 0.9544\n",
      "Epoch 11/20\n",
      "7/7 [==============================] - 0s 27ms/step - loss: 0.2155 - accuracy: 0.9590 - val_loss: 0.2150 - val_accuracy: 0.9584\n",
      "Epoch 12/20\n",
      "7/7 [==============================] - 0s 27ms/step - loss: 0.1834 - accuracy: 0.9738 - val_loss: 0.2036 - val_accuracy: 0.9584\n",
      "Epoch 13/20\n",
      "7/7 [==============================] - 0s 27ms/step - loss: 0.1671 - accuracy: 0.9828 - val_loss: 0.1931 - val_accuracy: 0.9615\n",
      "Epoch 14/20\n",
      "7/7 [==============================] - 0s 27ms/step - loss: 0.1527 - accuracy: 0.9915 - val_loss: 0.1838 - val_accuracy: 0.9635\n",
      "Epoch 15/20\n",
      "7/7 [==============================] - 0s 27ms/step - loss: 0.1595 - accuracy: 0.9904 - val_loss: 0.1746 - val_accuracy: 0.9686\n",
      "Epoch 16/20\n",
      "7/7 [==============================] - 0s 28ms/step - loss: 0.1473 - accuracy: 0.9937 - val_loss: 0.1674 - val_accuracy: 0.9686\n",
      "Epoch 17/20\n",
      "7/7 [==============================] - 0s 27ms/step - loss: 0.1412 - accuracy: 0.9944 - val_loss: 0.1604 - val_accuracy: 0.9706\n",
      "Epoch 18/20\n",
      "7/7 [==============================] - 0s 27ms/step - loss: 0.1242 - accuracy: 0.9931 - val_loss: 0.1539 - val_accuracy: 0.9706\n",
      "Epoch 19/20\n",
      "7/7 [==============================] - 0s 27ms/step - loss: 0.1224 - accuracy: 0.9931 - val_loss: 0.1482 - val_accuracy: 0.9716\n",
      "Epoch 20/20\n",
      "7/7 [==============================] - 0s 27ms/step - loss: 0.1096 - accuracy: 0.9912 - val_loss: 0.1431 - val_accuracy: 0.9716\n"
     ]
    }
   ],
   "source": [
    "history = model_B.fit(X_train_B, y_train_B, epochs=20,\n",
    "                      validation_data=(X_valid_B, y_valid_B))"
   ]
  },
  {
   "cell_type": "code",
   "execution_count": 58,
   "id": "complimentary-amateur",
   "metadata": {},
   "outputs": [
    {
     "name": "stdout",
     "output_type": "stream",
     "text": [
      "Model: \"sequential_7\"\n",
      "_________________________________________________________________\n",
      "Layer (type)                 Output Shape              Param #   \n",
      "=================================================================\n",
      "flatten_7 (Flatten)          (None, 784)               0         \n",
      "_________________________________________________________________\n",
      "dense_224 (Dense)            (None, 300)               235500    \n",
      "_________________________________________________________________\n",
      "dense_225 (Dense)            (None, 100)               30100     \n",
      "_________________________________________________________________\n",
      "dense_226 (Dense)            (None, 50)                5050      \n",
      "_________________________________________________________________\n",
      "dense_227 (Dense)            (None, 50)                2550      \n",
      "_________________________________________________________________\n",
      "dense_228 (Dense)            (None, 50)                2550      \n",
      "_________________________________________________________________\n",
      "dense_229 (Dense)            (None, 1)                 51        \n",
      "=================================================================\n",
      "Total params: 275,801\n",
      "Trainable params: 275,801\n",
      "Non-trainable params: 0\n",
      "_________________________________________________________________\n"
     ]
    }
   ],
   "source": [
    "model_B.summary()"
   ]
  },
  {
   "cell_type": "markdown",
   "id": "optimum-pharmacology",
   "metadata": {},
   "source": [
    "#### First, you need to load model A and create a new model based on that model’s layers. Let’s reuse all the layers except for the output layer:"
   ]
  },
  {
   "cell_type": "code",
   "execution_count": 59,
   "id": "religious-possibility",
   "metadata": {},
   "outputs": [],
   "source": [
    "model_A = keras.models.load_model(\"my_model_A.h5\")\n",
    "model_B_on_A = keras.models.Sequential(model_A.layers[:-1])\n",
    "model_B_on_A.add(keras.layers.Dense(1, activation=\"sigmoid\"))"
   ]
  },
  {
   "cell_type": "markdown",
   "id": "enhanced-inspector",
   "metadata": {},
   "source": [
    "- Note that model_A and model_B_on_A now share some layers. \n",
    "    - When you train model_B_on_A, it will also affect model_A.\n",
    "- If you want to avoid that, you need to **clone model_A before you reuse its layers.**\n",
    "    - To do this, you clone model A’s architecture with **clone.model()**, then copy its weights (since clone_model() does not clone the weights):"
   ]
  },
  {
   "cell_type": "code",
   "execution_count": 60,
   "id": "determined-bangladesh",
   "metadata": {},
   "outputs": [],
   "source": [
    "model_A_clone = keras.models.clone_model(model_A)\n",
    "model_A_clone.set_weights(model_A.get_weights())"
   ]
  },
  {
   "cell_type": "markdown",
   "id": "atlantic-asthma",
   "metadata": {},
   "source": [
    "- Now you could train model_B_on_A for task B, but since the new output layer was initialized randomly it will make large errors (at least during the first few epochs), so there will be large error gradients that may wreck the reused weights.\n",
    "- **To avoid this, one approach is to freeze the reused layers during the first few epochs,** giving the new layer some time to learn reasonable weights. \n",
    "    - To do this, **set every layer’s trainable attribute to False and compile the model:**\n",
    "\n",
    "### NOTE\n",
    "#### You must always compile your model after you freeze or unfreeze layers."
   ]
  },
  {
   "cell_type": "code",
   "execution_count": 61,
   "id": "discrete-chapel",
   "metadata": {},
   "outputs": [],
   "source": [
    "for layer in model_B_on_A.layers[:-1]:\n",
    "    layer.trainable = False\n",
    "\n",
    "model_B_on_A.compile(loss=\"binary_crossentropy\",\n",
    "                     optimizer=keras.optimizers.SGD(lr=1e-3),\n",
    "                     metrics=[\"accuracy\"])"
   ]
  },
  {
   "cell_type": "markdown",
   "id": "enormous-sweden",
   "metadata": {},
   "source": [
    "- Now you can **train the model for a few epochs, then unfreeze the reused layers (which requires compiling the model again)** and continue training to fine-tune the reused layers for task B.\n",
    "- **After unfreezing the reused layers, it is usually a good idea to reduce the learning rate**, once again to avoid damaging the reused weights:"
   ]
  },
  {
   "cell_type": "code",
   "execution_count": 62,
   "id": "united-maximum",
   "metadata": {},
   "outputs": [
    {
     "name": "stdout",
     "output_type": "stream",
     "text": [
      "Epoch 1/4\n",
      "7/7 [==============================] - 1s 72ms/step - loss: 0.6101 - accuracy: 0.6184 - val_loss: 0.5798 - val_accuracy: 0.6379\n",
      "Epoch 2/4\n",
      "7/7 [==============================] - 0s 26ms/step - loss: 0.5503 - accuracy: 0.6783 - val_loss: 0.5427 - val_accuracy: 0.6836\n",
      "Epoch 3/4\n",
      "7/7 [==============================] - 0s 27ms/step - loss: 0.4850 - accuracy: 0.7558 - val_loss: 0.5109 - val_accuracy: 0.7140\n",
      "Epoch 4/4\n",
      "7/7 [==============================] - 0s 25ms/step - loss: 0.4852 - accuracy: 0.7455 - val_loss: 0.4824 - val_accuracy: 0.7373\n",
      "Epoch 1/16\n",
      "7/7 [==============================] - 1s 72ms/step - loss: 0.4347 - accuracy: 0.7823 - val_loss: 0.3443 - val_accuracy: 0.8651\n",
      "Epoch 2/16\n",
      "7/7 [==============================] - 0s 28ms/step - loss: 0.2954 - accuracy: 0.9143 - val_loss: 0.2592 - val_accuracy: 0.9290\n",
      "Epoch 3/16\n",
      "7/7 [==============================] - 0s 27ms/step - loss: 0.2023 - accuracy: 0.9777 - val_loss: 0.2103 - val_accuracy: 0.9554\n",
      "Epoch 4/16\n",
      "7/7 [==============================] - 0s 27ms/step - loss: 0.1744 - accuracy: 0.9789 - val_loss: 0.1786 - val_accuracy: 0.9696\n",
      "Epoch 5/16\n",
      "7/7 [==============================] - 0s 32ms/step - loss: 0.1341 - accuracy: 0.9809 - val_loss: 0.1558 - val_accuracy: 0.9757\n",
      "Epoch 6/16\n",
      "7/7 [==============================] - 0s 28ms/step - loss: 0.1166 - accuracy: 0.9973 - val_loss: 0.1390 - val_accuracy: 0.9797\n",
      "Epoch 7/16\n",
      "7/7 [==============================] - 0s 27ms/step - loss: 0.1133 - accuracy: 0.9931 - val_loss: 0.1264 - val_accuracy: 0.9838\n",
      "Epoch 8/16\n",
      "7/7 [==============================] - 0s 28ms/step - loss: 0.0996 - accuracy: 0.9931 - val_loss: 0.1162 - val_accuracy: 0.9858\n",
      "Epoch 9/16\n",
      "7/7 [==============================] - 0s 27ms/step - loss: 0.0831 - accuracy: 1.0000 - val_loss: 0.1064 - val_accuracy: 0.9888\n",
      "Epoch 10/16\n",
      "7/7 [==============================] - 0s 27ms/step - loss: 0.0773 - accuracy: 1.0000 - val_loss: 0.0999 - val_accuracy: 0.9899\n",
      "Epoch 11/16\n",
      "7/7 [==============================] - 0s 27ms/step - loss: 0.0687 - accuracy: 1.0000 - val_loss: 0.0939 - val_accuracy: 0.9899\n",
      "Epoch 12/16\n",
      "7/7 [==============================] - 0s 28ms/step - loss: 0.0717 - accuracy: 1.0000 - val_loss: 0.0887 - val_accuracy: 0.9899\n",
      "Epoch 13/16\n",
      "7/7 [==============================] - 0s 28ms/step - loss: 0.0565 - accuracy: 1.0000 - val_loss: 0.0838 - val_accuracy: 0.9899\n",
      "Epoch 14/16\n",
      "7/7 [==============================] - 0s 28ms/step - loss: 0.0493 - accuracy: 1.0000 - val_loss: 0.0802 - val_accuracy: 0.9899\n",
      "Epoch 15/16\n",
      "7/7 [==============================] - 0s 27ms/step - loss: 0.0543 - accuracy: 1.0000 - val_loss: 0.0768 - val_accuracy: 0.9899\n",
      "Epoch 16/16\n",
      "7/7 [==============================] - 0s 28ms/step - loss: 0.0470 - accuracy: 1.0000 - val_loss: 0.0738 - val_accuracy: 0.9899\n"
     ]
    }
   ],
   "source": [
    "history = model_B_on_A.fit(X_train_B, y_train_B, epochs=4,\n",
    "                           validation_data=(X_valid_B, y_valid_B))\n",
    "\n",
    "for layer in model_B_on_A.layers[:-1]:\n",
    "    layer.trainable = True\n",
    "    \n",
    "model_B_on_A.compile(loss=\"binary_crossentropy\",\n",
    "                     optimizer=keras.optimizers.SGD(lr=1e-3),\n",
    "                     metrics=[\"accuracy\"])\n",
    "history = model_B_on_A.fit(X_train_B, y_train_B, epochs=16,\n",
    "                           validation_data=(X_valid_B, y_valid_B))"
   ]
  },
  {
   "cell_type": "markdown",
   "id": "british-winning",
   "metadata": {},
   "source": [
    "So, what's the final verdict?"
   ]
  },
  {
   "cell_type": "code",
   "execution_count": 63,
   "id": "pleasant-store",
   "metadata": {},
   "outputs": [
    {
     "name": "stdout",
     "output_type": "stream",
     "text": [
      "63/63 [==============================] - 0s 3ms/step - loss: 0.1408 - accuracy: 0.9705\n"
     ]
    },
    {
     "data": {
      "text/plain": [
       "[0.1408407986164093, 0.9704999923706055]"
      ]
     },
     "execution_count": 63,
     "metadata": {},
     "output_type": "execute_result"
    }
   ],
   "source": [
    "model_B.evaluate(X_test_B, y_test_B)"
   ]
  },
  {
   "cell_type": "code",
   "execution_count": 64,
   "id": "occupational-restriction",
   "metadata": {},
   "outputs": [
    {
     "name": "stdout",
     "output_type": "stream",
     "text": [
      "63/63 [==============================] - 0s 3ms/step - loss: 0.0682 - accuracy: 0.9935\n"
     ]
    },
    {
     "data": {
      "text/plain": [
       "[0.06818398833274841, 0.9934999942779541]"
      ]
     },
     "execution_count": 64,
     "metadata": {},
     "output_type": "execute_result"
    }
   ],
   "source": [
    "model_B_on_A.evaluate(X_test_B, y_test_B)"
   ]
  },
  {
   "cell_type": "markdown",
   "id": "toxic-superintendent",
   "metadata": {},
   "source": [
    "Great! We got quite a bit of transfer: the error rate dropped by a factor of 8.2!"
   ]
  },
  {
   "cell_type": "code",
   "execution_count": 65,
   "id": "affiliated-editing",
   "metadata": {},
   "outputs": [
    {
     "data": {
      "text/plain": [
       "8.249999999999911"
      ]
     },
     "execution_count": 65,
     "metadata": {},
     "output_type": "execute_result"
    }
   ],
   "source": [
    "(100 - 98.35) / (100 - 99.8)"
   ]
  },
  {
   "cell_type": "markdown",
   "id": "worldwide-equivalent",
   "metadata": {},
   "source": [
    "- Are you convinced? You shouldn’t be: I cheated! I tried many configurations until I found one that demonstrated a strong improvement. If you try to change the classes or the random seed, you will see that the improvement generally drops, or even vanishes or reverses. What I did is called “torturing the data until it confesses.”\n",
    "- When a paper just looks too positive, you should be suspicious: perhaps the flashy new technique does not actually help much (in fact, it may even degrade performance), but the authors tried many variants and reported only the best results (which may be due to sheer luck), without mentioning how many failures they encountered on the way.\n",
    "    - Most of the time, this is not malicious at all, but it is part of the reason so many results in science can never be reproduced.\n",
    "- Why did I cheat? It turns out that **transfer learning does not work very well with small dense networks,** presumably because small networks learn few patterns, and dense networks learn very specific patterns, which are unlikely to be useful in other tasks. \n",
    "- **Transfer learning works best with deep convolutional neural networks,** which tend to learn feature detectors that are much more general (especially in the lower layers)."
   ]
  },
  {
   "cell_type": "markdown",
   "id": "motivated-voluntary",
   "metadata": {},
   "source": [
    "## Faster Optimizers\n",
    "- Training a very large deep neural network can be painfully slow. \n",
    "- So far we have seen four ways to speed up training (and reach a better solution):\n",
    "    - applying a good initialization strategy for the connection weights, \n",
    "    - using a good activation function, \n",
    "    - using Batch Normalization, \n",
    "    - and reusing parts of a pretrained network (possibly built on an auxiliary task or using unsupervised learning).\n",
    "- Another huge speed boost comes from using a faster optimizer than the regular Gradient Descent optimizer. \n",
    "- In this section we will present the most popular algorithms: \n",
    "    - **Momentum Optimization**, \n",
    "    - **Nesterov Accelerated Gradient**, \n",
    "    - **AdaGrad**, \n",
    "    - **RMSProp**, \n",
    "    - and finally **Adam and Nadam optimization**."
   ]
  },
  {
   "cell_type": "markdown",
   "id": "breathing-radiation",
   "metadata": {},
   "source": [
    "### Momentum Optimization\n",
    "- Imagine a bowling ball rolling down a gentle slope on a smooth surface: it will start out slowly, but it will quickly pick up momentum until it eventually reaches terminal velocity (if there is some friction or air resistance). \n",
    "- This is the very simple idea behind momentum optimization, proposed by Boris Polyak in 1964. \n",
    "- In contrast, regular Gradient Descent will simply take small, regular steps down the slope, so the algorithm will take much more time to reach the bottom.\n",
    "***\n",
    "- Gradient Descent updates the weights θ by directly subtracting the gradient of the cost function with regard to the weights multiplied by the learning rate η.\n",
    "    - It does not care about what the earlier gradients were. If the local gradient is tiny, it goes very slowly.\n",
    "- Momentum optimization cares a great deal about what previous gradients were: at each iteration, it subtracts the local gradient from the momentum vector m (multiplied by the learning rate η), and it updates the weights by adding this momentum vector.\n",
    "- In other words, the gradient is used for acceleration, not for speed. \n",
    "- To simulate some sort of friction mechanism and prevent the momentum from growing too large, the algorithm introduces a **new hyperparameter β, called the momentum**, \n",
    "    - which must be set between **0 (high friction)** and **1 (no friction)**. \n",
    "    - **A typical momentum value is 0.9.**\n",
    "- You can easily verify that if the gradient remains constant, the terminal velocity (i.e., the maximum size of the weight updates) is equal to that gradient multiplied by the learning rate η multiplied by 1/1−β (ignoring the sign).\n",
    "    - For example, if β = 0.9, then the terminal velocity is equal to 10 times the gradient times the learning rate, so **momentum optimization ends up going 10 times faster than Gradient Descent!** \n",
    "    - **This allows momentum optimization to escape from plateaus much faster than Gradient Descent.**\n",
    "***\n",
    "- Gradient Descent goes down the steep slope quite fast, but then it takes a very long time to go down the valley. \n",
    "- In contrast, momentum optimization will roll down the valley faster and faster until it reaches the bottom (the optimum).\n",
    "- **In deep neural networks that don’t use Batch Normalization, the upper layers will often end up having inputs with very different scales, so using momentum optimization helps a lot.** \n",
    "    - It can also help roll past local optima.\n",
    "\n",
    "Implementing momentum optimization in Keras;"
   ]
  },
  {
   "cell_type": "code",
   "execution_count": 66,
   "id": "aware-termination",
   "metadata": {},
   "outputs": [],
   "source": [
    "optimizer = keras.optimizers.SGD(lr=0.001, momentum=0.9)"
   ]
  },
  {
   "cell_type": "markdown",
   "id": "criminal-amount",
   "metadata": {},
   "source": [
    "- The one drawback of momentum optimization is that it adds yet another hyperparameter to tune. \n",
    "    - However, the momentum value of 0.9 usually works well in practice and almost always goes faster than regular Gradient Descent."
   ]
  },
  {
   "cell_type": "markdown",
   "id": "labeled-luxury",
   "metadata": {},
   "source": [
    "### Nesterov Accelerated Gradient\n",
    "- One small variant to momentum optimization, proposed by Yurii Nesterov in 1983, is almost always faster than vanilla momentum optimization.\n",
    "- The Nesterov Accelerated Gradient (NAG) method, **also known as Nesterov momentum optimization**, measures the gradient of the cost function not at the local position θ but slightly ahead in the direction of the momentum, at θ + βm.\n",
    "- This small tweak works because in general the momentum vector will be pointing in the right direction (i.e., toward the optimum), so it will be slightly more accurate to use the gradient measured a bit farther in that direction rather than the gradient at the original position.\n",
    "\n",
    "NAG is generally faster than regular momentum optimization. To use it, simply set **nesterov=True** when creating the SGD optimizer:"
   ]
  },
  {
   "cell_type": "code",
   "execution_count": 67,
   "id": "alert-thought",
   "metadata": {},
   "outputs": [],
   "source": [
    "optimizer = keras.optimizers.SGD(lr=0.001, momentum=0.9, nesterov=True)"
   ]
  },
  {
   "cell_type": "markdown",
   "id": "indoor-dallas",
   "metadata": {},
   "source": [
    "### AdaGrad\n",
    "- Gradient Descent starts by quickly going down the steepest slope, which does not point straight toward the global optimum, then it very slowly goes down to the bottom of the valley. \n",
    "- It would be nice if the algorithm could correct its direction earlier to point a bit more toward the global optimum. \n",
    "    - The AdaGrad algorithm achieves this correction by scaling down the gradient vector along the steepest dimensions.\n",
    "- this algorithm decays the learning rate, but it does so faster for steep dimensions than for dimensions with gentler slopes. \n",
    "    - This is called an **adaptive learning rate**. \n",
    "    - It helps point the resulting updates more directly toward the global optimum.\n",
    "    - One additional benefit is that it requires much less tuning of the learning rate hyperparameter η.\n",
    "- **AdaGrad frequently performs well for simple quadratic problems, but it often stops too early when training neural networks.** \n",
    "    - The learning rate gets scaled down so much that the algorithm ends up stopping entirely before reaching the global optimum.\n",
    "- So even though Keras has an Adagrad optimizer, **you should not use it to train deep neural networks** (it may be efficient for simpler tasks such as Linear Regression, though).\n",
    "- Still, understanding AdaGrad is helpful to grasp the other adaptive learning rate optimizers."
   ]
  },
  {
   "cell_type": "code",
   "execution_count": 68,
   "id": "inside-architecture",
   "metadata": {},
   "outputs": [],
   "source": [
    "optimizer = keras.optimizers.Adagrad(lr=0.001)"
   ]
  },
  {
   "cell_type": "markdown",
   "id": "verbal-conflict",
   "metadata": {},
   "source": [
    "### RMSProp\n",
    "- As we’ve seen, AdaGrad runs the risk of slowing down a bit too fast and never converging to the global optimum. \n",
    "- The RMSProp algorithm fixes this by accumulating only the gradients from the most recent iterations (as opposed to all the gradients since the beginning of training). It does so by using exponential decay in the first step.\n",
    "- **The decay rate β is typically set to 0.9.**\n",
    "- Yes, it is once again a new hyperparameter, but this default value often works well, so you may not need to tune it at all.\n",
    "- Except on very simple problems, **this optimizer almost always performs much better than AdaGrad.** \n",
    "    - In fact, it was the preferred optimization algorithm of many researchers until **Adam optimization** came around."
   ]
  },
  {
   "cell_type": "code",
   "execution_count": 69,
   "id": "supreme-illness",
   "metadata": {},
   "outputs": [],
   "source": [
    "optimizer = keras.optimizers.RMSprop(lr=0.001, rho=0.9)"
   ]
  },
  {
   "cell_type": "markdown",
   "id": "incorporate-declaration",
   "metadata": {},
   "source": [
    "### Adam and Nadam Optimization\n",
    "### Adam\n",
    "- **Adam**, which stands for **adaptive moment estimation**, combines the ideas of momentum optimization and RMSProp: just like momentum optimization, it keeps track of an exponentially decaying average of past gradients; and just like RMSProp, it keeps track of an exponentially decaying average of past squared gradients.\n",
    "- The momentum decay hyperparameter **$β_1$ is typically initialized to 0.9**, \n",
    "    - while the scaling decay hyperparameter **$β_2$ is often initialized to 0.999**.\n",
    "- Since Adam is an adaptive learning rate algorithm (like AdaGrad and RMSProp), it requires less tuning of the learning rate hyperparameter η.\n",
    "    - You can often use the default value **η = 0.001**, making Adam even easier to use than Gradient Descent."
   ]
  },
  {
   "cell_type": "code",
   "execution_count": 70,
   "id": "oriental-encounter",
   "metadata": {},
   "outputs": [],
   "source": [
    "optimizer = keras.optimizers.Adam(lr=0.001, beta_1=0.9, beta_2=0.999)"
   ]
  },
  {
   "cell_type": "markdown",
   "id": "missing-jonathan",
   "metadata": {},
   "source": [
    "### Adamax\n",
    "- This is just one more optimizer you can try if you experience problems with Adam on some task."
   ]
  },
  {
   "cell_type": "code",
   "execution_count": 71,
   "id": "outstanding-somerset",
   "metadata": {},
   "outputs": [],
   "source": [
    "optimizer = keras.optimizers.Adamax(lr=0.001, beta_1=0.9, beta_2=0.999)"
   ]
  },
  {
   "cell_type": "markdown",
   "id": "imported-questionnaire",
   "metadata": {},
   "source": [
    "### Nadam\n",
    "- Nadam optimization is Adam optimization plus the Nesterov trick, so it will often converge slightly faster than Adam.\n",
    "- In his report introducing this technique, the researcher Timothy Dozat compares many different optimizers on various tasks and finds that Nadam generally outperforms Adam but is sometimes outperformed by RMSProp."
   ]
  },
  {
   "cell_type": "code",
   "execution_count": 72,
   "id": "hired-efficiency",
   "metadata": {},
   "outputs": [],
   "source": [
    "optimizer = keras.optimizers.Nadam(lr=0.001, beta_1=0.9, beta_2=0.999)"
   ]
  },
  {
   "cell_type": "markdown",
   "id": "affecting-thanksgiving",
   "metadata": {},
   "source": [
    "### WARNING\n",
    "- Adaptive optimization methods (including RMSProp, Adam, and Nadam optimization) are often great, converging fast to a good solution. \n",
    "- However, a 2017 paper by Ashia C. Wilson et al. showed that they can lead to solutions that generalize poorly on some datasets. \n",
    "- So when you are disappointed by your model’s performance, try using plain Nesterov Accelerated Gradient instead: your dataset may just be allergic to adaptive gradients. Also check out the latest research, because it’s moving fast.\n",
    "***"
   ]
  },
  {
   "cell_type": "markdown",
   "id": "coupled-rebel",
   "metadata": {},
   "source": [
    "- All the optimization techniques discussed so far only rely on the first-order partial derivatives (Jacobians).\n",
    "- The optimization literature also contains amazing algorithms based on the second-order partial derivatives (the Hessians, which are the partial derivatives of the Jacobians).\n",
    "    - Unfortunately, these algorithms are very hard to apply to deep neural networks because there are n² Hessians per output (where n is the number of parameters), as opposed to just n Jacobians per output.\n",
    "- Since DNNs typically have tens of thousands of parameters, the second-order optimization algorithms often don’t even fit in memory, and even when they do, computing the Hessians is just too slow.\n",
    "\n",
    "Table 11-2 compares all the optimizers we’ve discussed so far (* is bad, ** is average, and *** is good).\n",
    "<img src=\"t2.png\">"
   ]
  },
  {
   "cell_type": "markdown",
   "id": "structural-hostel",
   "metadata": {},
   "source": [
    "## Learning Rate Scheduling\n",
    "- Finding a good learning rate is very important. \n",
    "    - If you set it much too high, training may diverge (as we discussed in “Gradient Descent”). \n",
    "    - If you set it too low, training will eventually converge to the optimum, but it will take a very long time.\n",
    "    - If you set it slightly too high, it will make progress very quickly at first, but it will end up dancing around the optimum, never really settling down.\n",
    "    - If you have a limited computing budget, you may have to interrupt training before it has converged properly, yielding a suboptimal solution.\n",
    "<img src=\"11-8.png\">"
   ]
  },
  {
   "cell_type": "markdown",
   "id": "primary-parts",
   "metadata": {},
   "source": [
    "- You can find a good learning rate by training the model for a few hundred iterations, exponentially increasing the learning rate from a very small value to a very large value, and then looking at the learning curve and picking a learning rate slightly lower than the one at which the learning curve starts shooting back up. \n",
    "    - You can then reinitialize your model and train it with that learning rate.\n",
    "- But you can do better than a constant learning rate: **if you start with a large learning rate and then reduce it once training stops making fast progress,** you can reach a good solution faster than with the optimal constant learning rate.\n",
    "- There are many different strategies to reduce the learning rate during training. \n",
    "    - It can also be beneficial to start with a low learning rate, increase it, then drop it again.\n",
    "    - These strategies are called **learning schedules.**\n",
    "\n",
    "These are the most commonly used learning schedules:\n",
    "### Power scheduling\n",
    "#### lr = lr0 / (1 + steps / s)**c\n",
    "- The initial learning rate lr0 , the power c (typically set to 1), and the steps s are hyperparameters.\n",
    "- The learning rate drops at each step.\n",
    "- After s steps, it is down to lr0/ 2\n",
    "- After s more steps, it is down to lr0/ 3, then it goes down to lr0/ 4, then lr0/ 5, and so on.\n",
    "    - **As you can see, this schedule first drops quickly, then more and more slowly.** \n",
    "    - Of course, power scheduling requires tuning lr0 and s (and possibly c).\n",
    "- The decay is the inverse of s (the number of steps it takes to divide the learning rate by one more unit), and Keras assumes that c is equal to 1.\n",
    "Keras uses c=1 and s = 1 / decay"
   ]
  },
  {
   "cell_type": "code",
   "execution_count": 73,
   "id": "adverse-heritage",
   "metadata": {},
   "outputs": [],
   "source": [
    "optimizer = keras.optimizers.SGD(lr=0.01, decay=1e-4)"
   ]
  },
  {
   "cell_type": "code",
   "execution_count": 74,
   "id": "healthy-announcement",
   "metadata": {},
   "outputs": [],
   "source": [
    "model = keras.models.Sequential([\n",
    "    keras.layers.Flatten(input_shape=[28, 28]),\n",
    "    keras.layers.Dense(300, activation=\"selu\", kernel_initializer=\"lecun_normal\"),\n",
    "    keras.layers.Dense(100, activation=\"selu\", kernel_initializer=\"lecun_normal\"),\n",
    "    keras.layers.Dense(10, activation=\"softmax\")\n",
    "])\n",
    "model.compile(loss=\"sparse_categorical_crossentropy\", optimizer=optimizer, metrics=[\"accuracy\"])"
   ]
  },
  {
   "cell_type": "code",
   "execution_count": 75,
   "id": "anonymous-newspaper",
   "metadata": {},
   "outputs": [
    {
     "name": "stdout",
     "output_type": "stream",
     "text": [
      "Epoch 1/25\n",
      "1719/1719 [==============================] - 7s 4ms/step - loss: 0.5980 - accuracy: 0.7933 - val_loss: 0.4031 - val_accuracy: 0.8596\n",
      "Epoch 2/25\n",
      "1719/1719 [==============================] - 7s 4ms/step - loss: 0.3829 - accuracy: 0.8637 - val_loss: 0.3715 - val_accuracy: 0.8724\n",
      "Epoch 3/25\n",
      "1719/1719 [==============================] - 7s 4ms/step - loss: 0.3491 - accuracy: 0.8769 - val_loss: 0.3746 - val_accuracy: 0.8738\n",
      "Epoch 4/25\n",
      "1719/1719 [==============================] - 7s 4ms/step - loss: 0.3277 - accuracy: 0.8817 - val_loss: 0.3500 - val_accuracy: 0.8796\n",
      "Epoch 5/25\n",
      "1719/1719 [==============================] - 7s 4ms/step - loss: 0.3172 - accuracy: 0.8858 - val_loss: 0.3450 - val_accuracy: 0.8782\n",
      "Epoch 6/25\n",
      "1719/1719 [==============================] - 7s 4ms/step - loss: 0.2922 - accuracy: 0.8940 - val_loss: 0.3416 - val_accuracy: 0.8820\n",
      "Epoch 7/25\n",
      "1719/1719 [==============================] - 7s 4ms/step - loss: 0.2870 - accuracy: 0.8973 - val_loss: 0.3358 - val_accuracy: 0.8870\n",
      "Epoch 8/25\n",
      "1719/1719 [==============================] - 8s 5ms/step - loss: 0.2720 - accuracy: 0.9032 - val_loss: 0.3410 - val_accuracy: 0.8842\n",
      "Epoch 9/25\n",
      "1719/1719 [==============================] - 9s 5ms/step - loss: 0.2730 - accuracy: 0.9002 - val_loss: 0.3294 - val_accuracy: 0.8868\n",
      "Epoch 10/25\n",
      "1719/1719 [==============================] - 9s 5ms/step - loss: 0.2585 - accuracy: 0.9067 - val_loss: 0.3266 - val_accuracy: 0.8888\n",
      "Epoch 11/25\n",
      "1719/1719 [==============================] - 7s 4ms/step - loss: 0.2528 - accuracy: 0.9100 - val_loss: 0.3275 - val_accuracy: 0.8882\n",
      "Epoch 12/25\n",
      "1719/1719 [==============================] - 7s 4ms/step - loss: 0.2484 - accuracy: 0.9103 - val_loss: 0.3338 - val_accuracy: 0.8826\n",
      "Epoch 13/25\n",
      "1719/1719 [==============================] - 7s 4ms/step - loss: 0.2419 - accuracy: 0.9143 - val_loss: 0.3262 - val_accuracy: 0.8902\n",
      "Epoch 14/25\n",
      "1719/1719 [==============================] - 7s 4ms/step - loss: 0.2373 - accuracy: 0.9145 - val_loss: 0.3293 - val_accuracy: 0.8894\n",
      "Epoch 15/25\n",
      "1719/1719 [==============================] - 7s 4ms/step - loss: 0.2363 - accuracy: 0.9154 - val_loss: 0.3250 - val_accuracy: 0.8884\n",
      "Epoch 16/25\n",
      "1719/1719 [==============================] - 7s 4ms/step - loss: 0.2309 - accuracy: 0.9178 - val_loss: 0.3214 - val_accuracy: 0.8910\n",
      "Epoch 17/25\n",
      "1719/1719 [==============================] - 8s 5ms/step - loss: 0.2233 - accuracy: 0.9212 - val_loss: 0.3245 - val_accuracy: 0.8906\n",
      "Epoch 18/25\n",
      "1719/1719 [==============================] - 9s 5ms/step - loss: 0.2247 - accuracy: 0.9195 - val_loss: 0.3198 - val_accuracy: 0.8934\n",
      "Epoch 19/25\n",
      "1719/1719 [==============================] - 9s 5ms/step - loss: 0.2234 - accuracy: 0.9214 - val_loss: 0.3239 - val_accuracy: 0.8904\n",
      "Epoch 20/25\n",
      "1719/1719 [==============================] - 9s 5ms/step - loss: 0.2227 - accuracy: 0.9224 - val_loss: 0.3219 - val_accuracy: 0.8906\n",
      "Epoch 21/25\n",
      "1719/1719 [==============================] - 7s 4ms/step - loss: 0.2194 - accuracy: 0.9229 - val_loss: 0.3217 - val_accuracy: 0.8918\n",
      "Epoch 22/25\n",
      "1719/1719 [==============================] - 7s 4ms/step - loss: 0.2163 - accuracy: 0.9229 - val_loss: 0.3193 - val_accuracy: 0.8938\n",
      "Epoch 23/25\n",
      "1719/1719 [==============================] - 7s 4ms/step - loss: 0.2127 - accuracy: 0.9250 - val_loss: 0.3206 - val_accuracy: 0.8904\n",
      "Epoch 24/25\n",
      "1719/1719 [==============================] - 7s 4ms/step - loss: 0.2077 - accuracy: 0.9275 - val_loss: 0.3224 - val_accuracy: 0.8896\n",
      "Epoch 25/25\n",
      "1719/1719 [==============================] - 7s 4ms/step - loss: 0.2103 - accuracy: 0.9254 - val_loss: 0.3224 - val_accuracy: 0.8916\n"
     ]
    }
   ],
   "source": [
    "n_epochs=25\n",
    "history = model.fit(X_train_scaled,  y_train, epochs=n_epochs,\n",
    "                   validation_data=(X_valid_scaled, y_valid))"
   ]
  },
  {
   "cell_type": "code",
   "execution_count": 76,
   "id": "anonymous-taiwan",
   "metadata": {},
   "outputs": [
    {
     "data": {
      "image/png": "[encoded data removed]",
      "text/plain": [
       "<Figure size 432x288 with 1 Axes>"
      ]
     },
     "metadata": {
      "needs_background": "light"
     },
     "output_type": "display_data"
    }
   ],
   "source": [
    "import math\n",
    "\n",
    "learning_rate = 0.01\n",
    "decay = 1e-4\n",
    "batch_size=32\n",
    "n_steps_per_epoch = math.ceil(len(X_train) / batch_size)\n",
    "epochs = np.arange(n_epochs)\n",
    "lrs = learning_rate / (1 + decay * epochs * n_steps_per_epoch)\n",
    "\n",
    "plt.plot(epochs, lrs,  \"o-\")\n",
    "plt.axis([0, n_epochs - 1, 0, 0.01])\n",
    "plt.xlabel(\"Epoch\")\n",
    "plt.ylabel(\"Learning Rate\")\n",
    "plt.title(\"Power Scheduling\", fontsize=14)\n",
    "plt.grid(True)\n",
    "plt.show()"
   ]
  },
  {
   "cell_type": "markdown",
   "id": "underlying-roommate",
   "metadata": {},
   "source": [
    "### Exponential Scheduling\n",
    "#### lr = lr0 * 0.1**(epoch / s)\n",
    "- The learning rate will gradually drop by a factor of 10 every s steps. \n",
    "- While power scheduling reduces the learning rate more and more slowly, exponential scheduling keeps slashing it by a factor of 10 every s steps.\n",
    "- The LearningRateScheduler will update the optimizer’s learning_rate attribute at the beginning of each epoch."
   ]
  },
  {
   "cell_type": "code",
   "execution_count": 77,
   "id": "nutritional-payment",
   "metadata": {},
   "outputs": [],
   "source": [
    "def exponential_decay_fn(epoch):\n",
    "    return 0.01 * 0.1**(epoch / 20)"
   ]
  },
  {
   "cell_type": "code",
   "execution_count": 78,
   "id": "affected-democracy",
   "metadata": {},
   "outputs": [],
   "source": [
    "def exponential_decay(lr0, s):\n",
    "    def exponential_decay_fn(epoch):\n",
    "        return lr0 * 0.1**(epoch / s)\n",
    "    return exponential_decay_fn\n",
    "\n",
    "exponential_decay_fn = exponential_decay(lr0=0.01, s=20)"
   ]
  },
  {
   "cell_type": "code",
   "execution_count": 79,
   "id": "laughing-cycle",
   "metadata": {},
   "outputs": [],
   "source": [
    "model = keras.models.Sequential([\n",
    "    keras.layers.Flatten(input_shape=[28, 28]),\n",
    "    keras.layers.Dense(300, activation=\"selu\", kernel_initializer=\"lecun_normal\"),\n",
    "    keras.layers.Dense(100, activation=\"selu\", kernel_initializer=\"lecun_normal\"),\n",
    "    keras.layers.Dense(10, activation=\"softmax\")\n",
    "])\n",
    "\n",
    "model.compile(loss=\"sparse_categorical_crossentropy\", optimizer=\"nadam\", metrics=[\"accuracy\"])\n",
    "n_epochs=25"
   ]
  },
  {
   "cell_type": "code",
   "execution_count": 80,
   "id": "million-street",
   "metadata": {},
   "outputs": [
    {
     "name": "stdout",
     "output_type": "stream",
     "text": [
      "Epoch 1/25\n",
      "1719/1719 [==============================] - 13s 7ms/step - loss: 1.1151 - accuracy: 0.7360 - val_loss: 0.8242 - val_accuracy: 0.7140\n",
      "Epoch 2/25\n",
      "1719/1719 [==============================] - 14s 8ms/step - loss: 0.6714 - accuracy: 0.7964 - val_loss: 0.5488 - val_accuracy: 0.8464\n",
      "Epoch 3/25\n",
      "1719/1719 [==============================] - 14s 8ms/step - loss: 0.5694 - accuracy: 0.8229 - val_loss: 0.7165 - val_accuracy: 0.8026\n",
      "Epoch 4/25\n",
      "1719/1719 [==============================] - 14s 8ms/step - loss: 0.5708 - accuracy: 0.8286 - val_loss: 0.5962 - val_accuracy: 0.8322\n",
      "Epoch 5/25\n",
      "1719/1719 [==============================] - 11s 6ms/step - loss: 0.4951 - accuracy: 0.8474 - val_loss: 0.5765 - val_accuracy: 0.8458\n",
      "Epoch 6/25\n",
      "1719/1719 [==============================] - 11s 6ms/step - loss: 0.4518 - accuracy: 0.8599 - val_loss: 0.4802 - val_accuracy: 0.8562\n",
      "Epoch 7/25\n",
      "1719/1719 [==============================] - 14s 8ms/step - loss: 0.4218 - accuracy: 0.8689 - val_loss: 0.5218 - val_accuracy: 0.8524\n",
      "Epoch 8/25\n",
      "1719/1719 [==============================] - 14s 8ms/step - loss: 0.3726 - accuracy: 0.8781 - val_loss: 0.5421 - val_accuracy: 0.8454\n",
      "Epoch 9/25\n",
      "1719/1719 [==============================] - 13s 7ms/step - loss: 0.3475 - accuracy: 0.8831 - val_loss: 0.4824 - val_accuracy: 0.8572\n",
      "Epoch 10/25\n",
      "1719/1719 [==============================] - 14s 8ms/step - loss: 0.3159 - accuracy: 0.8930 - val_loss: 0.5088 - val_accuracy: 0.8754\n",
      "Epoch 11/25\n",
      "1719/1719 [==============================] - 14s 8ms/step - loss: 0.2856 - accuracy: 0.9013 - val_loss: 0.4439 - val_accuracy: 0.8758\n",
      "Epoch 12/25\n",
      "1719/1719 [==============================] - 11s 7ms/step - loss: 0.2750 - accuracy: 0.9056 - val_loss: 0.4433 - val_accuracy: 0.8736\n",
      "Epoch 13/25\n",
      "1719/1719 [==============================] - 11s 6ms/step - loss: 0.2552 - accuracy: 0.9116 - val_loss: 0.5177 - val_accuracy: 0.8684\n",
      "Epoch 14/25\n",
      "1719/1719 [==============================] - 14s 8ms/step - loss: 0.2376 - accuracy: 0.9179 - val_loss: 0.4894 - val_accuracy: 0.8720\n",
      "Epoch 15/25\n",
      "1719/1719 [==============================] - 14s 8ms/step - loss: 0.2197 - accuracy: 0.9242 - val_loss: 0.4649 - val_accuracy: 0.8790\n",
      "Epoch 16/25\n",
      "1719/1719 [==============================] - 14s 8ms/step - loss: 0.2051 - accuracy: 0.9276 - val_loss: 0.4652 - val_accuracy: 0.8884\n",
      "Epoch 17/25\n",
      "1719/1719 [==============================] - 14s 8ms/step - loss: 0.1862 - accuracy: 0.9360 - val_loss: 0.5010 - val_accuracy: 0.8822\n",
      "Epoch 18/25\n",
      "1719/1719 [==============================] - 11s 6ms/step - loss: 0.1743 - accuracy: 0.9394 - val_loss: 0.4983 - val_accuracy: 0.8834\n",
      "Epoch 19/25\n",
      "1719/1719 [==============================] - 13s 7ms/step - loss: 0.1643 - accuracy: 0.9435 - val_loss: 0.5013 - val_accuracy: 0.8904\n",
      "Epoch 20/25\n",
      "1719/1719 [==============================] - 14s 8ms/step - loss: 0.1566 - accuracy: 0.9456 - val_loss: 0.5057 - val_accuracy: 0.8890\n",
      "Epoch 21/25\n",
      "1719/1719 [==============================] - 14s 8ms/step - loss: 0.1459 - accuracy: 0.9499 - val_loss: 0.5309 - val_accuracy: 0.8896\n",
      "Epoch 22/25\n",
      "1719/1719 [==============================] - 11s 6ms/step - loss: 0.1367 - accuracy: 0.9518 - val_loss: 0.5364 - val_accuracy: 0.8902\n",
      "Epoch 23/25\n",
      "1719/1719 [==============================] - 13s 8ms/step - loss: 0.1278 - accuracy: 0.9579 - val_loss: 0.5847 - val_accuracy: 0.8892\n",
      "Epoch 24/25\n",
      "1719/1719 [==============================] - 14s 8ms/step - loss: 0.1167 - accuracy: 0.9610 - val_loss: 0.5957 - val_accuracy: 0.8868\n",
      "Epoch 25/25\n",
      "1719/1719 [==============================] - 14s 8ms/step - loss: 0.1167 - accuracy: 0.9616 - val_loss: 0.5907 - val_accuracy: 0.8908\n"
     ]
    }
   ],
   "source": [
    "lr_scheduler = keras.callbacks.LearningRateScheduler(exponential_decay_fn)\n",
    "\n",
    "history = model.fit(X_train_scaled, y_train, epochs=n_epochs,\n",
    "                   validation_data=(X_valid_scaled, y_valid),\n",
    "                    callbacks=[lr_scheduler])"
   ]
  },
  {
   "cell_type": "code",
   "execution_count": 81,
   "id": "authorized-acrobat",
   "metadata": {},
   "outputs": [
    {
     "data": {
      "image/png": "[encoded data removed]",
      "text/plain": [
       "<Figure size 432x288 with 1 Axes>"
      ]
     },
     "metadata": {
      "needs_background": "light"
     },
     "output_type": "display_data"
    }
   ],
   "source": [
    "plt.plot(history.epoch, history.history[\"lr\"], \"o-\")\n",
    "plt.axis([0, n_epochs - 1, 0, 0.011])\n",
    "plt.xlabel(\"Epoch\")\n",
    "plt.ylabel(\"Learning Rate\")\n",
    "plt.title(\"Exponential Scheduling\", fontsize=14)\n",
    "plt.grid(True)\n",
    "plt.show()"
   ]
  },
  {
   "cell_type": "markdown",
   "id": "quality-australian",
   "metadata": {},
   "source": [
    "The schedule function can take the current learning rate as a second argument:"
   ]
  },
  {
   "cell_type": "code",
   "execution_count": 82,
   "id": "legal-leader",
   "metadata": {},
   "outputs": [],
   "source": [
    "def exponential_decay_fn(epoch, lr):\n",
    "    return lr * 0.1**(1 / 20)"
   ]
  },
  {
   "cell_type": "code",
   "execution_count": 83,
   "id": "equipped-haven",
   "metadata": {},
   "outputs": [
    {
     "name": "stdout",
     "output_type": "stream",
     "text": [
      "Epoch 1/25\n",
      "1719/1719 [==============================] - 14s 8ms/step - loss: 1.1227 - accuracy: 0.7344 - val_loss: 0.6928 - val_accuracy: 0.8000\n",
      "Epoch 2/25\n",
      "1719/1719 [==============================] - 13s 7ms/step - loss: 0.6301 - accuracy: 0.8025 - val_loss: 0.5176 - val_accuracy: 0.8366\n",
      "Epoch 3/25\n",
      "1719/1719 [==============================] - 14s 8ms/step - loss: 0.5612 - accuracy: 0.8251 - val_loss: 0.7833 - val_accuracy: 0.8072\n",
      "Epoch 4/25\n",
      "1719/1719 [==============================] - 16s 10ms/step - loss: 0.5196 - accuracy: 0.8369 - val_loss: 0.5696 - val_accuracy: 0.8378\n",
      "Epoch 5/25\n",
      "1719/1719 [==============================] - 16s 10ms/step - loss: 0.4792 - accuracy: 0.8474 - val_loss: 0.4912 - val_accuracy: 0.8696\n",
      "Epoch 6/25\n",
      "1719/1719 [==============================] - 13s 8ms/step - loss: 0.4182 - accuracy: 0.8662 - val_loss: 0.5097 - val_accuracy: 0.8678\n",
      "Epoch 7/25\n",
      "1719/1719 [==============================] - 13s 7ms/step - loss: 0.3924 - accuracy: 0.8740 - val_loss: 0.5099 - val_accuracy: 0.8668\n",
      "Epoch 8/25\n",
      "1719/1719 [==============================] - 15s 9ms/step - loss: 0.3542 - accuracy: 0.8842 - val_loss: 0.4627 - val_accuracy: 0.8608\n",
      "Epoch 9/25\n",
      "1719/1719 [==============================] - 17s 10ms/step - loss: 0.3392 - accuracy: 0.8841 - val_loss: 0.4508 - val_accuracy: 0.8666\n",
      "Epoch 10/25\n",
      "1719/1719 [==============================] - 16s 10ms/step - loss: 0.3068 - accuracy: 0.8958 - val_loss: 0.3992 - val_accuracy: 0.8926\n",
      "Epoch 11/25\n",
      "1719/1719 [==============================] - 11s 7ms/step - loss: 0.2743 - accuracy: 0.9078 - val_loss: 0.4640 - val_accuracy: 0.8728\n",
      "Epoch 12/25\n",
      "1719/1719 [==============================] - 11s 6ms/step - loss: 0.2773 - accuracy: 0.9072 - val_loss: 0.4339 - val_accuracy: 0.8760\n",
      "Epoch 13/25\n",
      "1719/1719 [==============================] - 15s 9ms/step - loss: 0.2451 - accuracy: 0.9140 - val_loss: 0.4338 - val_accuracy: 0.8850\n",
      "Epoch 14/25\n",
      "1719/1719 [==============================] - 18s 11ms/step - loss: 0.2244 - accuracy: 0.9224 - val_loss: 0.4988 - val_accuracy: 0.8742\n",
      "Epoch 15/25\n",
      "1719/1719 [==============================] - 14s 8ms/step - loss: 0.2155 - accuracy: 0.9263 - val_loss: 0.4375 - val_accuracy: 0.8880\n",
      "Epoch 16/25\n",
      "1719/1719 [==============================] - 12s 7ms/step - loss: 0.1953 - accuracy: 0.9326 - val_loss: 0.4477 - val_accuracy: 0.8898\n",
      "Epoch 17/25\n",
      "1719/1719 [==============================] - 16s 9ms/step - loss: 0.1764 - accuracy: 0.9392 - val_loss: 0.4777 - val_accuracy: 0.8820\n",
      "Epoch 18/25\n",
      "1719/1719 [==============================] - 19s 11ms/step - loss: 0.1684 - accuracy: 0.9435 - val_loss: 0.4907 - val_accuracy: 0.8872\n",
      "Epoch 19/25\n",
      "1719/1719 [==============================] - 25s 14ms/step - loss: 0.1618 - accuracy: 0.9453 - val_loss: 0.5071 - val_accuracy: 0.8920\n",
      "Epoch 20/25\n",
      "1719/1719 [==============================] - 24s 14ms/step - loss: 0.1477 - accuracy: 0.9502 - val_loss: 0.4892 - val_accuracy: 0.8904\n",
      "Epoch 21/25\n",
      "1719/1719 [==============================] - 22s 13ms/step - loss: 0.1421 - accuracy: 0.9517 - val_loss: 0.5786 - val_accuracy: 0.8896\n",
      "Epoch 22/25\n",
      "1719/1719 [==============================] - 24s 14ms/step - loss: 0.1329 - accuracy: 0.9547 - val_loss: 0.5832 - val_accuracy: 0.8912\n",
      "Epoch 23/25\n",
      "1719/1719 [==============================] - 27s 16ms/step - loss: 0.1207 - accuracy: 0.9606 - val_loss: 0.5889 - val_accuracy: 0.8910\n",
      "Epoch 24/25\n",
      "1719/1719 [==============================] - 25s 15ms/step - loss: 0.1136 - accuracy: 0.9628 - val_loss: 0.6286 - val_accuracy: 0.8862\n",
      "Epoch 25/25\n",
      "1719/1719 [==============================] - 28s 16ms/step - loss: 0.1116 - accuracy: 0.9631 - val_loss: 0.6322 - val_accuracy: 0.8908\n"
     ]
    }
   ],
   "source": [
    "K = keras.backend\n",
    "\n",
    "class ExponentialDecay(keras.callbacks.Callback):\n",
    "    def __init__(self, s=40000):\n",
    "        super().__init__()\n",
    "        self.s = s\n",
    "\n",
    "    def on_batch_begin(self, batch, logs=None):\n",
    "        # Note: the `batch` argument is reset at each epoch\n",
    "        lr = K.get_value(self.model.optimizer.lr)\n",
    "        K.set_value(self.model.optimizer.lr, lr * 0.1**(1 / s))\n",
    "\n",
    "    def on_epoch_end(self, epoch, logs=None):\n",
    "        logs = logs or {}\n",
    "        logs['lr'] = K.get_value(self.model.optimizer.lr)\n",
    "        \n",
    "model = keras.models.Sequential([\n",
    "    keras.layers.Flatten(input_shape=[28, 28]),\n",
    "    keras.layers.Dense(300, activation=\"selu\", kernel_initializer=\"lecun_normal\"),\n",
    "    keras.layers.Dense(100, activation=\"selu\", kernel_initializer=\"lecun_normal\"),\n",
    "    keras.layers.Dense(10, activation=\"softmax\")\n",
    "])\n",
    "lr0 = 0.01\n",
    "optimizer = keras.optimizers.Nadam(lr=lr0)\n",
    "model.compile(loss=\"sparse_categorical_crossentropy\", optimizer=optimizer, metrics=[\"accuracy\"])\n",
    "n_epochs = 25\n",
    "\n",
    "s = 20 * len(X_train) // 32 # number of steps in 20 epochs (batch size = 32)\n",
    "exp_decay = ExponentialDecay(s)\n",
    "history = model.fit(X_train_scaled, y_train, epochs=n_epochs,\n",
    "                    validation_data=(X_valid_scaled, y_valid),\n",
    "                    callbacks=[exp_decay])"
   ]
  },
  {
   "cell_type": "code",
   "execution_count": 84,
   "id": "phantom-affiliation",
   "metadata": {},
   "outputs": [],
   "source": [
    "n_steps = n_epochs * len(X_train) // 32\n",
    "steps = np.arange(n_steps)\n",
    "lrs = lr0 * 0.1**(steps / s)"
   ]
  },
  {
   "cell_type": "code",
   "execution_count": 85,
   "id": "silent-fraction",
   "metadata": {},
   "outputs": [
    {
     "data": {
      "image/png": "[encoded data removed]",
      "text/plain": [
       "<Figure size 432x288 with 1 Axes>"
      ]
     },
     "metadata": {
      "needs_background": "light"
     },
     "output_type": "display_data"
    }
   ],
   "source": [
    "plt.plot(steps, lrs, \"-\", linewidth=2)\n",
    "plt.axis([0, n_steps - 1, 0, lr0 * 1.1])\n",
    "plt.xlabel(\"Batch\")\n",
    "plt.ylabel(\"Learning Rate\")\n",
    "plt.title(\"Exponential Scheduling (per batch)\", fontsize=14)\n",
    "plt.grid(True)\n",
    "plt.show()"
   ]
  },
  {
   "cell_type": "markdown",
   "id": "experienced-pioneer",
   "metadata": {},
   "source": [
    "### Piecewise Constant Scheduling\n",
    "- Use a constant learning rate for a number of epochs (e.g., lr0=0.1 for 5 epochs), then a smaller learning rate for another number of epochs (e.g., lr1=0.001 for 50 epochs), and so on. \n",
    "    - Although this solution can work very well, it requires fiddling around to figure out the right sequence of learning rates and how long to use each of them."
   ]
  },
  {
   "cell_type": "code",
   "execution_count": 86,
   "id": "narrow-negative",
   "metadata": {},
   "outputs": [],
   "source": [
    "def piecewise_constant_fn(epoch):\n",
    "    if epoch < 5:\n",
    "        return 0.01\n",
    "    elif epoch < 15:\n",
    "        return 0.005\n",
    "    else:\n",
    "        return 0.001"
   ]
  },
  {
   "cell_type": "code",
   "execution_count": 87,
   "id": "indirect-capability",
   "metadata": {},
   "outputs": [],
   "source": [
    "def piecewise_constant(boundaries, values):\n",
    "    boundaries = np.array([0] + boundaries)\n",
    "    values = np.array(values)\n",
    "    def piecewise_constant_fn(epoch):\n",
    "        return values[np.argmax(boundaries > epoch) - 1]\n",
    "    return piecewise_constant_fn\n",
    "\n",
    "piecewise_constant_fn = piecewise_constant([5, 15], [0.01, 0.005, 0.001])"
   ]
  },
  {
   "cell_type": "code",
   "execution_count": 88,
   "id": "greenhouse-netscape",
   "metadata": {},
   "outputs": [
    {
     "name": "stdout",
     "output_type": "stream",
     "text": [
      "Epoch 1/25\n",
      "1719/1719 [==============================] - 26s 14ms/step - loss: 1.1574 - accuracy: 0.7315 - val_loss: 0.7580 - val_accuracy: 0.7702\n",
      "Epoch 2/25\n",
      "1719/1719 [==============================] - 24s 14ms/step - loss: 0.7431 - accuracy: 0.7791 - val_loss: 0.7069 - val_accuracy: 0.7744\n",
      "Epoch 3/25\n",
      "1719/1719 [==============================] - 24s 14ms/step - loss: 0.8114 - accuracy: 0.7666 - val_loss: 0.8354 - val_accuracy: 0.7200\n",
      "Epoch 4/25\n",
      "1719/1719 [==============================] - 22s 13ms/step - loss: 0.7857 - accuracy: 0.7773 - val_loss: 0.7282 - val_accuracy: 0.77842s - loss: 0.7796 - accura - ETA: 2s - loss: 0.7\n",
      "Epoch 5/25\n",
      "1719/1719 [==============================] - 23s 14ms/step - loss: 0.8087 - accuracy: 0.7805 - val_loss: 0.9467 - val_accuracy: 0.6994 - loss: 0.8086 - \n",
      "Epoch 6/25\n",
      "1719/1719 [==============================] - 23s 13ms/step - loss: 0.6022 - accuracy: 0.8109 - val_loss: 0.6328 - val_accuracy: 0.8520\n",
      "Epoch 7/25\n",
      "1719/1719 [==============================] - 22s 13ms/step - loss: 0.4864 - accuracy: 0.8533 - val_loss: 0.5552 - val_accuracy: 0.8446\n",
      "Epoch 8/25\n",
      "1719/1719 [==============================] - 24s 14ms/step - loss: 0.4413 - accuracy: 0.8590 - val_loss: 0.5348 - val_accuracy: 0.8398\n",
      "Epoch 9/25\n",
      "1719/1719 [==============================] - 25s 15ms/step - loss: 0.4321 - accuracy: 0.8605 - val_loss: 0.5855 - val_accuracy: 0.8174 17s - loss: 0.41\n",
      "Epoch 10/25\n",
      "1719/1719 [==============================] - 26s 15ms/step - loss: 0.4475 - accuracy: 0.8677 - val_loss: 0.5219 - val_accuracy: 0.8620\n",
      "Epoch 11/25\n",
      "1719/1719 [==============================] - 25s 15ms/step - loss: 0.3991 - accuracy: 0.8717 - val_loss: 0.5883 - val_accuracy: 0.8612\n",
      "Epoch 12/25\n",
      "1719/1719 [==============================] - 26s 15ms/step - loss: 0.4163 - accuracy: 0.8794 - val_loss: 0.6186 - val_accuracy: 0.8560\n",
      "Epoch 13/25\n",
      "1719/1719 [==============================] - 25s 15ms/step - loss: 0.3818 - accuracy: 0.8799 - val_loss: 0.5830 - val_accuracy: 0.8536\n",
      "Epoch 14/25\n",
      "1719/1719 [==============================] - 21s 12ms/step - loss: 0.3929 - accuracy: 0.8805 - val_loss: 0.6628 - val_accuracy: 0.8634\n",
      "Epoch 15/25\n",
      "1719/1719 [==============================] - 16s 9ms/step - loss: 0.4131 - accuracy: 0.8785 - val_loss: 0.7904 - val_accuracy: 0.8408\n",
      "Epoch 16/25\n",
      "1719/1719 [==============================] - 14s 8ms/step - loss: 0.3478 - accuracy: 0.9050 - val_loss: 0.4505 - val_accuracy: 0.8786\n",
      "Epoch 17/25\n",
      "1719/1719 [==============================] - 23s 13ms/step - loss: 0.2370 - accuracy: 0.9205 - val_loss: 0.4657 - val_accuracy: 0.87660s - loss: 0.2366  - ETA: 0s - los\n",
      "Epoch 18/25\n",
      "1719/1719 [==============================] - 23s 13ms/step - loss: 0.2302 - accuracy: 0.9234 - val_loss: 0.4486 - val_accuracy: 0.8822\n",
      "Epoch 19/25\n",
      "1719/1719 [==============================] - 25s 15ms/step - loss: 0.2156 - accuracy: 0.9274 - val_loss: 0.4597 - val_accuracy: 0.8872\n",
      "Epoch 20/25\n",
      "1719/1719 [==============================] - 23s 13ms/step - loss: 0.2070 - accuracy: 0.9288 - val_loss: 0.4600 - val_accuracy: 0.8794\n",
      "Epoch 21/25\n",
      "1719/1719 [==============================] - 24s 14ms/step - loss: 0.2001 - accuracy: 0.9300 - val_loss: 0.4807 - val_accuracy: 0.8826\n",
      "Epoch 22/25\n",
      "1719/1719 [==============================] - 23s 13ms/step - loss: 0.1928 - accuracy: 0.9331 - val_loss: 0.5191 - val_accuracy: 0.8870\n",
      "Epoch 23/25\n",
      "1719/1719 [==============================] - 23s 13ms/step - loss: 0.1804 - accuracy: 0.9377 - val_loss: 0.4878 - val_accuracy: 0.8852\n",
      "Epoch 24/25\n",
      "1719/1719 [==============================] - 25s 14ms/step - loss: 0.1722 - accuracy: 0.9398 - val_loss: 0.5306 - val_accuracy: 0.8844\n",
      "Epoch 25/25\n",
      "1719/1719 [==============================] - 25s 15ms/step - loss: 0.1707 - accuracy: 0.9385 - val_loss: 0.5489 - val_accuracy: 0.8846\n"
     ]
    }
   ],
   "source": [
    "lr_scheduler = keras.callbacks.LearningRateScheduler(piecewise_constant_fn)\n",
    "\n",
    "model = keras.models.Sequential([\n",
    "    keras.layers.Flatten(input_shape=[28, 28]),\n",
    "    keras.layers.Dense(300, activation=\"selu\", kernel_initializer=\"lecun_normal\"),\n",
    "    keras.layers.Dense(100, activation=\"selu\", kernel_initializer=\"lecun_normal\"),\n",
    "    keras.layers.Dense(10, activation=\"softmax\")\n",
    "])\n",
    "\n",
    "model.compile(loss=\"sparse_categorical_crossentropy\", optimizer=\"nadam\", metrics=[\"accuracy\"])\n",
    "n_epochs = 25\n",
    "\n",
    "history = model.fit(X_train_scaled, y_train, epochs=n_epochs,\n",
    "                    validation_data=(X_valid_scaled, y_valid),\n",
    "                    callbacks=[lr_scheduler])"
   ]
  },
  {
   "cell_type": "code",
   "execution_count": 89,
   "id": "lesbian-variable",
   "metadata": {},
   "outputs": [
    {
     "data": {
      "image/png": "[encoded data removed]",
      "text/plain": [
       "<Figure size 432x288 with 1 Axes>"
      ]
     },
     "metadata": {
      "needs_background": "light"
     },
     "output_type": "display_data"
    }
   ],
   "source": [
    "plt.plot(history.epoch, [piecewise_constant_fn(epoch) for epoch in history.epoch], \"o-\")\n",
    "plt.axis([0, n_epochs - 1, 0, 0.011])\n",
    "plt.xlabel(\"Epoch\")\n",
    "plt.ylabel(\"Learning Rate\")\n",
    "plt.title(\"Piecewise Constant Scheduling\", fontsize=14)\n",
    "plt.grid(True)\n",
    "plt.show()"
   ]
  },
  {
   "cell_type": "markdown",
   "id": "substantial-clerk",
   "metadata": {},
   "source": [
    "### Performance Scheduling\n",
    "- Measure the validation error every N steps (just like for early stopping), and reduce the learning rate by a factor of λ when the error stops dropping.\n",
    "- For performance scheduling, use the ReduceLROnPlateau callback. \n",
    "    - For example, if you pass the following callback to the fit() method, it will multiply the learning rate by 0.5 whenever the best validation loss does not improve for five consecutive epochs."
   ]
  },
  {
   "cell_type": "code",
   "execution_count": 90,
   "id": "sophisticated-register",
   "metadata": {},
   "outputs": [],
   "source": [
    "tf.random.set_seed(42)\n",
    "np.random.seed(42)"
   ]
  },
  {
   "cell_type": "code",
   "execution_count": 91,
   "id": "minus-newman",
   "metadata": {},
   "outputs": [
    {
     "name": "stdout",
     "output_type": "stream",
     "text": [
      "Epoch 1/25\n",
      "1719/1719 [==============================] - 17s 9ms/step - loss: 0.7110 - accuracy: 0.7761 - val_loss: 0.4654 - val_accuracy: 0.8532\n",
      "Epoch 2/25\n",
      "1719/1719 [==============================] - 14s 8ms/step - loss: 0.4818 - accuracy: 0.8410 - val_loss: 0.6064 - val_accuracy: 0.8254\n",
      "Epoch 3/25\n",
      "1719/1719 [==============================] - 17s 10ms/step - loss: 0.5044 - accuracy: 0.8424 - val_loss: 0.5094 - val_accuracy: 0.8472\n",
      "Epoch 4/25\n",
      "1719/1719 [==============================] - 19s 11ms/step - loss: 0.4849 - accuracy: 0.8501 - val_loss: 0.4738 - val_accuracy: 0.8618\n",
      "Epoch 5/25\n",
      "1719/1719 [==============================] - 14s 8ms/step - loss: 0.5296 - accuracy: 0.8443 - val_loss: 0.5727 - val_accuracy: 0.8300\n",
      "Epoch 6/25\n",
      "1719/1719 [==============================] - 15s 9ms/step - loss: 0.4907 - accuracy: 0.8572 - val_loss: 0.6577 - val_accuracy: 0.8470\n",
      "Epoch 7/25\n",
      "1719/1719 [==============================] - 17s 10ms/step - loss: 0.3442 - accuracy: 0.8861 - val_loss: 0.4124 - val_accuracy: 0.8770\n",
      "Epoch 8/25\n",
      "1719/1719 [==============================] - 18s 11ms/step - loss: 0.2558 - accuracy: 0.9060 - val_loss: 0.4019 - val_accuracy: 0.8738\n",
      "Epoch 9/25\n",
      "1719/1719 [==============================] - 13s 7ms/step - loss: 0.2371 - accuracy: 0.9109 - val_loss: 0.3878 - val_accuracy: 0.8902\n",
      "Epoch 10/25\n",
      "1719/1719 [==============================] - 18s 10ms/step - loss: 0.2161 - accuracy: 0.9193 - val_loss: 0.4159 - val_accuracy: 0.8880\n",
      "Epoch 11/25\n",
      "1719/1719 [==============================] - 17s 10ms/step - loss: 0.1994 - accuracy: 0.9258 - val_loss: 0.4363 - val_accuracy: 0.8822\n",
      "Epoch 12/25\n",
      "1719/1719 [==============================] - 15s 9ms/step - loss: 0.1909 - accuracy: 0.9291 - val_loss: 0.4816 - val_accuracy: 0.8798\n",
      "Epoch 13/25\n",
      "1719/1719 [==============================] - 14s 8ms/step - loss: 0.1807 - accuracy: 0.9312 - val_loss: 0.4396 - val_accuracy: 0.8866\n",
      "Epoch 14/25\n",
      "1719/1719 [==============================] - 16s 9ms/step - loss: 0.1663 - accuracy: 0.9368 - val_loss: 0.4738 - val_accuracy: 0.8796\n",
      "Epoch 15/25\n",
      "1719/1719 [==============================] - 16s 9ms/step - loss: 0.1321 - accuracy: 0.9485 - val_loss: 0.4401 - val_accuracy: 0.8858\n",
      "Epoch 16/25\n",
      "1719/1719 [==============================] - 17s 10ms/step - loss: 0.1047 - accuracy: 0.9590 - val_loss: 0.4568 - val_accuracy: 0.8936\n",
      "Epoch 17/25\n",
      "1719/1719 [==============================] - 14s 8ms/step - loss: 0.0925 - accuracy: 0.9641 - val_loss: 0.4734 - val_accuracy: 0.8914\n",
      "Epoch 18/25\n",
      "1719/1719 [==============================] - 17s 10ms/step - loss: 0.0860 - accuracy: 0.9671 - val_loss: 0.4952 - val_accuracy: 0.8888\n",
      "Epoch 19/25\n",
      "1719/1719 [==============================] - 13s 8ms/step - loss: 0.0824 - accuracy: 0.9684 - val_loss: 0.5098 - val_accuracy: 0.8900\n",
      "Epoch 20/25\n",
      "1719/1719 [==============================] - 15s 9ms/step - loss: 0.0691 - accuracy: 0.9739 - val_loss: 0.4988 - val_accuracy: 0.8914\n",
      "Epoch 21/25\n",
      "1719/1719 [==============================] - 17s 10ms/step - loss: 0.0587 - accuracy: 0.9787 - val_loss: 0.5127 - val_accuracy: 0.8936\n",
      "Epoch 22/25\n",
      "1719/1719 [==============================] - 15s 9ms/step - loss: 0.0550 - accuracy: 0.9805 - val_loss: 0.5338 - val_accuracy: 0.8950\n",
      "Epoch 23/25\n",
      "1719/1719 [==============================] - 16s 9ms/step - loss: 0.0515 - accuracy: 0.9817 - val_loss: 0.5384 - val_accuracy: 0.8956\n",
      "Epoch 24/25\n",
      "1719/1719 [==============================] - 13s 8ms/step - loss: 0.0478 - accuracy: 0.9831 - val_loss: 0.5633 - val_accuracy: 0.8940\n",
      "Epoch 25/25\n",
      "1719/1719 [==============================] - 12s 7ms/step - loss: 0.0429 - accuracy: 0.9863 - val_loss: 0.5708 - val_accuracy: 0.8918\n"
     ]
    }
   ],
   "source": [
    "lr_scheduler = keras.callbacks.ReduceLROnPlateau(factor=0.5, patience=5)\n",
    "\n",
    "model = keras.models.Sequential([\n",
    "    keras.layers.Flatten(input_shape=[28, 28]),\n",
    "    keras.layers.Dense(300, activation=\"selu\", kernel_initializer=\"lecun_normal\"),\n",
    "    keras.layers.Dense(100, activation=\"selu\", kernel_initializer=\"lecun_normal\"),\n",
    "    keras.layers.Dense(10, activation=\"softmax\")\n",
    "])\n",
    "\n",
    "optimizer = keras.optimizers.SGD(lr=0.02, momentum=0.9)\n",
    "model.compile(loss=\"sparse_categorical_crossentropy\", optimizer=optimizer, metrics=[\"accuracy\"])\n",
    "n_epochs = 25\n",
    "\n",
    "history = model.fit(X_train_scaled, y_train, epochs=n_epochs,\n",
    "                   validation_data=(X_valid_scaled, y_valid),\n",
    "                   callbacks=[lr_scheduler])"
   ]
  },
  {
   "cell_type": "code",
   "execution_count": 92,
   "id": "domestic-shooting",
   "metadata": {},
   "outputs": [
    {
     "data": {
      "image/png": "[encoded data removed]",
      "text/plain": [
       "<Figure size 432x288 with 2 Axes>"
      ]
     },
     "metadata": {
      "needs_background": "light"
     },
     "output_type": "display_data"
    }
   ],
   "source": [
    "plt.plot(history.epoch, history.history[\"lr\"], \"bo-\")\n",
    "plt.xlabel(\"Epoch\")\n",
    "plt.ylabel(\"Learning Rate\", color='b')\n",
    "plt.tick_params('y', colors='b')\n",
    "plt.gca().set_xlim(0, n_epochs - 1)\n",
    "plt.grid(True)\n",
    "\n",
    "ax2 = plt.gca().twinx()\n",
    "ax2.plot(history.epoch, history.history[\"val_loss\"], \"r^-\")\n",
    "ax2.set_ylabel('Validation Loss', color='r')\n",
    "ax2.tick_params('y', colors='r')\n",
    "\n",
    "plt.title(\"Reduce LR on Plateau\", fontsize=14)\n",
    "plt.show()"
   ]
  },
  {
   "cell_type": "markdown",
   "id": "rocky-convergence",
   "metadata": {},
   "source": [
    "### tf.keras schedulers\n",
    "- Lastly, tf.keras offers an alternative way to implement learning rate scheduling: define the learning rate using one of the schedules available in keras.optimizers.schedules, then pass this learning rate to any optimizer. \n",
    "    - This approach updates the learning rate at each step rather than at each epoch."
   ]
  },
  {
   "cell_type": "code",
   "execution_count": 93,
   "id": "physical-kinase",
   "metadata": {},
   "outputs": [
    {
     "name": "stdout",
     "output_type": "stream",
     "text": [
      "Epoch 1/25\n",
      "1719/1719 [==============================] - 13s 7ms/step - loss: 0.5995 - accuracy: 0.7923 - val_loss: 0.4095 - val_accuracy: 0.8598\n",
      "Epoch 2/25\n",
      "1719/1719 [==============================] - 11s 6ms/step - loss: 0.3890 - accuracy: 0.8615 - val_loss: 0.3739 - val_accuracy: 0.8696\n",
      "Epoch 3/25\n",
      "1719/1719 [==============================] - 11s 6ms/step - loss: 0.3530 - accuracy: 0.8774 - val_loss: 0.3732 - val_accuracy: 0.8688\n",
      "Epoch 4/25\n",
      "1719/1719 [==============================] - 13s 8ms/step - loss: 0.3296 - accuracy: 0.8819 - val_loss: 0.3494 - val_accuracy: 0.8804\n",
      "Epoch 5/25\n",
      "1719/1719 [==============================] - 12s 7ms/step - loss: 0.3175 - accuracy: 0.8866 - val_loss: 0.3432 - val_accuracy: 0.8796\n",
      "Epoch 6/25\n",
      "1719/1719 [==============================] - 12s 7ms/step - loss: 0.2927 - accuracy: 0.8952 - val_loss: 0.3416 - val_accuracy: 0.8814\n",
      "Epoch 7/25\n",
      "1719/1719 [==============================] - 11s 6ms/step - loss: 0.2851 - accuracy: 0.8990 - val_loss: 0.3355 - val_accuracy: 0.8816\n",
      "Epoch 8/25\n",
      "1719/1719 [==============================] - 10s 6ms/step - loss: 0.2713 - accuracy: 0.9039 - val_loss: 0.3366 - val_accuracy: 0.8816\n",
      "Epoch 9/25\n",
      "1719/1719 [==============================] - 11s 7ms/step - loss: 0.2712 - accuracy: 0.9045 - val_loss: 0.3265 - val_accuracy: 0.8858\n",
      "Epoch 10/25\n",
      "1719/1719 [==============================] - 14s 8ms/step - loss: 0.2567 - accuracy: 0.9083 - val_loss: 0.3239 - val_accuracy: 0.8858\n",
      "Epoch 11/25\n",
      "1719/1719 [==============================] - 13s 7ms/step - loss: 0.2501 - accuracy: 0.9116 - val_loss: 0.3252 - val_accuracy: 0.8868\n",
      "Epoch 12/25\n",
      "1719/1719 [==============================] - 11s 6ms/step - loss: 0.2451 - accuracy: 0.9150 - val_loss: 0.3301 - val_accuracy: 0.8818\n",
      "Epoch 13/25\n",
      "1719/1719 [==============================] - 11s 7ms/step - loss: 0.2408 - accuracy: 0.9154 - val_loss: 0.3219 - val_accuracy: 0.8868\n",
      "Epoch 14/25\n",
      "1719/1719 [==============================] - 11s 7ms/step - loss: 0.2377 - accuracy: 0.9160 - val_loss: 0.3223 - val_accuracy: 0.8854\n",
      "Epoch 15/25\n",
      "1719/1719 [==============================] - 11s 6ms/step - loss: 0.2375 - accuracy: 0.9167 - val_loss: 0.3208 - val_accuracy: 0.8882\n",
      "Epoch 16/25\n",
      "1719/1719 [==============================] - 11s 6ms/step - loss: 0.2315 - accuracy: 0.9194 - val_loss: 0.3186 - val_accuracy: 0.8888\n",
      "Epoch 17/25\n",
      "1719/1719 [==============================] - 12s 7ms/step - loss: 0.2264 - accuracy: 0.9214 - val_loss: 0.3200 - val_accuracy: 0.8898\n",
      "Epoch 18/25\n",
      "1719/1719 [==============================] - 11s 6ms/step - loss: 0.2283 - accuracy: 0.9190 - val_loss: 0.3172 - val_accuracy: 0.8894\n",
      "Epoch 19/25\n",
      "1719/1719 [==============================] - 11s 7ms/step - loss: 0.2283 - accuracy: 0.9205 - val_loss: 0.3201 - val_accuracy: 0.8894\n",
      "Epoch 20/25\n",
      "1719/1719 [==============================] - 12s 7ms/step - loss: 0.2287 - accuracy: 0.9216 - val_loss: 0.3173 - val_accuracy: 0.8902\n",
      "Epoch 21/25\n",
      "1719/1719 [==============================] - 13s 7ms/step - loss: 0.2264 - accuracy: 0.9210 - val_loss: 0.3183 - val_accuracy: 0.8908\n",
      "Epoch 22/25\n",
      "1719/1719 [==============================] - 13s 7ms/step - loss: 0.2256 - accuracy: 0.9204 - val_loss: 0.3167 - val_accuracy: 0.8912\n",
      "Epoch 23/25\n",
      "1719/1719 [==============================] - 11s 6ms/step - loss: 0.2222 - accuracy: 0.9231 - val_loss: 0.3175 - val_accuracy: 0.8900\n",
      "Epoch 24/25\n",
      "1719/1719 [==============================] - 12s 7ms/step - loss: 0.2180 - accuracy: 0.9241 - val_loss: 0.3170 - val_accuracy: 0.8898\n",
      "Epoch 25/25\n",
      "1719/1719 [==============================] - 11s 6ms/step - loss: 0.2222 - accuracy: 0.9226 - val_loss: 0.3169 - val_accuracy: 0.8910\n"
     ]
    }
   ],
   "source": [
    "model = keras.models.Sequential([\n",
    "    keras.layers.Flatten(input_shape=[28, 28]),\n",
    "    keras.layers.Dense(300, activation=\"selu\", kernel_initializer=\"lecun_normal\"),\n",
    "    keras.layers.Dense(100, activation=\"selu\", kernel_initializer=\"lecun_normal\"),\n",
    "    keras.layers.Dense(10, activation=\"softmax\")\n",
    "])\n",
    "s = 20 * len(X_train) // 32 # number of steps in 20 epochs (batch size = 32)\n",
    "learning_rate = keras.optimizers.schedules.ExponentialDecay(0.01, s, 0.1)\n",
    "optimizer = keras.optimizers.SGD(learning_rate)\n",
    "model.compile(loss=\"sparse_categorical_crossentropy\", optimizer=optimizer, metrics=[\"accuracy\"])\n",
    "n_epochs = 25\n",
    "history = model.fit(X_train_scaled, y_train, epochs=n_epochs,\n",
    "                    validation_data=(X_valid_scaled, y_valid))"
   ]
  },
  {
   "cell_type": "markdown",
   "id": "innocent-society",
   "metadata": {},
   "source": [
    "For piecewise constant scheduling, try this:"
   ]
  },
  {
   "cell_type": "code",
   "execution_count": 94,
   "id": "muslim-spotlight",
   "metadata": {},
   "outputs": [],
   "source": [
    "learning_rate = keras.optimizers.schedules.PiecewiseConstantDecay(\n",
    "    boundaries=[5. * n_steps_per_epoch, 15. * n_steps_per_epoch],\n",
    "    values=[0.01, 0.005, 0.001])"
   ]
  },
  {
   "cell_type": "markdown",
   "id": "aggregate-ladder",
   "metadata": {},
   "source": [
    "### 1Cycle scheduling\n",
    "- Contrary to the other approaches, 1cycle (introduced in a 2018 paper by Leslie Smith) starts by increasing the initial learning rate lr0 , growing linearly up to lr1 halfway through training.\n",
    "    - Then it decreases the learning rate linearly down to lr0 again during the second half of training, finishing the last few epochs by dropping the rate down by several orders of magnitude (still linearly).\n",
    "    - The maximum learning rate lr1 is chosen using the same approach we used to find the optimal learning rate, and the initial learning rate lr0 is chosen to be roughly 10 times lower.\n",
    "- When using a momentum, we start with a high momentum first (e.g., 0.95), then drop it down to a lower momentum during the first half of training (e.g., down to 0.85, linearly), and then bring it back up to the maximum value (e.g., 0.95) during the second half of training, finishing the last few epochs with that maximum value.\n",
    "- Smith did many experiments showing that this approach was often able to speed up training considerably and reach better performance. \n",
    "    - For example, on the popular CIFAR10 image dataset, this approach reached 91.9% validation accuracy in just 100 epochs, instead of 90.3% accuracy in 800 epochs through a standard approach (with the same neural network architecture).\n",
    "\n",
    "- A 2013 paper by Andrew Senior et al. compared the performance of some of the most popular learning schedules when using momentum optimization to train deep neural networks for speech recognition. \n",
    "    - The authors concluded that, in this setting, both performance scheduling and exponential scheduling performed well.\n",
    "    - **They favored exponential scheduling because it was easy to tune and it converged slightly faster to the optimal solution** (they also mentioned that it was easier to implement than performance scheduling, but in Keras both options are easy). \n",
    "    - That said, the **1cycle approach seems to perform even better.**"
   ]
  },
  {
   "cell_type": "code",
   "execution_count": 95,
   "id": "geological-wellington",
   "metadata": {},
   "outputs": [],
   "source": [
    "K = keras.backend\n",
    "\n",
    "class ExponentialLearningRate(keras.callbacks.Callback):\n",
    "    def __init__(self, factor):\n",
    "        self.factor = factor\n",
    "        self.rates = []\n",
    "        self.losses = []\n",
    "    def on_batch_end(self, batch, logs):\n",
    "        self.rates.append(K.get_value(self.model.optimizer.lr))\n",
    "        self.losses.append(logs[\"loss\"])\n",
    "        K.set_value(self.model.optimizer.lr, self.model.optimizer.lr * self.factor)\n",
    "\n",
    "def find_learning_rate(model, X, y, epochs=1, batch_size=32, min_rate=10**-5, max_rate=10):\n",
    "    init_weights = model.get_weights()\n",
    "    iterations = math.ceil(len(X) / batch_size) * epochs\n",
    "    factor = np.exp(np.log(max_rate / min_rate) / iterations)\n",
    "    init_lr = K.get_value(model.optimizer.lr)\n",
    "    K.set_value(model.optimizer.lr, min_rate)\n",
    "    exp_lr = ExponentialLearningRate(factor)\n",
    "    history = model.fit(X, y, epochs=epochs, batch_size=batch_size,\n",
    "                        callbacks=[exp_lr])\n",
    "    K.set_value(model.optimizer.lr, init_lr)\n",
    "    model.set_weights(init_weights)\n",
    "    return exp_lr.rates, exp_lr.losses\n",
    "\n",
    "def plot_lr_vs_loss(rates, losses):\n",
    "    plt.plot(rates, losses)\n",
    "    plt.gca().set_xscale('log')\n",
    "    plt.hlines(min(losses), min(rates), max(rates))\n",
    "    plt.axis([min(rates), max(rates), min(losses), (losses[0] + min(losses)) / 2])\n",
    "    plt.xlabel(\"Learning rate\")\n",
    "    plt.ylabel(\"Loss\")"
   ]
  },
  {
   "cell_type": "code",
   "execution_count": 96,
   "id": "political-stream",
   "metadata": {},
   "outputs": [],
   "source": [
    "tf.random.set_seed(42)\n",
    "np.random.seed(42)\n",
    "\n",
    "model = keras.models.Sequential([\n",
    "    keras.layers.Flatten(input_shape=[28, 28]),\n",
    "    keras.layers.Dense(300, activation=\"selu\", kernel_initializer=\"lecun_normal\"),\n",
    "    keras.layers.Dense(100, activation=\"selu\", kernel_initializer=\"lecun_normal\"),\n",
    "    keras.layers.Dense(10, activation=\"softmax\")\n",
    "])\n",
    "model.compile(loss=\"sparse_categorical_crossentropy\",\n",
    "              optimizer=keras.optimizers.SGD(lr=1e-3),\n",
    "              metrics=[\"accuracy\"])"
   ]
  },
  {
   "cell_type": "code",
   "execution_count": 97,
   "id": "super-revolution",
   "metadata": {},
   "outputs": [
    {
     "name": "stdout",
     "output_type": "stream",
     "text": [
      "430/430 [==============================] - 6s 13ms/step - loss: nan - accuracy: 0.3122\n"
     ]
    },
    {
     "data": {
      "image/png": "[encoded data removed]",
      "text/plain": [
       "<Figure size 432x288 with 1 Axes>"
      ]
     },
     "metadata": {
      "needs_background": "light"
     },
     "output_type": "display_data"
    }
   ],
   "source": [
    "batch_size = 128\n",
    "rates, losses = find_learning_rate(model, X_train_scaled, y_train, epochs=1, batch_size=batch_size)\n",
    "plot_lr_vs_loss(rates, losses)"
   ]
  },
  {
   "cell_type": "code",
   "execution_count": 98,
   "id": "willing-looking",
   "metadata": {},
   "outputs": [],
   "source": [
    "class OneCycleScheduler(keras.callbacks.Callback):\n",
    "    def __init__(self, iterations, max_rate, start_rate=None,\n",
    "                 last_iterations=None, last_rate=None):\n",
    "        self.iterations = iterations\n",
    "        self.max_rate = max_rate\n",
    "        self.start_rate = start_rate or max_rate / 10\n",
    "        self.last_iterations = last_iterations or iterations // 10 + 1\n",
    "        self.half_iteration = (iterations - self.last_iterations) // 2\n",
    "        self.last_rate = last_rate or self.start_rate / 1000\n",
    "        self.iteration = 0\n",
    "    def _interpolate(self, iter1, iter2, rate1, rate2):\n",
    "        return ((rate2 - rate1) * (self.iteration - iter1)\n",
    "                / (iter2 - iter1) + rate1)\n",
    "    def on_batch_begin(self, batch, logs):\n",
    "        if self.iteration < self.half_iteration:\n",
    "            rate = self._interpolate(0, self.half_iteration, self.start_rate, self.max_rate)\n",
    "        elif self.iteration < 2 * self.half_iteration:\n",
    "            rate = self._interpolate(self.half_iteration, 2 * self.half_iteration,\n",
    "                                     self.max_rate, self.start_rate)\n",
    "        else:\n",
    "            rate = self._interpolate(2 * self.half_iteration, self.iterations,\n",
    "                                     self.start_rate, self.last_rate)\n",
    "        self.iteration += 1\n",
    "        K.set_value(self.model.optimizer.lr, rate)"
   ]
  },
  {
   "cell_type": "code",
   "execution_count": 99,
   "id": "graphic-theory",
   "metadata": {},
   "outputs": [
    {
     "name": "stdout",
     "output_type": "stream",
     "text": [
      "Epoch 1/25\n",
      "430/430 [==============================] - 6s 14ms/step - loss: 0.6572 - accuracy: 0.7740 - val_loss: 0.4872 - val_accuracy: 0.8336\n",
      "Epoch 2/25\n",
      "430/430 [==============================] - 6s 13ms/step - loss: 0.4581 - accuracy: 0.8396 - val_loss: 0.4275 - val_accuracy: 0.8524\n",
      "Epoch 3/25\n",
      "430/430 [==============================] - 5s 13ms/step - loss: 0.4122 - accuracy: 0.8546 - val_loss: 0.4114 - val_accuracy: 0.8578\n",
      "Epoch 4/25\n",
      "430/430 [==============================] - 6s 13ms/step - loss: 0.3837 - accuracy: 0.8642 - val_loss: 0.3868 - val_accuracy: 0.8686\n",
      "Epoch 5/25\n",
      "430/430 [==============================] - 6s 13ms/step - loss: 0.3639 - accuracy: 0.8718 - val_loss: 0.3767 - val_accuracy: 0.8684\n",
      "Epoch 6/25\n",
      "430/430 [==============================] - 6s 14ms/step - loss: 0.3456 - accuracy: 0.8774 - val_loss: 0.3742 - val_accuracy: 0.8708\n",
      "Epoch 7/25\n",
      "430/430 [==============================] - 6s 14ms/step - loss: 0.3330 - accuracy: 0.8812 - val_loss: 0.3635 - val_accuracy: 0.8714\n",
      "Epoch 8/25\n",
      "430/430 [==============================] - 5s 12ms/step - loss: 0.3184 - accuracy: 0.8863 - val_loss: 0.3950 - val_accuracy: 0.8614\n",
      "Epoch 9/25\n",
      "430/430 [==============================] - 6s 14ms/step - loss: 0.3065 - accuracy: 0.8890 - val_loss: 0.3490 - val_accuracy: 0.8758\n",
      "Epoch 10/25\n",
      "430/430 [==============================] - 5s 13ms/step - loss: 0.2944 - accuracy: 0.8925 - val_loss: 0.3393 - val_accuracy: 0.8796\n",
      "Epoch 11/25\n",
      "430/430 [==============================] - 6s 14ms/step - loss: 0.2838 - accuracy: 0.8963 - val_loss: 0.3459 - val_accuracy: 0.8820\n",
      "Epoch 12/25\n",
      "430/430 [==============================] - 7s 16ms/step - loss: 0.2709 - accuracy: 0.9026 - val_loss: 0.3660 - val_accuracy: 0.8684\n",
      "Epoch 13/25\n",
      "430/430 [==============================] - 6s 14ms/step - loss: 0.2538 - accuracy: 0.9080 - val_loss: 0.3355 - val_accuracy: 0.8832\n",
      "Epoch 14/25\n",
      "430/430 [==============================] - 6s 13ms/step - loss: 0.2405 - accuracy: 0.9138 - val_loss: 0.3464 - val_accuracy: 0.8798\n",
      "Epoch 15/25\n",
      "430/430 [==============================] - 5s 13ms/step - loss: 0.2281 - accuracy: 0.9185 - val_loss: 0.3259 - val_accuracy: 0.8840\n",
      "Epoch 16/25\n",
      "430/430 [==============================] - 5s 13ms/step - loss: 0.2160 - accuracy: 0.9236 - val_loss: 0.3293 - val_accuracy: 0.8834\n",
      "Epoch 17/25\n",
      "430/430 [==============================] - 6s 13ms/step - loss: 0.2063 - accuracy: 0.9260 - val_loss: 0.3349 - val_accuracy: 0.8876\n",
      "Epoch 18/25\n",
      "430/430 [==============================] - 6s 13ms/step - loss: 0.1979 - accuracy: 0.9302 - val_loss: 0.3240 - val_accuracy: 0.8900\n",
      "Epoch 19/25\n",
      "430/430 [==============================] - 5s 13ms/step - loss: 0.1892 - accuracy: 0.9339 - val_loss: 0.3236 - val_accuracy: 0.8900\n",
      "Epoch 20/25\n",
      "430/430 [==============================] - 6s 13ms/step - loss: 0.1822 - accuracy: 0.9369 - val_loss: 0.3227 - val_accuracy: 0.8930\n",
      "Epoch 21/25\n",
      "430/430 [==============================] - 5s 12ms/step - loss: 0.1752 - accuracy: 0.9399 - val_loss: 0.3223 - val_accuracy: 0.8906\n",
      "Epoch 22/25\n",
      "430/430 [==============================] - 6s 13ms/step - loss: 0.1700 - accuracy: 0.9419 - val_loss: 0.3186 - val_accuracy: 0.8938\n",
      "Epoch 23/25\n",
      "430/430 [==============================] - 6s 13ms/step - loss: 0.1654 - accuracy: 0.9440 - val_loss: 0.3190 - val_accuracy: 0.8944\n",
      "Epoch 24/25\n",
      "430/430 [==============================] - 5s 13ms/step - loss: 0.1626 - accuracy: 0.9455 - val_loss: 0.3181 - val_accuracy: 0.8926\n",
      "Epoch 25/25\n",
      "430/430 [==============================] - 5s 13ms/step - loss: 0.1609 - accuracy: 0.9463 - val_loss: 0.3174 - val_accuracy: 0.8942\n"
     ]
    }
   ],
   "source": [
    "n_epochs = 25\n",
    "onecycle = OneCycleScheduler(math.ceil(len(X_train) / batch_size) * n_epochs, max_rate=0.05)\n",
    "history = model.fit(X_train_scaled, y_train, epochs=n_epochs, batch_size=batch_size,\n",
    "                    validation_data=(X_valid_scaled, y_valid),\n",
    "                    callbacks=[onecycle])"
   ]
  },
  {
   "cell_type": "markdown",
   "id": "local-nation",
   "metadata": {},
   "source": [
    "## Avoiding Overfitting Through Regularization\n",
    "- Deep neural networks typically have tens of thousands of parameters, sometimes even millions. \n",
    "    - This gives them an incredible amount of freedom and means they can fit a huge variety of complex datasets. \n",
    "    - But this great flexibility also makes the network prone to overfitting the training set. We need regularization\n",
    "\n",
    "## $\\ell_1$ and $\\ell_2$ regularization\n",
    "- You can use $\\ell_2$ regularization to constrain a neural network’s connection weights, and/or $\\ell_1$ regularization if you want a sparse model (with many weights equal to 0).\n",
    "- Here is how to apply $\\ell_2$ regularization to a Keras layer’s connection weights, using a regularization factor of 0.01:"
   ]
  },
  {
   "cell_type": "code",
   "execution_count": 100,
   "id": "julian-three",
   "metadata": {},
   "outputs": [],
   "source": [
    "layer = keras.layers.Dense(100, activation=\"elu\", \n",
    "                           kernel_initializer=\"he_normal\",\n",
    "                           kernel_regularizer=keras.regularizers.l2(0.01))\n",
    "\n",
    "# or l1(0.1) for ℓ1 regularization with a factor or 0.1\n",
    "# or l1_l2(0.1, 0.01) for both ℓ1 and ℓ2 regularization, with factors 0.1 and 0.01 respectively"
   ]
  },
  {
   "cell_type": "code",
   "execution_count": 101,
   "id": "assigned-technical",
   "metadata": {},
   "outputs": [
    {
     "name": "stdout",
     "output_type": "stream",
     "text": [
      "Epoch 1/2\n",
      "1719/1719 [==============================] - 22s 11ms/step - loss: 3.2189 - accuracy: 0.7967 - val_loss: 0.7169 - val_accuracy: 0.8340\n",
      "Epoch 2/2\n",
      "1719/1719 [==============================] - 20s 11ms/step - loss: 0.7280 - accuracy: 0.8247 - val_loss: 0.6850 - val_accuracy: 0.8376\n"
     ]
    }
   ],
   "source": [
    "model = keras.models.Sequential([\n",
    "    keras.layers.Flatten(input_shape=[28, 28]),\n",
    "    keras.layers.Dense(300, activation=\"elu\",\n",
    "                       kernel_initializer=\"he_normal\",\n",
    "                       kernel_regularizer=keras.regularizers.l2(0.01)),\n",
    "    keras.layers.Dense(100, activation=\"elu\",\n",
    "                       kernel_initializer=\"he_normal\",\n",
    "                       kernel_regularizer=keras.regularizers.l2(0.01)),\n",
    "    keras.layers.Dense(10, activation=\"softmax\",\n",
    "                       kernel_regularizer=keras.regularizers.l2(0.01))\n",
    "])\n",
    "model.compile(loss=\"sparse_categorical_crossentropy\", optimizer=\"nadam\", metrics=[\"accuracy\"])\n",
    "n_epochs = 2\n",
    "history = model.fit(X_train_scaled, y_train, epochs=n_epochs,\n",
    "                    validation_data=(X_valid_scaled, y_valid))"
   ]
  },
  {
   "cell_type": "markdown",
   "id": "raising-transmission",
   "metadata": {},
   "source": [
    "- The l2() function returns a regularizer that will be called at each step during training to compute the regularization loss. This is then added to the final loss.\n",
    "    - As you might expect, you can just use keras.regularizers.l1() if you want ℓ regularization; if you want both $\\ell_1$ and $\\ell_2$ regularization, use keras.regularizers.l1_l2() (specifying both regularization factors).\n",
    "- Since you will typically want to apply the same regularizer to all layers in your network, as well as using the same activation function and the same initialization strategy in all hidden layers, you may find yourself repeating the same arguments.\n",
    "    - This makes the code ugly and error-prone.\n",
    "    - To avoid this, you can try refactoring your code to use loops.\n",
    "    - Another option is to use Python’s **functools.partial()** function, which lets you create a thin wrapper for any callable, with some default argument values:"
   ]
  },
  {
   "cell_type": "code",
   "execution_count": 102,
   "id": "continued-peeing",
   "metadata": {},
   "outputs": [
    {
     "name": "stdout",
     "output_type": "stream",
     "text": [
      "Epoch 1/2\n",
      "1719/1719 [==============================] - 21s 10ms/step - loss: 3.2911 - accuracy: 0.7924 - val_loss: 0.7218 - val_accuracy: 0.8310\n",
      "Epoch 2/2\n",
      "1719/1719 [==============================] - 16s 9ms/step - loss: 0.7282 - accuracy: 0.8245 - val_loss: 0.6826 - val_accuracy: 0.8382\n"
     ]
    }
   ],
   "source": [
    "from functools import partial\n",
    "\n",
    "RegularizedDense = partial(keras.layers.Dense,\n",
    "                           activation=\"elu\",\n",
    "                           kernel_initializer=\"he_normal\",\n",
    "                           kernel_regularizer=keras.regularizers.l2(0.01))\n",
    "\n",
    "model = keras.models.Sequential([\n",
    "    keras.layers.Flatten(input_shape=[28, 28]),\n",
    "    RegularizedDense(300),\n",
    "    RegularizedDense(100),\n",
    "    RegularizedDense(10, activation=\"softmax\")\n",
    "])\n",
    "\n",
    "model.compile(loss=\"sparse_categorical_crossentropy\", optimizer=\"nadam\", metrics=[\"accuracy\"])\n",
    "n_epochs=2\n",
    "history = model.fit(X_train_scaled, y_train, epochs=n_epochs,\n",
    "                    validation_data=(X_valid_scaled, y_valid))"
   ]
  },
  {
   "cell_type": "markdown",
   "id": "latter-soccer",
   "metadata": {},
   "source": [
    "## Dropout\n",
    "- Dropout is one of the most popular regularization techniques for deep neural networks. It was proposed in a paper by Geoffrey Hinton in 2012 and further detailed in a 2014 paper by Nitish Srivastava et al., and it has proven to be highly successful: even the state-of-the-art neural networks get a 1–2% accuracy boost simply by adding dropout. \n",
    "    - This may not sound like a lot, but when a model already has 95% accuracy, getting a 2% accuracy boost means dropping the error rate by almost 40% (going from 5% error to roughly 3%).\n",
    "- It is a fairly simple algorithm: **at every training step, every neuron (including the input neurons, but always excluding the output neurons) has a probability p of being temporarily “dropped out,” meaning it will be entirely ignored during this training step, but it may be active during the next step.**\n",
    "- The hyperparameter p is called the dropout rate, and it is **typically set between 10% and 50%:** \n",
    "    - **closer to 20–30% in recurrent neural nets (RNNs)**, \n",
    "    - and **closer to 40–50% in convolutional neural networks (CNNs).**\n",
    "- After training, neurons don’t get dropped anymore. And that’s all\n",
    "\n",
    "<img src=\"11-9.png\">\n",
    "\n",
    "### TIP\n",
    "In practice, you can usually apply dropout only to the neurons in the top one to three layers (excluding the output layer).\n",
    "***\n",
    "\n",
    "- There is one small but important technical detail. Suppose p = 50%, in which case during testing a neuron would be connected to twice as many input neurons as it would be (on average) during training. \n",
    "    - To compensate for this fact, we need to multiply each neuron’s input connection weights by 0.5 after training. \n",
    "    - If we don’t, each neuron will get a total input signal roughly twice as large as what the network was trained on and will be unlikely to perform well. \n",
    "    - More generally, we need to multiply each input connection weight by the **keep probability** (1 – p) after training.\n",
    "    - Alternatively, we can divide each neuron’s output by the keep probability during training (these alternatives are not perfectly equivalent, but they work equally well).\n",
    "- To implement dropout using Keras, you can use the **keras.layers.Dropout** layer.\n",
    "    - During training, it randomly drops some inputs (setting them to 0) and divides the remaining inputs by the keep probability.\n",
    "    - After training, it does nothing at all; it just passes the inputs to the next layer.\n",
    "\n",
    "The following code applies dropout regularization before every Dense layer, using a dropout rate of 0.2:"
   ]
  },
  {
   "cell_type": "code",
   "execution_count": 103,
   "id": "tender-orientation",
   "metadata": {},
   "outputs": [
    {
     "name": "stdout",
     "output_type": "stream",
     "text": [
      "Epoch 1/2\n",
      "1719/1719 [==============================] - 25s 13ms/step - loss: 0.7611 - accuracy: 0.7576 - val_loss: 0.3730 - val_accuracy: 0.8644\n",
      "Epoch 2/2\n",
      "1719/1719 [==============================] - 23s 13ms/step - loss: 0.4306 - accuracy: 0.8401 - val_loss: 0.3397 - val_accuracy: 0.8720\n"
     ]
    }
   ],
   "source": [
    "model = keras.models.Sequential([\n",
    "    keras.layers.Flatten(input_shape=[28, 28]),\n",
    "    keras.layers.Dropout(rate=0.2),\n",
    "    keras.layers.Dense(300, activation=\"elu\", kernel_initializer=\"he_normal\"),\n",
    "    keras.layers.Dropout(rate=0.2),\n",
    "    keras.layers.Dense(100, activation=\"elu\", kernel_initializer=\"he_normal\"),\n",
    "    keras.layers.Dropout(rate=0.2),\n",
    "    keras.layers.Dense(10, activation=\"softmax\")\n",
    "])\n",
    "\n",
    "model.compile(loss=\"sparse_categorical_crossentropy\", optimizer=\"nadam\", metrics=[\"accuracy\"])\n",
    "n_epochs = 2\n",
    "history = model.fit(X_train_scaled, y_train, epochs=n_epochs,\n",
    "                    validation_data=(X_valid_scaled, y_valid))"
   ]
  },
  {
   "cell_type": "markdown",
   "id": "standard-summit",
   "metadata": {},
   "source": [
    "### WARNING\n",
    "- Since dropout is only active during training, comparing the training loss and the validation loss can be misleading. \n",
    "- In particular, a model may be overfitting the training set and yet have similar training and validation losses. \n",
    "    - So make sure to evaluate the training loss without dropout (e.g., after training).\n",
    "***\n",
    "- If you observe that **the model is overfitting, you can increase the dropout rate**. \n",
    "    - Conversely, you should **try decreasing the dropout rate if the model underfits the training set.**\n",
    "- It can also help to increase the dropout rate for large layers, and reduce it for small ones. \n",
    "- Moreover, many state-of-the-art architectures only use dropout after the last hidden layer, so you may want to try this if full dropout is too strong.\n",
    "- Dropout does tend to significantly slow down convergence, but it usually results in a much better model when tuned properly. So, it is generally well worth the extra time and effort.\n"
   ]
  },
  {
   "cell_type": "markdown",
   "id": "quality-blackjack",
   "metadata": {},
   "source": [
    "### TIP\n",
    "- If you want to regularize a self-normalizing network based on the SELU activation function (as discussed earlier), you should use **alpha dropout**: this is a variant of dropout that preserves the mean and standard deviation of its inputs (it was introduced in the same paper as SELU, as regular dropout would break self-normalization).\n",
    "\n",
    "## Alpha Dropout"
   ]
  },
  {
   "cell_type": "code",
   "execution_count": 104,
   "id": "educated-copyright",
   "metadata": {},
   "outputs": [],
   "source": [
    "tf.random.set_seed(42)\n",
    "np.random.seed(42)"
   ]
  },
  {
   "cell_type": "code",
   "execution_count": 105,
   "id": "mathematical-cornell",
   "metadata": {},
   "outputs": [
    {
     "name": "stdout",
     "output_type": "stream",
     "text": [
      "Epoch 1/20\n",
      "1719/1719 [==============================] - 22s 12ms/step - loss: 0.8023 - accuracy: 0.7146 - val_loss: 0.5778 - val_accuracy: 0.8446\n",
      "Epoch 2/20\n",
      "1719/1719 [==============================] - 19s 11ms/step - loss: 0.5662 - accuracy: 0.7904 - val_loss: 0.5146 - val_accuracy: 0.8528\n",
      "Epoch 3/20\n",
      "1719/1719 [==============================] - 19s 11ms/step - loss: 0.5260 - accuracy: 0.8063 - val_loss: 0.4882 - val_accuracy: 0.8612\n",
      "Epoch 4/20\n",
      "1719/1719 [==============================] - 19s 11ms/step - loss: 0.5124 - accuracy: 0.8098 - val_loss: 0.4795 - val_accuracy: 0.8588\n",
      "Epoch 5/20\n",
      "1719/1719 [==============================] - 15s 9ms/step - loss: 0.5077 - accuracy: 0.8128 - val_loss: 0.4264 - val_accuracy: 0.8704\n",
      "Epoch 6/20\n",
      "1719/1719 [==============================] - 13s 8ms/step - loss: 0.4793 - accuracy: 0.8202 - val_loss: 0.4614 - val_accuracy: 0.8624\n",
      "Epoch 7/20\n",
      "1719/1719 [==============================] - 9s 5ms/step - loss: 0.4717 - accuracy: 0.8275 - val_loss: 0.4703 - val_accuracy: 0.8638\n",
      "Epoch 8/20\n",
      "1719/1719 [==============================] - 10s 6ms/step - loss: 0.4570 - accuracy: 0.8300 - val_loss: 0.4248 - val_accuracy: 0.8674\n",
      "Epoch 9/20\n",
      "1719/1719 [==============================] - 12s 7ms/step - loss: 0.4626 - accuracy: 0.8290 - val_loss: 0.4256 - val_accuracy: 0.8746\n",
      "Epoch 10/20\n",
      "1719/1719 [==============================] - 9s 5ms/step - loss: 0.4555 - accuracy: 0.8329 - val_loss: 0.4286 - val_accuracy: 0.8650\n",
      "Epoch 11/20\n",
      "1719/1719 [==============================] - 11s 6ms/step - loss: 0.4465 - accuracy: 0.8331 - val_loss: 0.4317 - val_accuracy: 0.8692\n",
      "Epoch 12/20\n",
      "1719/1719 [==============================] - 11s 6ms/step - loss: 0.4426 - accuracy: 0.8357 - val_loss: 0.5125 - val_accuracy: 0.8574\n",
      "Epoch 13/20\n",
      "1719/1719 [==============================] - 9s 5ms/step - loss: 0.4337 - accuracy: 0.8387 - val_loss: 0.4276 - val_accuracy: 0.8742\n",
      "Epoch 14/20\n",
      "1719/1719 [==============================] - 11s 7ms/step - loss: 0.4296 - accuracy: 0.8390 - val_loss: 0.4413 - val_accuracy: 0.8634\n",
      "Epoch 15/20\n",
      "1719/1719 [==============================] - 10s 6ms/step - loss: 0.4317 - accuracy: 0.8371 - val_loss: 0.4321 - val_accuracy: 0.8704\n",
      "Epoch 16/20\n",
      "1719/1719 [==============================] - 9s 5ms/step - loss: 0.4263 - accuracy: 0.8387 - val_loss: 0.4101 - val_accuracy: 0.8780\n",
      "Epoch 17/20\n",
      "1719/1719 [==============================] - 11s 7ms/step - loss: 0.4209 - accuracy: 0.8427 - val_loss: 0.5307 - val_accuracy: 0.8580\n",
      "Epoch 18/20\n",
      "1719/1719 [==============================] - 9s 5ms/step - loss: 0.4362 - accuracy: 0.8380 - val_loss: 0.4795 - val_accuracy: 0.8698\n",
      "Epoch 19/20\n",
      "1719/1719 [==============================] - 9s 5ms/step - loss: 0.4281 - accuracy: 0.8416 - val_loss: 0.4790 - val_accuracy: 0.8694\n",
      "Epoch 20/20\n",
      "1719/1719 [==============================] - 14s 8ms/step - loss: 0.4204 - accuracy: 0.8424 - val_loss: 0.4402 - val_accuracy: 0.8746\n"
     ]
    }
   ],
   "source": [
    "model = keras.models.Sequential([\n",
    "    keras.layers.Flatten(input_shape=[28, 28]),\n",
    "    keras.layers.AlphaDropout(rate=0.2),\n",
    "    keras.layers.Dense(300, activation=\"selu\", kernel_initializer=\"lecun_normal\"),\n",
    "    keras.layers.AlphaDropout(rate=0.2),\n",
    "    keras.layers.Dense(100, activation=\"selu\", kernel_initializer=\"lecun_normal\"),\n",
    "    keras.layers.AlphaDropout(rate=0.2),\n",
    "    keras.layers.Dense(10, activation=\"softmax\")\n",
    "])\n",
    "optimizer = keras.optimizers.SGD(lr=0.01, momentum=0.9, nesterov=True)\n",
    "model.compile(loss=\"sparse_categorical_crossentropy\", optimizer=optimizer, metrics=[\"accuracy\"])\n",
    "n_epochs = 20\n",
    "history = model.fit(X_train_scaled, y_train, epochs=n_epochs,\n",
    "                    validation_data=(X_valid_scaled, y_valid))"
   ]
  },
  {
   "cell_type": "code",
   "execution_count": 106,
   "id": "pressed-monday",
   "metadata": {},
   "outputs": [
    {
     "name": "stdout",
     "output_type": "stream",
     "text": [
      "313/313 [==============================] - 1s 3ms/step - loss: 0.4756 - accuracy: 0.8595\n"
     ]
    },
    {
     "data": {
      "text/plain": [
       "[0.4755621552467346, 0.859499990940094]"
      ]
     },
     "execution_count": 106,
     "metadata": {},
     "output_type": "execute_result"
    }
   ],
   "source": [
    "model.evaluate(X_test_scaled, y_test)"
   ]
  },
  {
   "cell_type": "code",
   "execution_count": 107,
   "id": "pretty-thumbnail",
   "metadata": {},
   "outputs": [
    {
     "name": "stdout",
     "output_type": "stream",
     "text": [
      "1719/1719 [==============================] - 4s 2ms/step - loss: 0.3529 - accuracy: 0.8823\n"
     ]
    },
    {
     "data": {
      "text/plain": [
       "[0.3528751730918884, 0.8822545409202576]"
      ]
     },
     "execution_count": 107,
     "metadata": {},
     "output_type": "execute_result"
    }
   ],
   "source": [
    "model.evaluate(X_train_scaled, y_train)"
   ]
  },
  {
   "cell_type": "code",
   "execution_count": 108,
   "id": "generic-mauritius",
   "metadata": {},
   "outputs": [
    {
     "name": "stdout",
     "output_type": "stream",
     "text": [
      "1719/1719 [==============================] - 9s 5ms/step - loss: 0.4231 - accuracy: 0.8421\n"
     ]
    }
   ],
   "source": [
    "history = model.fit(X_train_scaled, y_train)"
   ]
  },
  {
   "cell_type": "markdown",
   "id": "synthetic-priority",
   "metadata": {},
   "source": [
    "## Monte Carlo (MC) Dropout\n",
    "- In 2016, a paper by Yarin Gal and Zoubin Ghahramani added a few more good reasons to use dropout:\n",
    "    - First, the paper established a profound connection between dropout networks (i.e., neural networks containing a Dropout layer before every weight layer) and approximate Bayesian inference, giving dropout a solid mathematical justification.\n",
    "    - Second, the authors introduced a powerful technique called MC Dropout, which can boost the performance of any trained dropout model without having to retrain it or even modify it at all, provides a much better measure of the model’s uncertainty, and is also amazingly simple to implement.\n",
    "- Here is a full implementation of MC Dropout, boosting the dropout model we trained earlier without retraining it:"
   ]
  },
  {
   "cell_type": "code",
   "execution_count": 109,
   "id": "potential-authentication",
   "metadata": {},
   "outputs": [],
   "source": [
    "tf.random.set_seed(42)\n",
    "np.random.seed(42)"
   ]
  },
  {
   "cell_type": "code",
   "execution_count": 110,
   "id": "differential-leader",
   "metadata": {},
   "outputs": [],
   "source": [
    "y_probas = np.stack([model(X_test_scaled, training=True)\n",
    "                     for sample in range(100)])\n",
    "y_proba = y_probas.mean(axis=0)\n",
    "y_std = y_probas.std(axis=0)"
   ]
  },
  {
   "cell_type": "markdown",
   "id": "freelance-nightlife",
   "metadata": {},
   "source": [
    "- We just make 100 predictions over the test set, setting **training=True to ensure that the Dropout layer is active, and stack the predictions.** \n",
    "- Since dropout is active, all the predictions will be different. \n",
    "- Recall that predict() returns a matrix with one row per instance and one column per class.\n",
    "    - Because there are 10,000 instances in the test set and 10 classes, this is a matrix of shape [10000, 10].\n",
    "    - We stack 100 such matrices, so y_probas is an array of shape [100, 10000, 10]. Once we average over the first dimension (axis=0), we get y_proba, an array of shape [10000, 10], like we would get with a single prediction.\n",
    "- That’s all! **Averaging over multiple predictions with dropout on gives us a Monte Carlo estimate** that is generally more reliable than the result of a single prediction with dropout off.\n",
    "\n",
    "For example, let’s look at the model’s prediction for the first instance in the test set, with dropout off:"
   ]
  },
  {
   "cell_type": "code",
   "execution_count": 111,
   "id": "detected-manhattan",
   "metadata": {},
   "outputs": [
    {
     "data": {
      "text/plain": [
       "array([[0.  , 0.  , 0.  , 0.  , 0.  , 0.  , 0.  , 0.01, 0.  , 0.99]],\n",
       "      dtype=float32)"
      ]
     },
     "execution_count": 111,
     "metadata": {},
     "output_type": "execute_result"
    }
   ],
   "source": [
    "np.round(model.predict(X_test_scaled[:1]), 2)"
   ]
  },
  {
   "cell_type": "markdown",
   "id": "varying-disability",
   "metadata": {},
   "source": [
    "The model seems almost certain that this image belongs to class 9 (ankle boot). Should you trust it? Is there really so little room for doubt? Compare this with the predictions made when dropout is activated:"
   ]
  },
  {
   "cell_type": "code",
   "execution_count": 112,
   "id": "temporal-transparency",
   "metadata": {},
   "outputs": [
    {
     "data": {
      "text/plain": [
       "array([[[0.  , 0.  , 0.  , 0.  , 0.  , 0.02, 0.  , 0.66, 0.  , 0.32]],\n",
       "\n",
       "       [[0.  , 0.  , 0.  , 0.  , 0.  , 0.01, 0.  , 0.87, 0.  , 0.12]],\n",
       "\n",
       "       [[0.  , 0.  , 0.  , 0.  , 0.  , 0.01, 0.  , 0.  , 0.  , 0.99]],\n",
       "\n",
       "       [[0.  , 0.  , 0.  , 0.  , 0.  , 0.01, 0.  , 0.21, 0.  , 0.78]],\n",
       "\n",
       "       [[0.  , 0.  , 0.  , 0.  , 0.  , 0.01, 0.  , 0.48, 0.  , 0.51]],\n",
       "\n",
       "       [[0.  , 0.  , 0.  , 0.  , 0.  , 0.  , 0.  , 0.77, 0.  , 0.23]],\n",
       "\n",
       "       [[0.  , 0.  , 0.  , 0.  , 0.  , 0.07, 0.  , 0.56, 0.  , 0.37]],\n",
       "\n",
       "       [[0.  , 0.  , 0.  , 0.  , 0.  , 0.08, 0.  , 0.24, 0.  , 0.68]],\n",
       "\n",
       "       [[0.  , 0.  , 0.  , 0.  , 0.  , 0.34, 0.  , 0.06, 0.  , 0.6 ]],\n",
       "\n",
       "       [[0.  , 0.  , 0.  , 0.  , 0.  , 0.01, 0.  , 0.01, 0.  , 0.98]],\n",
       "\n",
       "       [[0.  , 0.  , 0.  , 0.  , 0.  , 0.01, 0.  , 0.12, 0.  , 0.87]],\n",
       "\n",
       "       [[0.  , 0.  , 0.  , 0.  , 0.  , 0.26, 0.  , 0.25, 0.  , 0.48]],\n",
       "\n",
       "       [[0.  , 0.  , 0.  , 0.  , 0.  , 0.01, 0.  , 0.22, 0.  , 0.77]],\n",
       "\n",
       "       [[0.  , 0.  , 0.  , 0.  , 0.  , 0.14, 0.  , 0.33, 0.  , 0.53]],\n",
       "\n",
       "       [[0.  , 0.  , 0.  , 0.  , 0.  , 0.07, 0.  , 0.34, 0.  , 0.58]],\n",
       "\n",
       "       [[0.  , 0.  , 0.  , 0.  , 0.  , 0.18, 0.  , 0.19, 0.  , 0.64]],\n",
       "\n",
       "       [[0.  , 0.  , 0.  , 0.  , 0.  , 0.01, 0.  , 0.  , 0.  , 0.99]],\n",
       "\n",
       "       [[0.  , 0.  , 0.  , 0.  , 0.  , 0.02, 0.  , 0.67, 0.  , 0.32]],\n",
       "\n",
       "       [[0.  , 0.  , 0.  , 0.  , 0.  , 0.  , 0.  , 0.46, 0.  , 0.53]],\n",
       "\n",
       "       [[0.  , 0.  , 0.  , 0.  , 0.  , 0.01, 0.  , 0.03, 0.  , 0.96]],\n",
       "\n",
       "       [[0.  , 0.  , 0.  , 0.  , 0.  , 0.65, 0.01, 0.01, 0.  , 0.33]],\n",
       "\n",
       "       [[0.  , 0.  , 0.  , 0.  , 0.  , 0.02, 0.  , 0.02, 0.  , 0.96]],\n",
       "\n",
       "       [[0.  , 0.  , 0.  , 0.  , 0.  , 0.  , 0.  , 0.  , 0.  , 1.  ]],\n",
       "\n",
       "       [[0.  , 0.  , 0.  , 0.  , 0.  , 0.  , 0.  , 0.22, 0.  , 0.78]],\n",
       "\n",
       "       [[0.  , 0.  , 0.  , 0.  , 0.  , 0.05, 0.  , 0.04, 0.  , 0.91]],\n",
       "\n",
       "       [[0.  , 0.  , 0.  , 0.  , 0.  , 0.04, 0.  , 0.77, 0.  , 0.19]],\n",
       "\n",
       "       [[0.  , 0.  , 0.  , 0.  , 0.  , 0.03, 0.  , 0.27, 0.  , 0.71]],\n",
       "\n",
       "       [[0.  , 0.  , 0.  , 0.  , 0.  , 0.13, 0.  , 0.42, 0.  , 0.45]],\n",
       "\n",
       "       [[0.  , 0.  , 0.  , 0.  , 0.  , 0.02, 0.  , 0.08, 0.  , 0.9 ]],\n",
       "\n",
       "       [[0.  , 0.  , 0.  , 0.  , 0.  , 0.31, 0.  , 0.51, 0.  , 0.18]],\n",
       "\n",
       "       [[0.  , 0.  , 0.  , 0.  , 0.  , 0.  , 0.  , 0.  , 0.  , 1.  ]],\n",
       "\n",
       "       [[0.  , 0.  , 0.  , 0.  , 0.  , 0.  , 0.  , 0.  , 0.  , 1.  ]],\n",
       "\n",
       "       [[0.  , 0.  , 0.  , 0.  , 0.  , 0.48, 0.  , 0.04, 0.  , 0.48]],\n",
       "\n",
       "       [[0.  , 0.  , 0.  , 0.  , 0.  , 0.13, 0.  , 0.81, 0.  , 0.05]],\n",
       "\n",
       "       [[0.  , 0.  , 0.  , 0.  , 0.  , 0.01, 0.  , 0.14, 0.  , 0.85]],\n",
       "\n",
       "       [[0.  , 0.  , 0.  , 0.  , 0.  , 0.03, 0.  , 0.62, 0.  , 0.34]],\n",
       "\n",
       "       [[0.  , 0.  , 0.  , 0.  , 0.  , 0.  , 0.  , 0.02, 0.  , 0.98]],\n",
       "\n",
       "       [[0.  , 0.  , 0.  , 0.  , 0.  , 0.02, 0.  , 0.1 , 0.  , 0.88]],\n",
       "\n",
       "       [[0.  , 0.  , 0.  , 0.  , 0.  , 0.02, 0.  , 0.29, 0.  , 0.7 ]],\n",
       "\n",
       "       [[0.  , 0.  , 0.  , 0.  , 0.  , 0.79, 0.  , 0.03, 0.  , 0.18]],\n",
       "\n",
       "       [[0.  , 0.  , 0.  , 0.  , 0.  , 0.01, 0.  , 0.2 , 0.  , 0.79]],\n",
       "\n",
       "       [[0.  , 0.  , 0.  , 0.  , 0.  , 0.  , 0.  , 0.02, 0.  , 0.98]],\n",
       "\n",
       "       [[0.  , 0.  , 0.  , 0.  , 0.  , 0.38, 0.  , 0.39, 0.  , 0.23]],\n",
       "\n",
       "       [[0.  , 0.  , 0.  , 0.  , 0.  , 0.  , 0.  , 0.04, 0.  , 0.96]],\n",
       "\n",
       "       [[0.  , 0.  , 0.  , 0.  , 0.  , 0.02, 0.  , 0.07, 0.  , 0.91]],\n",
       "\n",
       "       [[0.  , 0.  , 0.  , 0.  , 0.  , 0.  , 0.  , 0.01, 0.  , 0.99]],\n",
       "\n",
       "       [[0.  , 0.  , 0.  , 0.  , 0.  , 0.08, 0.  , 0.12, 0.  , 0.8 ]],\n",
       "\n",
       "       [[0.  , 0.  , 0.  , 0.  , 0.  , 0.  , 0.  , 0.05, 0.  , 0.95]],\n",
       "\n",
       "       [[0.  , 0.  , 0.  , 0.  , 0.  , 0.  , 0.  , 0.36, 0.  , 0.63]],\n",
       "\n",
       "       [[0.  , 0.  , 0.  , 0.  , 0.  , 0.01, 0.  , 0.22, 0.  , 0.77]],\n",
       "\n",
       "       [[0.  , 0.  , 0.  , 0.  , 0.  , 0.25, 0.  , 0.29, 0.  , 0.46]],\n",
       "\n",
       "       [[0.  , 0.  , 0.  , 0.  , 0.  , 0.02, 0.  , 0.83, 0.  , 0.15]],\n",
       "\n",
       "       [[0.  , 0.  , 0.  , 0.  , 0.  , 0.  , 0.  , 0.01, 0.  , 0.99]],\n",
       "\n",
       "       [[0.  , 0.  , 0.  , 0.  , 0.  , 0.06, 0.  , 0.07, 0.  , 0.87]],\n",
       "\n",
       "       [[0.  , 0.  , 0.  , 0.  , 0.  , 0.01, 0.  , 0.01, 0.  , 0.98]],\n",
       "\n",
       "       [[0.  , 0.  , 0.  , 0.  , 0.  , 0.01, 0.  , 0.04, 0.  , 0.95]],\n",
       "\n",
       "       [[0.  , 0.  , 0.  , 0.  , 0.  , 0.  , 0.  , 0.41, 0.  , 0.59]],\n",
       "\n",
       "       [[0.  , 0.  , 0.  , 0.  , 0.  , 0.04, 0.  , 0.22, 0.  , 0.74]],\n",
       "\n",
       "       [[0.  , 0.  , 0.  , 0.  , 0.  , 0.01, 0.  , 0.31, 0.  , 0.68]],\n",
       "\n",
       "       [[0.  , 0.  , 0.  , 0.  , 0.  , 0.16, 0.  , 0.24, 0.  , 0.6 ]],\n",
       "\n",
       "       [[0.  , 0.  , 0.  , 0.  , 0.  , 0.25, 0.  , 0.04, 0.  , 0.71]],\n",
       "\n",
       "       [[0.  , 0.  , 0.  , 0.  , 0.  , 0.  , 0.  , 0.3 , 0.  , 0.7 ]],\n",
       "\n",
       "       [[0.  , 0.  , 0.  , 0.  , 0.  , 0.02, 0.  , 0.02, 0.  , 0.96]],\n",
       "\n",
       "       [[0.  , 0.  , 0.  , 0.  , 0.  , 0.01, 0.  , 0.41, 0.  , 0.57]],\n",
       "\n",
       "       [[0.  , 0.  , 0.  , 0.  , 0.  , 0.28, 0.  , 0.66, 0.  , 0.06]],\n",
       "\n",
       "       [[0.  , 0.  , 0.  , 0.  , 0.  , 0.39, 0.  , 0.52, 0.  , 0.09]],\n",
       "\n",
       "       [[0.  , 0.  , 0.  , 0.  , 0.  , 0.03, 0.  , 0.41, 0.  , 0.56]],\n",
       "\n",
       "       [[0.  , 0.  , 0.  , 0.  , 0.  , 0.  , 0.  , 0.05, 0.  , 0.95]],\n",
       "\n",
       "       [[0.  , 0.  , 0.  , 0.  , 0.  , 0.03, 0.  , 0.52, 0.  , 0.46]],\n",
       "\n",
       "       [[0.  , 0.  , 0.  , 0.  , 0.  , 0.06, 0.  , 0.71, 0.  , 0.24]],\n",
       "\n",
       "       [[0.  , 0.  , 0.  , 0.  , 0.  , 0.  , 0.  , 0.02, 0.  , 0.98]],\n",
       "\n",
       "       [[0.  , 0.  , 0.  , 0.  , 0.  , 0.  , 0.  , 0.04, 0.  , 0.96]],\n",
       "\n",
       "       [[0.  , 0.  , 0.  , 0.  , 0.  , 0.04, 0.  , 0.16, 0.  , 0.8 ]],\n",
       "\n",
       "       [[0.  , 0.  , 0.  , 0.  , 0.  , 0.01, 0.  , 0.47, 0.  , 0.53]],\n",
       "\n",
       "       [[0.  , 0.  , 0.  , 0.  , 0.  , 0.06, 0.  , 0.36, 0.  , 0.58]],\n",
       "\n",
       "       [[0.  , 0.  , 0.  , 0.  , 0.  , 0.21, 0.  , 0.04, 0.  , 0.75]],\n",
       "\n",
       "       [[0.  , 0.  , 0.  , 0.  , 0.  , 0.01, 0.  , 0.07, 0.  , 0.91]],\n",
       "\n",
       "       [[0.  , 0.  , 0.  , 0.  , 0.  , 0.01, 0.  , 0.64, 0.  , 0.34]],\n",
       "\n",
       "       [[0.  , 0.  , 0.  , 0.  , 0.  , 0.02, 0.  , 0.44, 0.  , 0.54]],\n",
       "\n",
       "       [[0.  , 0.  , 0.  , 0.  , 0.  , 0.01, 0.  , 0.34, 0.  , 0.65]],\n",
       "\n",
       "       [[0.  , 0.  , 0.  , 0.  , 0.  , 0.  , 0.  , 0.11, 0.  , 0.89]],\n",
       "\n",
       "       [[0.  , 0.  , 0.  , 0.  , 0.  , 0.01, 0.  , 0.03, 0.  , 0.96]],\n",
       "\n",
       "       [[0.  , 0.  , 0.  , 0.  , 0.  , 0.  , 0.  , 0.  , 0.  , 1.  ]],\n",
       "\n",
       "       [[0.  , 0.  , 0.  , 0.  , 0.  , 0.  , 0.  , 0.02, 0.  , 0.97]],\n",
       "\n",
       "       [[0.  , 0.  , 0.  , 0.  , 0.  , 0.05, 0.  , 0.14, 0.  , 0.82]],\n",
       "\n",
       "       [[0.  , 0.  , 0.  , 0.  , 0.  , 0.02, 0.  , 0.35, 0.  , 0.64]],\n",
       "\n",
       "       [[0.  , 0.  , 0.  , 0.  , 0.  , 0.9 , 0.  , 0.06, 0.  , 0.04]],\n",
       "\n",
       "       [[0.  , 0.  , 0.  , 0.  , 0.  , 0.19, 0.  , 0.04, 0.  , 0.77]],\n",
       "\n",
       "       [[0.  , 0.  , 0.  , 0.  , 0.  , 0.  , 0.  , 0.03, 0.  , 0.97]],\n",
       "\n",
       "       [[0.  , 0.  , 0.  , 0.  , 0.  , 0.  , 0.  , 0.01, 0.  , 0.99]],\n",
       "\n",
       "       [[0.  , 0.  , 0.  , 0.  , 0.  , 0.01, 0.  , 0.04, 0.  , 0.95]],\n",
       "\n",
       "       [[0.  , 0.  , 0.  , 0.  , 0.  , 0.02, 0.  , 0.12, 0.  , 0.86]],\n",
       "\n",
       "       [[0.  , 0.  , 0.  , 0.  , 0.  , 0.25, 0.  , 0.5 , 0.  , 0.25]],\n",
       "\n",
       "       [[0.  , 0.  , 0.  , 0.  , 0.  , 0.1 , 0.  , 0.16, 0.  , 0.74]],\n",
       "\n",
       "       [[0.  , 0.  , 0.  , 0.  , 0.  , 0.01, 0.  , 0.14, 0.  , 0.85]],\n",
       "\n",
       "       [[0.  , 0.  , 0.  , 0.  , 0.  , 0.  , 0.  , 0.01, 0.  , 0.99]],\n",
       "\n",
       "       [[0.  , 0.  , 0.  , 0.  , 0.  , 0.01, 0.  , 0.25, 0.  , 0.74]],\n",
       "\n",
       "       [[0.  , 0.  , 0.  , 0.  , 0.  , 0.  , 0.  , 0.08, 0.  , 0.91]],\n",
       "\n",
       "       [[0.  , 0.  , 0.  , 0.  , 0.  , 0.07, 0.  , 0.37, 0.  , 0.56]],\n",
       "\n",
       "       [[0.  , 0.  , 0.  , 0.  , 0.  , 0.34, 0.  , 0.23, 0.  , 0.43]]],\n",
       "      dtype=float32)"
      ]
     },
     "execution_count": 112,
     "metadata": {},
     "output_type": "execute_result"
    }
   ],
   "source": [
    "np.round(y_probas[:, :1], 2)"
   ]
  },
  {
   "cell_type": "markdown",
   "id": "minus-wrestling",
   "metadata": {},
   "source": [
    "- This tells a very different story: apparently, when we activate dropout, the model is not sure anymore.\n",
    "\n",
    "Once we average over the first dimension, we get the following MC Dropout predictions:"
   ]
  },
  {
   "cell_type": "code",
   "execution_count": 113,
   "id": "gothic-thong",
   "metadata": {},
   "outputs": [
    {
     "data": {
      "text/plain": [
       "array([[0.  , 0.  , 0.  , 0.  , 0.  , 0.08, 0.  , 0.24, 0.  , 0.68]],\n",
       "      dtype=float32)"
      ]
     },
     "execution_count": 113,
     "metadata": {},
     "output_type": "execute_result"
    }
   ],
   "source": [
    "np.round(y_proba[:1], 2)"
   ]
  },
  {
   "cell_type": "markdown",
   "id": "artificial-barrel",
   "metadata": {},
   "source": [
    "- The model still thinks this image belongs to class 9, but only with a 68% confidence, which seems much more reasonable than 99%. \n",
    "- Plus it’s useful to know exactly which other classes it thinks are likely. \n",
    "\n",
    "And you can also take a look at the standard deviation of the probability estimates:"
   ]
  },
  {
   "cell_type": "code",
   "execution_count": 114,
   "id": "israeli-congress",
   "metadata": {},
   "outputs": [
    {
     "data": {
      "text/plain": [
       "array([[0.  , 0.  , 0.  , 0.  , 0.  , 0.16, 0.  , 0.23, 0.  , 0.28]],\n",
       "      dtype=float32)"
      ]
     },
     "execution_count": 114,
     "metadata": {},
     "output_type": "execute_result"
    }
   ],
   "source": [
    "y_std = y_probas.std(axis=0)\n",
    "np.round(y_std[:1], 2)"
   ]
  },
  {
   "cell_type": "markdown",
   "id": "private-controversy",
   "metadata": {},
   "source": [
    "- Apparently there’s quite a lot of variance in the probability estimates: if you were building a risk-sensitive system (e.g., a medical or financial system), you should probably treat such an uncertain prediction with extreme caution. \n",
    "- You definitely would not treat it like a 99% confident prediction. Moreover, the model’s accuracy got a small boost from 86.8 to 86.9:"
   ]
  },
  {
   "cell_type": "code",
   "execution_count": 115,
   "id": "temporal-tiffany",
   "metadata": {},
   "outputs": [],
   "source": [
    "y_pred = np.argmax(y_proba, axis=1)"
   ]
  },
  {
   "cell_type": "code",
   "execution_count": 116,
   "id": "revolutionary-principle",
   "metadata": {},
   "outputs": [
    {
     "data": {
      "text/plain": [
       "0.8672"
      ]
     },
     "execution_count": 116,
     "metadata": {},
     "output_type": "execute_result"
    }
   ],
   "source": [
    "accuracy = np.sum(y_pred == y_test) / len(y_test)\n",
    "accuracy"
   ]
  },
  {
   "cell_type": "markdown",
   "id": "royal-supply",
   "metadata": {},
   "source": [
    "### NOTE\n",
    "- The number of Monte Carlo samples you use (100 in this example) is a hyperparameter you can tweak. \n",
    "    - **The higher it is, the more accurate the predictions and their uncertainty estimates will be. However, if you double it, inference time will also be doubled.**\n",
    "    - Moreover, above a certain number of samples, you will notice little improvement. So your job is to find the right trade-off between latency and accuracy, depending on your application.\n",
    "***\n",
    "- **If your model contains other layers that behave in a special way during training (such as BatchNormalization layers)**, then **you should not force training mode** like we just did. \n",
    "    - **Instead, you should replace the Dropout layers with the following MCDropout class:**"
   ]
  },
  {
   "cell_type": "code",
   "execution_count": 117,
   "id": "suited-philosophy",
   "metadata": {},
   "outputs": [],
   "source": [
    "class MCDropout(keras.layers.Dropout):\n",
    "    def call(self, inputs):\n",
    "        return super().call(inputs, training=True)\n",
    "\n",
    "class MCAlphaDropout(keras.layers.AlphaDropout):\n",
    "    def call(self, inputs):\n",
    "        return super().call(inputs, training=True)"
   ]
  },
  {
   "cell_type": "markdown",
   "id": "wrong-creativity",
   "metadata": {},
   "source": [
    "- If you are creating a model from scratch, it’s just a matter of using MCDropout rather than Dropout.\n",
    "    - But if you have a model that was already trained using Dropout, you need to create a new model that’s identical to the existing model except that it replaces the Dropout layers with MCDropout, then copy the existing model’s weights to your new model.\n",
    "- In short, MC Dropout is a fantastic technique that boosts dropout models and provides better uncertainty estimates. And of course, since it is just regular dropout during training, it also acts like a regularizer."
   ]
  },
  {
   "cell_type": "code",
   "execution_count": 118,
   "id": "supported-attraction",
   "metadata": {},
   "outputs": [],
   "source": [
    "tf.random.set_seed(42)\n",
    "np.random.seed(42)"
   ]
  },
  {
   "cell_type": "code",
   "execution_count": 119,
   "id": "minimal-movement",
   "metadata": {},
   "outputs": [],
   "source": [
    "mc_model = keras.models.Sequential([\n",
    "    MCAlphaDropout(layer.rate) if isinstance(layer, keras.layers.AlphaDropout) else layer\n",
    "    for layer in model.layers\n",
    "])"
   ]
  },
  {
   "cell_type": "code",
   "execution_count": 120,
   "id": "gross-shepherd",
   "metadata": {},
   "outputs": [
    {
     "name": "stdout",
     "output_type": "stream",
     "text": [
      "Model: \"sequential_20\"\n",
      "_________________________________________________________________\n",
      "Layer (type)                 Output Shape              Param #   \n",
      "=================================================================\n",
      "flatten_18 (Flatten)         (None, 784)               0         \n",
      "_________________________________________________________________\n",
      "mc_alpha_dropout (MCAlphaDro (None, 784)               0         \n",
      "_________________________________________________________________\n",
      "dense_262 (Dense)            (None, 300)               235500    \n",
      "_________________________________________________________________\n",
      "mc_alpha_dropout_1 (MCAlphaD (None, 300)               0         \n",
      "_________________________________________________________________\n",
      "dense_263 (Dense)            (None, 100)               30100     \n",
      "_________________________________________________________________\n",
      "mc_alpha_dropout_2 (MCAlphaD (None, 100)               0         \n",
      "_________________________________________________________________\n",
      "dense_264 (Dense)            (None, 10)                1010      \n",
      "=================================================================\n",
      "Total params: 266,610\n",
      "Trainable params: 266,610\n",
      "Non-trainable params: 0\n",
      "_________________________________________________________________\n"
     ]
    }
   ],
   "source": [
    "mc_model.summary()"
   ]
  },
  {
   "cell_type": "code",
   "execution_count": 121,
   "id": "electrical-premises",
   "metadata": {},
   "outputs": [],
   "source": [
    "optimizer = keras.optimizers.SGD(lr=0.01, momentum=0.9, nesterov=True)\n",
    "mc_model.compile(loss=\"sparse_categorical_crossentropy\", optimizer=optimizer, metrics=[\"accuracy\"])"
   ]
  },
  {
   "cell_type": "code",
   "execution_count": 122,
   "id": "proud-receptor",
   "metadata": {},
   "outputs": [],
   "source": [
    "mc_model.set_weights(model.get_weights())"
   ]
  },
  {
   "cell_type": "markdown",
   "id": "treated-excerpt",
   "metadata": {},
   "source": [
    "Now we can use the model with MC Dropout:"
   ]
  },
  {
   "cell_type": "code",
   "execution_count": 123,
   "id": "statutory-weather",
   "metadata": {},
   "outputs": [
    {
     "data": {
      "text/plain": [
       "array([[0.  , 0.  , 0.  , 0.  , 0.  , 0.11, 0.  , 0.27, 0.  , 0.61]],\n",
       "      dtype=float32)"
      ]
     },
     "execution_count": 123,
     "metadata": {},
     "output_type": "execute_result"
    }
   ],
   "source": [
    "np.round(np.mean([mc_model.predict(X_test_scaled[:1]) for sample in range(100)], axis=0), 2)"
   ]
  },
  {
   "cell_type": "markdown",
   "id": "finished-chester",
   "metadata": {},
   "source": [
    "## Max-Norm Regularization"
   ]
  },
  {
   "cell_type": "code",
   "execution_count": 124,
   "id": "historical-replica",
   "metadata": {},
   "outputs": [],
   "source": [
    "layer = keras.layers.Dense(100, activation=\"selu\", kernel_initializer=\"lecun_normal\",\n",
    "                           kernel_constraint=keras.constraints.max_norm(1.))"
   ]
  },
  {
   "cell_type": "markdown",
   "id": "level-devon",
   "metadata": {},
   "source": [
    "- After each training iteration, the model’s fit() method will call the object returned by max_norm(), passing it the layer’s weights and getting rescaled weights in return, which then replace the layer’s weights.\n",
    "- The max_norm() function has an axis argument that defaults to 0.\n",
    "    - A Dense layer usually has weights of shape [number of inputs, number of neurons], so using axis=0 means that the max-norm constraint will apply independently to each neuron’s weight vector.\n",
    "- If you want to use max-norm with convolutional layers, make sure to set the max_norm() constraint’s axis argument appropriately (usually axis=[0, 1, 2])."
   ]
  },
  {
   "cell_type": "code",
   "execution_count": 125,
   "id": "binary-mozambique",
   "metadata": {},
   "outputs": [
    {
     "name": "stdout",
     "output_type": "stream",
     "text": [
      "Epoch 1/2\n",
      "1719/1719 [==============================] - 14s 7ms/step - loss: 0.5769 - accuracy: 0.8022 - val_loss: 0.3803 - val_accuracy: 0.8596\n",
      "Epoch 2/2\n",
      "1719/1719 [==============================] - 12s 7ms/step - loss: 0.3550 - accuracy: 0.8713 - val_loss: 0.3668 - val_accuracy: 0.8698\n"
     ]
    }
   ],
   "source": [
    "MaxNormDense = partial(keras.layers.Dense,\n",
    "                       activation=\"selu\", kernel_initializer=\"lecun_normal\",\n",
    "                       kernel_constraint=keras.constraints.max_norm(1.))\n",
    "\n",
    "model = keras.models.Sequential([\n",
    "    keras.layers.Flatten(input_shape=[28, 28]),\n",
    "    MaxNormDense(300),\n",
    "    MaxNormDense(100),\n",
    "    keras.layers.Dense(10, activation=\"softmax\")\n",
    "])\n",
    "model.compile(loss=\"sparse_categorical_crossentropy\", optimizer=\"nadam\", metrics=[\"accuracy\"])\n",
    "n_epochs = 2\n",
    "history = model.fit(X_train_scaled, y_train, epochs=n_epochs,\n",
    "                    validation_data=(X_valid_scaled, y_valid))"
   ]
  },
  {
   "cell_type": "markdown",
   "id": "separate-cylinder",
   "metadata": {},
   "source": [
    "## Summary\n",
    "- We have covered a wide range of techniques, and you may be wondering which ones you should use.\n",
    "- This depends on the task, and there is no clear consensus yet, but I have found the configuration in Table 11-3 to work fine in most cases, without requiring much hyperparameter tuning.\n",
    "- That said, please do not consider these defaults as hard rules!\n",
    "\n",
    "<img src=\"t3.png\">\n",
    "\n",
    "- If the network is a simple stack of dense layers, then it can self-normalize, and you should use the configuration in Table 11-4 instead.\n",
    "\n",
    "<img src=\"t4.png\">\n"
   ]
  },
  {
   "cell_type": "markdown",
   "id": "novel-perception",
   "metadata": {},
   "source": [
    "- Don’t forget to normalize the input features! You should also try to reuse parts of a pretrained neural network if you can find one that solves a similar problem, or use unsupervised pretraining if you have a lot of unlabeled data, or use pretraining on an auxiliary task if you have a lot of labeled data for a similar task.\n",
    "- While the previous guidelines should cover most cases, here are some exceptions:\n",
    "    - **If you need a sparse model, you can use ℓ1 regularization (and optionally zero out the tiny weights after training).** \n",
    "        - If you need an even sparser model, you can use the TensorFlow Model Optimization Toolkit. \n",
    "        - This will break self-normalization, so you should use the default configuration in this case.\n",
    "    - **If you need a low-latency model (one that performs lightning-fast predictions), you may need to use fewer layers, fold the Batch Normalization layers into the previous layers, and possibly use a faster activation function such as leaky ReLU or just ReLU.**\n",
    "       - Having a sparse model will also help. Finally, you may want to reduce the float precision from 32 bits to 16 or even 8 bits. Again, check out TF-MOT.\n",
    "    - **If you are building a risk-sensitive application, or inference latency is not very important** in your application, you can use **MC Dropout to boost performance** and get more reliable probability estimates, along with uncertainty estimates."
   ]
  },
  {
   "cell_type": "markdown",
   "id": "imposed-fortune",
   "metadata": {},
   "source": [
    "## Exercises\n",
    "##  Deep Learning on CIFAR10\n",
    "### a.\n",
    "Exercise: Build a DNN with 20 hidden layers of 100 neurons each (that's too many, but it's the point of this exercise). Use He initialization and the ELU activation function."
   ]
  },
  {
   "cell_type": "code",
   "execution_count": 126,
   "id": "orange-auditor",
   "metadata": {},
   "outputs": [],
   "source": [
    "keras.backend.clear_session()\n",
    "tf.random.set_seed(42)\n",
    "np.random.seed(42)\n",
    "\n",
    "model = keras.models.Sequential()\n",
    "\n",
    "model.add(keras.layers.Flatten(input_shape=[32, 32, 3]))\n",
    "for _ in range(20):\n",
    "    model.add(keras.layers.Dense(100, activation=\"elu\",\n",
    "                                 kernel_initializer=\"he_normal\"))"
   ]
  },
  {
   "cell_type": "markdown",
   "id": "comprehensive-quick",
   "metadata": {},
   "source": [
    "### b.\n",
    "Exercise: Using Nadam optimization and early stopping, train the network on the CIFAR10 dataset. You can load it with keras.datasets.cifar10.load_data(). The dataset is composed of 60,000 32 × 32–pixel color images (50,000 for training, 10,000 for testing) with 10 classes, so you'll need a softmax output layer with 10 neurons. Remember to search for the right learning rate each time you change the model's architecture or hyperparameters.\n",
    "\n",
    "Let's add the output layer to the model:"
   ]
  },
  {
   "cell_type": "code",
   "execution_count": 127,
   "id": "explicit-persian",
   "metadata": {},
   "outputs": [],
   "source": [
    "model.add(keras.layers.Dense(10, activation=\"softmax\"))"
   ]
  },
  {
   "cell_type": "markdown",
   "id": "honest-continuity",
   "metadata": {},
   "source": [
    "Let's use a Nadam optimizer with a learning rate of 5e-5. I tried learning rates 1e-5, 3e-5, 1e-4, 3e-4, 1e-3, 3e-3 and 1e-2, and I compared their learning curves for 10 epochs each (using the TensorBoard callback, below). The learning rates 3e-5 and 1e-4 were pretty good, so I tried 5e-5, which turned out to be slightly better."
   ]
  },
  {
   "cell_type": "code",
   "execution_count": 128,
   "id": "statewide-saturday",
   "metadata": {},
   "outputs": [],
   "source": [
    "optimizer = keras.optimizers.Nadam(lr=5e-5)\n",
    "model.compile(loss=\"sparse_categorical_crossentropy\",\n",
    "              optimizer=optimizer,\n",
    "              metrics=[\"accuracy\"])"
   ]
  },
  {
   "cell_type": "markdown",
   "id": "radio-assessment",
   "metadata": {},
   "source": [
    "Let's load the CIFAR10 dataset. We also want to use early stopping, so we need a validation set. Let's use the first 5,000 images of the original training set as the validation set:"
   ]
  },
  {
   "cell_type": "code",
   "execution_count": 129,
   "id": "welcome-chart",
   "metadata": {},
   "outputs": [
    {
     "name": "stdout",
     "output_type": "stream",
     "text": [
      "Downloading data from https://www.cs.toronto.edu/~kriz/cifar-10-python.tar.gz\n",
      "170500096/170498071 [==============================] - 100s 1us/step\n"
     ]
    }
   ],
   "source": [
    "(X_train_full, y_train_full), (X_test, y_test) = keras.datasets.cifar10.load_data()\n",
    "\n",
    "X_train = X_train_full[5000:]\n",
    "y_train = y_train_full[5000:]\n",
    "X_valid = X_train_full[:5000]\n",
    "y_valid = y_train_full[:5000]"
   ]
  },
  {
   "cell_type": "markdown",
   "id": "hourly-outdoors",
   "metadata": {},
   "source": [
    "Now we can create the callbacks we need and train the model:"
   ]
  },
  {
   "cell_type": "code",
   "execution_count": 130,
   "id": "sophisticated-february",
   "metadata": {},
   "outputs": [],
   "source": [
    "early_stopping_cb = keras.callbacks.EarlyStopping(patience=20)\n",
    "model_checkpoint_cb = keras.callbacks.ModelCheckpoint(\"my_cifar10_model.h5\", save_best_only=True)\n",
    "run_index = 1 # increment every time you train the model\n",
    "run_logdir = os.path.join(os.curdir, \"my_cifar10_logs\", \"run_{:03d}\".format(run_index))\n",
    "tensorboard_cb = keras.callbacks.TensorBoard(run_logdir)\n",
    "callbacks = [early_stopping_cb, model_checkpoint_cb, tensorboard_cb]"
   ]
  },
  {
   "cell_type": "code",
   "execution_count": 131,
   "id": "olive-evidence",
   "metadata": {},
   "outputs": [
    {
     "data": {
      "text/plain": [
       "ERROR: Timed out waiting for TensorBoard to start. It may still be running as pid 9404."
      ]
     },
     "metadata": {},
     "output_type": "display_data"
    }
   ],
   "source": [
    "%tensorboard --logdir=./my_cifar10_logs --port=6006"
   ]
  },
  {
   "cell_type": "code",
   "execution_count": 132,
   "id": "civilian-separation",
   "metadata": {},
   "outputs": [
    {
     "name": "stdout",
     "output_type": "stream",
     "text": [
      "Epoch 1/100\n",
      "1407/1407 [==============================] - 34s 20ms/step - loss: 9.7350 - accuracy: 0.1397 - val_loss: 2.1328 - val_accuracy: 0.2306\n",
      "Epoch 2/100\n",
      "1407/1407 [==============================] - 31s 22ms/step - loss: 2.0740 - accuracy: 0.2425 - val_loss: 2.0154 - val_accuracy: 0.2446\n",
      "Epoch 3/100\n",
      "1407/1407 [==============================] - 29s 21ms/step - loss: 1.9617 - accuracy: 0.2785 - val_loss: 1.9702 - val_accuracy: 0.2850\n",
      "Epoch 4/100\n",
      "1407/1407 [==============================] - 29s 20ms/step - loss: 1.8758 - accuracy: 0.3177 - val_loss: 1.8707 - val_accuracy: 0.3320\n",
      "Epoch 5/100\n",
      "1407/1407 [==============================] - 29s 21ms/step - loss: 1.8140 - accuracy: 0.3415 - val_loss: 1.7675 - val_accuracy: 0.3508\n",
      "Epoch 6/100\n",
      "1407/1407 [==============================] - 29s 21ms/step - loss: 1.7561 - accuracy: 0.3607 - val_loss: 1.7442 - val_accuracy: 0.3636\n",
      "Epoch 7/100\n",
      "1407/1407 [==============================] - 27s 19ms/step - loss: 1.7133 - accuracy: 0.3777 - val_loss: 1.7050 - val_accuracy: 0.3730\n",
      "Epoch 8/100\n",
      "1407/1407 [==============================] - 27s 19ms/step - loss: 1.6680 - accuracy: 0.3967 - val_loss: 1.6871 - val_accuracy: 0.3974\n",
      "Epoch 9/100\n",
      "1407/1407 [==============================] - 29s 20ms/step - loss: 1.6447 - accuracy: 0.4067 - val_loss: 1.6490 - val_accuracy: 0.4002\n",
      "Epoch 10/100\n",
      "1407/1407 [==============================] - 29s 21ms/step - loss: 1.6096 - accuracy: 0.4180 - val_loss: 1.6978 - val_accuracy: 0.3796\n",
      "Epoch 11/100\n",
      "1407/1407 [==============================] - 29s 21ms/step - loss: 1.5781 - accuracy: 0.4324 - val_loss: 1.6530 - val_accuracy: 0.3920\n",
      "Epoch 12/100\n",
      "1407/1407 [==============================] - 29s 21ms/step - loss: 1.5625 - accuracy: 0.4406 - val_loss: 1.6467 - val_accuracy: 0.4088\n",
      "Epoch 13/100\n",
      "1407/1407 [==============================] - 28s 20ms/step - loss: 1.5406 - accuracy: 0.4495 - val_loss: 1.6650 - val_accuracy: 0.4032\n",
      "Epoch 14/100\n",
      "1407/1407 [==============================] - 32s 22ms/step - loss: 1.5180 - accuracy: 0.4536 - val_loss: 1.5829 - val_accuracy: 0.4314\n",
      "Epoch 15/100\n",
      "1407/1407 [==============================] - 30s 21ms/step - loss: 1.5121 - accuracy: 0.4584 - val_loss: 1.5965 - val_accuracy: 0.4278\n",
      "Epoch 16/100\n",
      "1407/1407 [==============================] - 32s 23ms/step - loss: 1.5007 - accuracy: 0.4625 - val_loss: 1.5785 - val_accuracy: 0.4384\n",
      "Epoch 17/100\n",
      "1407/1407 [==============================] - 32s 23ms/step - loss: 1.4798 - accuracy: 0.4696 - val_loss: 1.5757 - val_accuracy: 0.4304s: 1.4798 - accuracy: \n",
      "Epoch 18/100\n",
      "1407/1407 [==============================] - 34s 24ms/step - loss: 1.4654 - accuracy: 0.4761 - val_loss: 1.5731 - val_accuracy: 0.4432\n",
      "Epoch 19/100\n",
      "1407/1407 [==============================] - 31s 22ms/step - loss: 1.4431 - accuracy: 0.4856 - val_loss: 1.5786 - val_accuracy: 0.4408\n",
      "Epoch 20/100\n",
      "1407/1407 [==============================] - 31s 22ms/step - loss: 1.4386 - accuracy: 0.4838 - val_loss: 1.6125 - val_accuracy: 0.4340\n",
      "Epoch 21/100\n",
      "1407/1407 [==============================] - 30s 21ms/step - loss: 1.4379 - accuracy: 0.4815 - val_loss: 1.5770 - val_accuracy: 0.4384\n",
      "Epoch 22/100\n",
      "1407/1407 [==============================] - 31s 22ms/step - loss: 1.4161 - accuracy: 0.4894 - val_loss: 1.5682 - val_accuracy: 0.4436\n",
      "Epoch 23/100\n",
      "1407/1407 [==============================] - 30s 21ms/step - loss: 1.4025 - accuracy: 0.4962 - val_loss: 1.5685 - val_accuracy: 0.4344\n",
      "Epoch 24/100\n",
      "1407/1407 [==============================] - 31s 22ms/step - loss: 1.3926 - accuracy: 0.4989 - val_loss: 1.5546 - val_accuracy: 0.4412\n",
      "Epoch 25/100\n",
      "1407/1407 [==============================] - 30s 21ms/step - loss: 1.3816 - accuracy: 0.5022 - val_loss: 1.5393 - val_accuracy: 0.4506\n",
      "Epoch 26/100\n",
      "1407/1407 [==============================] - 30s 22ms/step - loss: 1.3586 - accuracy: 0.5108 - val_loss: 1.5640 - val_accuracy: 0.4396\n",
      "Epoch 27/100\n",
      "1407/1407 [==============================] - 30s 22ms/step - loss: 1.3618 - accuracy: 0.5128 - val_loss: 1.5419 - val_accuracy: 0.4548\n",
      "Epoch 28/100\n",
      "1407/1407 [==============================] - 31s 22ms/step - loss: 1.3503 - accuracy: 0.5173 - val_loss: 1.5610 - val_accuracy: 0.4400\n",
      "Epoch 29/100\n",
      "1407/1407 [==============================] - 30s 22ms/step - loss: 1.3513 - accuracy: 0.5132 - val_loss: 1.5352 - val_accuracy: 0.4570\n",
      "Epoch 30/100\n",
      "1407/1407 [==============================] - 31s 22ms/step - loss: 1.3500 - accuracy: 0.5169 - val_loss: 1.6587 - val_accuracy: 0.4358\n",
      "Epoch 31/100\n",
      "1407/1407 [==============================] - 30s 21ms/step - loss: 1.3488 - accuracy: 0.5209 - val_loss: 1.5420 - val_accuracy: 0.4504\n",
      "Epoch 32/100\n",
      "1407/1407 [==============================] - 31s 22ms/step - loss: 1.3129 - accuracy: 0.5302 - val_loss: 1.5296 - val_accuracy: 0.4612\n",
      "Epoch 33/100\n",
      "1407/1407 [==============================] - 30s 21ms/step - loss: 1.3223 - accuracy: 0.5292 - val_loss: 1.5689 - val_accuracy: 0.4558\n",
      "Epoch 34/100\n",
      "1407/1407 [==============================] - 30s 21ms/step - loss: 1.2973 - accuracy: 0.5380 - val_loss: 1.5247 - val_accuracy: 0.4658\n",
      "Epoch 35/100\n",
      "1407/1407 [==============================] - 31s 22ms/step - loss: 1.2984 - accuracy: 0.5367 - val_loss: 1.5767 - val_accuracy: 0.4518\n",
      "Epoch 36/100\n",
      "1407/1407 [==============================] - 30s 21ms/step - loss: 1.2883 - accuracy: 0.5394 - val_loss: 1.5478 - val_accuracy: 0.4588\n",
      "Epoch 37/100\n",
      "1407/1407 [==============================] - 29s 21ms/step - loss: 1.2795 - accuracy: 0.5459 - val_loss: 1.5394 - val_accuracy: 0.4664\n",
      "Epoch 38/100\n",
      "1407/1407 [==============================] - 30s 21ms/step - loss: 1.2726 - accuracy: 0.5453 - val_loss: 1.5586 - val_accuracy: 0.4614\n",
      "Epoch 39/100\n",
      "1407/1407 [==============================] - 30s 21ms/step - loss: 1.2693 - accuracy: 0.5430 - val_loss: 1.5410 - val_accuracy: 0.4586\n",
      "Epoch 40/100\n",
      "1407/1407 [==============================] - 32s 23ms/step - loss: 1.2521 - accuracy: 0.5564 - val_loss: 1.5407 - val_accuracy: 0.4578\n",
      "Epoch 41/100\n",
      "1407/1407 [==============================] - 30s 21ms/step - loss: 1.2493 - accuracy: 0.5531 - val_loss: 1.5601 - val_accuracy: 0.4612\n",
      "Epoch 42/100\n",
      "1407/1407 [==============================] - 30s 22ms/step - loss: 1.2446 - accuracy: 0.5555 - val_loss: 1.5572 - val_accuracy: 0.4614\n",
      "Epoch 43/100\n",
      "1407/1407 [==============================] - 31s 22ms/step - loss: 1.2407 - accuracy: 0.5552 - val_loss: 1.5491 - val_accuracy: 0.4636\n",
      "Epoch 44/100\n",
      "1407/1407 [==============================] - 25s 18ms/step - loss: 1.2247 - accuracy: 0.5634 - val_loss: 1.5606 - val_accuracy: 0.4514\n",
      "Epoch 45/100\n",
      "1407/1407 [==============================] - 25s 17ms/step - loss: 1.2230 - accuracy: 0.5648 - val_loss: 1.5741 - val_accuracy: 0.4556\n",
      "Epoch 46/100\n",
      "1407/1407 [==============================] - 25s 18ms/step - loss: 1.2079 - accuracy: 0.5699 - val_loss: 1.5378 - val_accuracy: 0.4654\n",
      "Epoch 47/100\n",
      "1407/1407 [==============================] - 25s 17ms/step - loss: 1.2075 - accuracy: 0.5722 - val_loss: 1.5747 - val_accuracy: 0.4716\n",
      "Epoch 48/100\n",
      "1407/1407 [==============================] - 27s 19ms/step - loss: 1.1994 - accuracy: 0.5704 - val_loss: 1.5571 - val_accuracy: 0.4582\n",
      "Epoch 49/100\n",
      "1407/1407 [==============================] - 24s 17ms/step - loss: 1.2008 - accuracy: 0.5715 - val_loss: 1.5610 - val_accuracy: 0.4726\n",
      "Epoch 50/100\n",
      "1407/1407 [==============================] - 26s 18ms/step - loss: 1.1846 - accuracy: 0.5779 - val_loss: 1.5734 - val_accuracy: 0.4624\n",
      "Epoch 51/100\n",
      "1407/1407 [==============================] - 25s 17ms/step - loss: 1.1827 - accuracy: 0.5773 - val_loss: 1.6130 - val_accuracy: 0.4618\n",
      "Epoch 52/100\n",
      "1407/1407 [==============================] - 27s 19ms/step - loss: 1.1769 - accuracy: 0.5785 - val_loss: 1.5872 - val_accuracy: 0.4614\n",
      "Epoch 53/100\n",
      "1407/1407 [==============================] - 28s 20ms/step - loss: 1.1676 - accuracy: 0.5820 - val_loss: 1.5613 - val_accuracy: 0.4630\n",
      "Epoch 54/100\n",
      "1407/1407 [==============================] - 26s 19ms/step - loss: 1.1582 - accuracy: 0.5868 - val_loss: 1.5988 - val_accuracy: 0.4616\n"
     ]
    },
    {
     "data": {
      "text/plain": [
       "<tensorflow.python.keras.callbacks.History at 0x1b914dc19c8>"
      ]
     },
     "execution_count": 132,
     "metadata": {},
     "output_type": "execute_result"
    }
   ],
   "source": [
    "model.fit(X_train, y_train, epochs=100,\n",
    "          validation_data=(X_valid, y_valid),\n",
    "          callbacks=callbacks)"
   ]
  },
  {
   "cell_type": "code",
   "execution_count": 133,
   "id": "speaking-patrick",
   "metadata": {},
   "outputs": [
    {
     "name": "stdout",
     "output_type": "stream",
     "text": [
      "157/157 [==============================] - 1s 6ms/step - loss: 1.5247 - accuracy: 0.4658\n"
     ]
    },
    {
     "data": {
      "text/plain": [
       "[1.52471923828125, 0.4657999873161316]"
      ]
     },
     "execution_count": 133,
     "metadata": {},
     "output_type": "execute_result"
    }
   ],
   "source": [
    "model = keras.models.load_model(\"my_cifar10_model.h5\")\n",
    "model.evaluate(X_valid, y_valid)"
   ]
  },
  {
   "cell_type": "markdown",
   "id": "lined-algebra",
   "metadata": {},
   "source": [
    "### c.\n",
    "Exercise: Now try adding Batch Normalization and compare the learning curves: Is it converging faster than before? Does it produce a better model? How does it affect training speed?\n",
    "\n",
    "The code below is very similar to the code above, with a few changes:\n",
    "\n",
    "- I added a BN layer after every Dense layer (before the activation function), except for the output layer. I also added a BN layer before the first hidden layer.\n",
    "- I changed the learning rate to 5e-4. I experimented with 1e-5, 3e-5, 5e-5, 1e-4, 3e-4, 5e-4, 1e-3 and 3e-3, and I chose the one with the best validation performance after 20 epochs.\n",
    "- I renamed the run directories to runbn* and the model file name to my_cifar10_bn_model.h5."
   ]
  },
  {
   "cell_type": "code",
   "execution_count": 134,
   "id": "western-kuwait",
   "metadata": {},
   "outputs": [
    {
     "name": "stdout",
     "output_type": "stream",
     "text": [
      "Epoch 1/100\n",
      "1407/1407 [==============================] - 60s 32ms/step - loss: 1.9742 - accuracy: 0.2953 - val_loss: 1.6885 - val_accuracy: 0.3918\n",
      "Epoch 2/100\n",
      "1407/1407 [==============================] - 41s 29ms/step - loss: 1.6818 - accuracy: 0.4001 - val_loss: 1.6009 - val_accuracy: 0.4318\n",
      "Epoch 3/100\n",
      "1407/1407 [==============================] - 41s 29ms/step - loss: 1.6127 - accuracy: 0.4255 - val_loss: 1.5199 - val_accuracy: 0.4576\n",
      "Epoch 4/100\n",
      "1407/1407 [==============================] - 42s 30ms/step - loss: 1.5518 - accuracy: 0.4473 - val_loss: 1.5225 - val_accuracy: 0.4586\n",
      "Epoch 5/100\n",
      "1407/1407 [==============================] - 40s 28ms/step - loss: 1.5037 - accuracy: 0.4670 - val_loss: 1.4538 - val_accuracy: 0.4790\n",
      "Epoch 6/100\n",
      "1407/1407 [==============================] - 40s 28ms/step - loss: 1.4653 - accuracy: 0.4757 - val_loss: 1.4374 - val_accuracy: 0.4842\n",
      "Epoch 7/100\n",
      "1407/1407 [==============================] - 40s 28ms/step - loss: 1.4323 - accuracy: 0.4927 - val_loss: 1.4233 - val_accuracy: 0.4884\n",
      "Epoch 8/100\n",
      "1407/1407 [==============================] - 41s 29ms/step - loss: 1.4043 - accuracy: 0.5023 - val_loss: 1.3987 - val_accuracy: 0.4996\n",
      "Epoch 9/100\n",
      "1407/1407 [==============================] - 43s 30ms/step - loss: 1.3818 - accuracy: 0.5104 - val_loss: 1.3679 - val_accuracy: 0.5124\n",
      "Epoch 10/100\n",
      "1407/1407 [==============================] - 43s 31ms/step - loss: 1.3579 - accuracy: 0.5173 - val_loss: 1.3721 - val_accuracy: 0.5112\n",
      "Epoch 11/100\n",
      "1407/1407 [==============================] - 44s 32ms/step - loss: 1.3272 - accuracy: 0.5357 - val_loss: 1.3537 - val_accuracy: 0.5180\n",
      "Epoch 12/100\n",
      "1407/1407 [==============================] - 44s 31ms/step - loss: 1.3103 - accuracy: 0.5338 - val_loss: 1.3854 - val_accuracy: 0.5034\n",
      "Epoch 13/100\n",
      "1407/1407 [==============================] - 45s 32ms/step - loss: 1.2902 - accuracy: 0.5455 - val_loss: 1.3906 - val_accuracy: 0.5056\n",
      "Epoch 14/100\n",
      "1407/1407 [==============================] - 43s 31ms/step - loss: 1.2701 - accuracy: 0.5522 - val_loss: 1.3488 - val_accuracy: 0.5240\n",
      "Epoch 15/100\n",
      "1407/1407 [==============================] - 44s 31ms/step - loss: 1.2584 - accuracy: 0.5582 - val_loss: 1.3703 - val_accuracy: 0.5152\n",
      "Epoch 16/100\n",
      "1407/1407 [==============================] - 45s 32ms/step - loss: 1.2521 - accuracy: 0.5567 - val_loss: 1.3488 - val_accuracy: 0.5240\n",
      "Epoch 17/100\n",
      "1407/1407 [==============================] - 45s 32ms/step - loss: 1.2297 - accuracy: 0.5647 - val_loss: 1.3351 - val_accuracy: 0.5280\n",
      "Epoch 18/100\n",
      "1407/1407 [==============================] - 45s 32ms/step - loss: 1.2073 - accuracy: 0.5741 - val_loss: 1.3235 - val_accuracy: 0.5348\n",
      "Epoch 19/100\n",
      "1407/1407 [==============================] - 44s 31ms/step - loss: 1.1956 - accuracy: 0.5773 - val_loss: 1.3498 - val_accuracy: 0.5284\n",
      "Epoch 20/100\n",
      "1407/1407 [==============================] - 45s 32ms/step - loss: 1.1824 - accuracy: 0.5844 - val_loss: 1.3494 - val_accuracy: 0.5290\n",
      "Epoch 21/100\n",
      "1407/1407 [==============================] - 44s 32ms/step - loss: 1.1660 - accuracy: 0.5867 - val_loss: 1.3488 - val_accuracy: 0.5320\n",
      "Epoch 22/100\n",
      "1407/1407 [==============================] - 45s 32ms/step - loss: 1.1568 - accuracy: 0.5912 - val_loss: 1.3313 - val_accuracy: 0.5324\n",
      "Epoch 23/100\n",
      "1407/1407 [==============================] - 44s 31ms/step - loss: 1.1415 - accuracy: 0.5957 - val_loss: 1.3344 - val_accuracy: 0.5352\n",
      "Epoch 24/100\n",
      "1407/1407 [==============================] - 45s 32ms/step - loss: 1.1291 - accuracy: 0.6000 - val_loss: 1.3130 - val_accuracy: 0.5430\n",
      "Epoch 25/100\n",
      "1407/1407 [==============================] - 45s 32ms/step - loss: 1.1200 - accuracy: 0.6080 - val_loss: 1.3350 - val_accuracy: 0.5326\n",
      "Epoch 26/100\n",
      "1407/1407 [==============================] - 45s 32ms/step - loss: 1.1044 - accuracy: 0.6066 - val_loss: 1.3375 - val_accuracy: 0.5386\n",
      "Epoch 27/100\n",
      "1407/1407 [==============================] - 45s 32ms/step - loss: 1.0896 - accuracy: 0.6176 - val_loss: 1.3466 - val_accuracy: 0.5332\n",
      "Epoch 28/100\n",
      "1407/1407 [==============================] - 48s 34ms/step - loss: 1.0837 - accuracy: 0.6199 - val_loss: 1.3444 - val_accuracy: 0.5364\n",
      "Epoch 29/100\n",
      "1407/1407 [==============================] - 49s 35ms/step - loss: 1.0818 - accuracy: 0.6182 - val_loss: 1.3296 - val_accuracy: 0.5402\n",
      "Epoch 30/100\n",
      "1407/1407 [==============================] - 47s 34ms/step - loss: 1.0735 - accuracy: 0.6250 - val_loss: 1.3616 - val_accuracy: 0.5344\n",
      "Epoch 31/100\n",
      "1407/1407 [==============================] - 48s 34ms/step - loss: 1.0669 - accuracy: 0.6232 - val_loss: 1.3645 - val_accuracy: 0.5362\n",
      "Epoch 32/100\n",
      "1407/1407 [==============================] - 48s 34ms/step - loss: 1.0397 - accuracy: 0.6332 - val_loss: 1.3957 - val_accuracy: 0.5284\n",
      "Epoch 33/100\n",
      "1407/1407 [==============================] - 47s 34ms/step - loss: 1.0366 - accuracy: 0.6350 - val_loss: 1.3417 - val_accuracy: 0.5460\n",
      "Epoch 34/100\n",
      "1407/1407 [==============================] - 51s 36ms/step - loss: 1.0219 - accuracy: 0.6393 - val_loss: 1.3364 - val_accuracy: 0.5452\n",
      "Epoch 35/100\n",
      "1407/1407 [==============================] - 49s 35ms/step - loss: 1.0186 - accuracy: 0.6425 - val_loss: 1.3617 - val_accuracy: 0.5444\n",
      "Epoch 36/100\n",
      "1407/1407 [==============================] - 41s 29ms/step - loss: 1.0114 - accuracy: 0.6445 - val_loss: 1.3621 - val_accuracy: 0.5344\n",
      "Epoch 37/100\n",
      "1407/1407 [==============================] - 43s 31ms/step - loss: 0.9908 - accuracy: 0.6515 - val_loss: 1.3518 - val_accuracy: 0.5430\n",
      "Epoch 38/100\n",
      "1407/1407 [==============================] - 43s 31ms/step - loss: 0.9871 - accuracy: 0.6527 - val_loss: 1.3719 - val_accuracy: 0.5394\n",
      "Epoch 39/100\n",
      "1407/1407 [==============================] - 41s 29ms/step - loss: 0.9757 - accuracy: 0.6560 - val_loss: 1.3732 - val_accuracy: 0.5386\n",
      "Epoch 40/100\n",
      "1407/1407 [==============================] - 41s 29ms/step - loss: 0.9686 - accuracy: 0.6629 - val_loss: 1.3907 - val_accuracy: 0.5294\n",
      "Epoch 41/100\n",
      "1407/1407 [==============================] - 42s 30ms/step - loss: 0.9622 - accuracy: 0.6642 - val_loss: 1.3499 - val_accuracy: 0.5470\n",
      "Epoch 42/100\n",
      "1407/1407 [==============================] - 42s 30ms/step - loss: 0.9543 - accuracy: 0.6682 - val_loss: 1.3959 - val_accuracy: 0.5398\n",
      "Epoch 43/100\n",
      "1407/1407 [==============================] - 42s 30ms/step - loss: 0.9524 - accuracy: 0.6673 - val_loss: 1.3895 - val_accuracy: 0.5444\n",
      "Epoch 44/100\n",
      "1407/1407 [==============================] - 41s 29ms/step - loss: 0.9418 - accuracy: 0.6691 - val_loss: 1.4222 - val_accuracy: 0.5314\n",
      "157/157 [==============================] - 2s 6ms/step - loss: 1.3130 - accuracy: 0.5430\n"
     ]
    },
    {
     "data": {
      "text/plain": [
       "[1.3130398988723755, 0.5429999828338623]"
      ]
     },
     "execution_count": 134,
     "metadata": {},
     "output_type": "execute_result"
    }
   ],
   "source": [
    "keras.backend.clear_session()\n",
    "tf.random.set_seed(42)\n",
    "np.random.seed(42)\n",
    "\n",
    "model = keras.models.Sequential()\n",
    "model.add(keras.layers.Flatten(input_shape=[32, 32, 3]))\n",
    "model.add(keras.layers.BatchNormalization())\n",
    "for _ in range(20):\n",
    "    model.add(keras.layers.Dense(100, kernel_initializer=\"he_normal\"))\n",
    "    model.add(keras.layers.BatchNormalization())\n",
    "    model.add(keras.layers.Activation(\"elu\"))\n",
    "model.add(keras.layers.Dense(10, activation=\"softmax\"))\n",
    "\n",
    "optimizer = keras.optimizers.Nadam(lr=5e-4)\n",
    "model.compile(loss=\"sparse_categorical_crossentropy\",\n",
    "              optimizer=optimizer,\n",
    "              metrics=[\"accuracy\"])\n",
    "\n",
    "early_stopping_cb = keras.callbacks.EarlyStopping(patience=20)\n",
    "model_checkpoint_cb = keras.callbacks.ModelCheckpoint(\"my_cifar10_bn_model.h5\", save_best_only=True)\n",
    "run_index = 1 # increment every time you train the model\n",
    "run_logdir = os.path.join(os.curdir, \"my_cifar10_logs\", \"run_bn_{:03d}\".format(run_index))\n",
    "tensorboard_cb = keras.callbacks.TensorBoard(run_logdir)\n",
    "callbacks = [early_stopping_cb, model_checkpoint_cb, tensorboard_cb]\n",
    "\n",
    "model.fit(X_train, y_train, epochs=100,\n",
    "          validation_data=(X_valid, y_valid),\n",
    "          callbacks=callbacks)\n",
    "\n",
    "model = keras.models.load_model(\"my_cifar10_bn_model.h5\")\n",
    "model.evaluate(X_valid, y_valid)"
   ]
  },
  {
   "cell_type": "markdown",
   "id": "sweet-watts",
   "metadata": {},
   "source": [
    "- Is the model converging faster than before? Much faster! The previous model took 27 epochs to reach the lowest validation loss, while the new model achieved that same loss in just 5 epochs and continued to make progress until the 18th epoch. The BN layers stabilized training and allowed us to use a much larger learning rate, so convergence was faster.\n",
    "- Does BN produce a better model? Yes! The final model is also much better, with 54.0% accuracy instead of 47.6%. It's still not a very good model, but at least it's much better than before (a Convolutional Neural Network would do much better, but that's a different topic, see chapter 14).\n",
    "- How does BN affect training speed? Although the model converged much faster, each epoch took about 12s instead of 8s, because of the extra computations required by the BN layers. But overall the training time (wall time) was shortened significantly!"
   ]
  },
  {
   "cell_type": "markdown",
   "id": "inclusive-special",
   "metadata": {},
   "source": [
    "### d.\n",
    "Exercise: Try replacing Batch Normalization with SELU, and make the necessary adjustements to ensure the network self-normalizes (i.e., standardize the input features, use LeCun normal initialization, make sure the DNN contains only a sequence of dense layers, etc.)."
   ]
  },
  {
   "cell_type": "code",
   "execution_count": 135,
   "id": "australian-turner",
   "metadata": {},
   "outputs": [
    {
     "name": "stdout",
     "output_type": "stream",
     "text": [
      "Epoch 1/100\n",
      "1407/1407 [==============================] - 39s 22ms/step - loss: 2.0613 - accuracy: 0.2676 - val_loss: 1.8792 - val_accuracy: 0.3230\n",
      "Epoch 2/100\n",
      "1407/1407 [==============================] - 27s 19ms/step - loss: 1.7308 - accuracy: 0.3805 - val_loss: 1.7332 - val_accuracy: 0.3790\n",
      "Epoch 3/100\n",
      "1407/1407 [==============================] - 27s 19ms/step - loss: 1.6281 - accuracy: 0.4276 - val_loss: 1.6625 - val_accuracy: 0.4044\n",
      "Epoch 4/100\n",
      "1407/1407 [==============================] - 27s 19ms/step - loss: 1.5393 - accuracy: 0.4586 - val_loss: 1.6203 - val_accuracy: 0.4432\n",
      "Epoch 5/100\n",
      "1407/1407 [==============================] - 27s 19ms/step - loss: 1.4842 - accuracy: 0.4814 - val_loss: 1.5983 - val_accuracy: 0.4248\n",
      "Epoch 6/100\n",
      "1407/1407 [==============================] - 27s 19ms/step - loss: 1.4447 - accuracy: 0.4944 - val_loss: 1.5023 - val_accuracy: 0.4646\n",
      "Epoch 7/100\n",
      "1407/1407 [==============================] - 27s 19ms/step - loss: 1.3915 - accuracy: 0.5165 - val_loss: 1.5350 - val_accuracy: 0.4680\n",
      "Epoch 8/100\n",
      "1407/1407 [==============================] - 27s 20ms/step - loss: 1.3503 - accuracy: 0.5256 - val_loss: 1.5265 - val_accuracy: 0.4622\n",
      "Epoch 9/100\n",
      "1407/1407 [==============================] - 28s 20ms/step - loss: 1.3289 - accuracy: 0.5392 - val_loss: 1.5244 - val_accuracy: 0.4726\n",
      "Epoch 10/100\n",
      "1407/1407 [==============================] - 30s 21ms/step - loss: 1.2939 - accuracy: 0.5515 - val_loss: 1.5498 - val_accuracy: 0.4764\n",
      "Epoch 11/100\n",
      "1407/1407 [==============================] - 30s 21ms/step - loss: 1.2620 - accuracy: 0.5676 - val_loss: 1.5624 - val_accuracy: 0.4840\n",
      "Epoch 12/100\n",
      "1407/1407 [==============================] - 30s 21ms/step - loss: 1.2367 - accuracy: 0.5738 - val_loss: 1.4863 - val_accuracy: 0.4960\n",
      "Epoch 13/100\n",
      "1407/1407 [==============================] - 30s 21ms/step - loss: 1.2176 - accuracy: 0.5807 - val_loss: 1.4829 - val_accuracy: 0.4988\n",
      "Epoch 14/100\n",
      "1407/1407 [==============================] - 31s 22ms/step - loss: 1.1690 - accuracy: 0.5997 - val_loss: 1.5178 - val_accuracy: 0.4938\n",
      "Epoch 15/100\n",
      "1407/1407 [==============================] - 30s 21ms/step - loss: 1.1628 - accuracy: 0.6036 - val_loss: 1.5147 - val_accuracy: 0.4952\n",
      "Epoch 16/100\n",
      "1407/1407 [==============================] - 30s 22ms/step - loss: 1.2866 - accuracy: 0.5554 - val_loss: 1.4950 - val_accuracy: 0.4968\n",
      "Epoch 17/100\n",
      "1407/1407 [==============================] - 30s 21ms/step - loss: 1.1931 - accuracy: 0.5949 - val_loss: 1.5266 - val_accuracy: 0.5024\n",
      "Epoch 18/100\n",
      "1407/1407 [==============================] - 31s 22ms/step - loss: 1.1219 - accuracy: 0.6170 - val_loss: 1.5066 - val_accuracy: 0.5062\n",
      "Epoch 19/100\n",
      "1407/1407 [==============================] - 30s 21ms/step - loss: 1.0913 - accuracy: 0.6243 - val_loss: 1.5670 - val_accuracy: 0.5020\n",
      "Epoch 20/100\n",
      "1407/1407 [==============================] - 30s 22ms/step - loss: 1.0894 - accuracy: 0.6285 - val_loss: 1.5292 - val_accuracy: 0.4888\n",
      "Epoch 21/100\n",
      "1407/1407 [==============================] - 30s 22ms/step - loss: 1.0667 - accuracy: 0.6338 - val_loss: 1.6128 - val_accuracy: 0.4980\n",
      "Epoch 22/100\n",
      "1407/1407 [==============================] - 30s 21ms/step - loss: 1.0679 - accuracy: 0.6324 - val_loss: 1.5465 - val_accuracy: 0.4986\n",
      "Epoch 23/100\n",
      "1407/1407 [==============================] - 31s 22ms/step - loss: 1.0317 - accuracy: 0.6502 - val_loss: 1.5836 - val_accuracy: 0.4932\n",
      "Epoch 24/100\n",
      "1407/1407 [==============================] - 31s 22ms/step - loss: 1.0228 - accuracy: 0.6505 - val_loss: 1.5641 - val_accuracy: 0.4990\n",
      "Epoch 25/100\n",
      "1407/1407 [==============================] - 31s 22ms/step - loss: 1.0098 - accuracy: 0.6610 - val_loss: 1.5522 - val_accuracy: 0.5056\n",
      "Epoch 26/100\n",
      "1407/1407 [==============================] - 31s 22ms/step - loss: 0.9710 - accuracy: 0.6698 - val_loss: 1.6168 - val_accuracy: 0.4986\n",
      "Epoch 27/100\n",
      "1407/1407 [==============================] - 31s 22ms/step - loss: 0.9708 - accuracy: 0.6695 - val_loss: 1.5976 - val_accuracy: 0.4990\n",
      "Epoch 28/100\n",
      "1407/1407 [==============================] - 30s 22ms/step - loss: 0.9521 - accuracy: 0.6781 - val_loss: 1.5931 - val_accuracy: 0.4868\n",
      "Epoch 29/100\n",
      "1407/1407 [==============================] - 31s 22ms/step - loss: 0.9470 - accuracy: 0.6788 - val_loss: 1.5530 - val_accuracy: 0.5090\n",
      "Epoch 30/100\n",
      "1407/1407 [==============================] - 30s 21ms/step - loss: 0.9311 - accuracy: 0.6859 - val_loss: 1.6608 - val_accuracy: 0.4942\n",
      "Epoch 31/100\n",
      "1407/1407 [==============================] - 29s 21ms/step - loss: 0.9248 - accuracy: 0.6864 - val_loss: 1.6054 - val_accuracy: 0.5026\n",
      "Epoch 32/100\n",
      "1407/1407 [==============================] - 28s 20ms/step - loss: 0.9037 - accuracy: 0.6963 - val_loss: 1.6425 - val_accuracy: 0.4942\n",
      "Epoch 33/100\n",
      "1407/1407 [==============================] - 29s 21ms/step - loss: 0.8916 - accuracy: 0.6993 - val_loss: 1.6379 - val_accuracy: 0.5016\n",
      "157/157 [==============================] - 1s 5ms/step - loss: 1.4829 - accuracy: 0.4988\n"
     ]
    },
    {
     "data": {
      "text/plain": [
       "[1.4828822612762451, 0.49880000948905945]"
      ]
     },
     "execution_count": 135,
     "metadata": {},
     "output_type": "execute_result"
    }
   ],
   "source": [
    "keras.backend.clear_session()\n",
    "tf.random.set_seed(42)\n",
    "np.random.seed(42)\n",
    "\n",
    "model = keras.models.Sequential()\n",
    "model.add(keras.layers.Flatten(input_shape=[32, 32, 3]))\n",
    "for _ in range(20):\n",
    "    model.add(keras.layers.Dense(100,\n",
    "                                 kernel_initializer=\"lecun_normal\",\n",
    "                                 activation=\"selu\"))\n",
    "model.add(keras.layers.Dense(10, activation=\"softmax\"))\n",
    "\n",
    "optimizer = keras.optimizers.Nadam(lr=7e-4)\n",
    "model.compile(loss=\"sparse_categorical_crossentropy\",\n",
    "              optimizer=optimizer,\n",
    "              metrics=[\"accuracy\"])\n",
    "\n",
    "early_stopping_cb = keras.callbacks.EarlyStopping(patience=20)\n",
    "model_checkpoint_cb = keras.callbacks.ModelCheckpoint(\"my_cifar10_selu_model.h5\", save_best_only=True)\n",
    "run_index = 1 # increment every time you train the model\n",
    "run_logdir = os.path.join(os.curdir, \"my_cifar10_logs\", \"run_selu_{:03d}\".format(run_index))\n",
    "tensorboard_cb = keras.callbacks.TensorBoard(run_logdir)\n",
    "callbacks = [early_stopping_cb, model_checkpoint_cb, tensorboard_cb]\n",
    "\n",
    "X_means = X_train.mean(axis=0)\n",
    "X_stds = X_train.std(axis=0)\n",
    "X_train_scaled = (X_train - X_means) / X_stds\n",
    "X_valid_scaled = (X_valid - X_means) / X_stds\n",
    "X_test_scaled = (X_test - X_means) / X_stds\n",
    "\n",
    "model.fit(X_train_scaled, y_train, epochs=100,\n",
    "          validation_data=(X_valid_scaled, y_valid),\n",
    "          callbacks=callbacks)\n",
    "\n",
    "model = keras.models.load_model(\"my_cifar10_selu_model.h5\")\n",
    "model.evaluate(X_valid_scaled, y_valid)"
   ]
  },
  {
   "cell_type": "code",
   "execution_count": 136,
   "id": "grateful-recipient",
   "metadata": {},
   "outputs": [
    {
     "name": "stdout",
     "output_type": "stream",
     "text": [
      "157/157 [==============================] - 1s 6ms/step - loss: 1.4829 - accuracy: 0.4988\n"
     ]
    },
    {
     "data": {
      "text/plain": [
       "[1.4828822612762451, 0.49880000948905945]"
      ]
     },
     "execution_count": 136,
     "metadata": {},
     "output_type": "execute_result"
    }
   ],
   "source": [
    "model = keras.models.load_model(\"my_cifar10_selu_model.h5\")\n",
    "model.evaluate(X_valid_scaled, y_valid)"
   ]
  },
  {
   "cell_type": "markdown",
   "id": "sharp-minutes",
   "metadata": {},
   "source": [
    "We get 49.8% accuracy, which is not much better than the original model (47.6%), and not as good as the model using batch normalization (54.0%). However, convergence was almost as fast as with the BN model, plus each epoch took only 7 seconds. So it's by far the fastest model to train so far."
   ]
  },
  {
   "cell_type": "markdown",
   "id": "rental-actor",
   "metadata": {},
   "source": [
    "### e.\n",
    "Exercise: Try regularizing the model with alpha dropout. Then, without retraining your model, see if you can achieve better accuracy using MC Dropout."
   ]
  },
  {
   "cell_type": "code",
   "execution_count": 137,
   "id": "trained-disposition",
   "metadata": {},
   "outputs": [
    {
     "name": "stdout",
     "output_type": "stream",
     "text": [
      "Epoch 1/100\n",
      "1407/1407 [==============================] - 59s 30ms/step - loss: 2.0557 - accuracy: 0.2807 - val_loss: 1.7831 - val_accuracy: 0.3776\n",
      "Epoch 2/100\n",
      "1407/1407 [==============================] - 27s 19ms/step - loss: 1.6717 - accuracy: 0.4076 - val_loss: 1.7089 - val_accuracy: 0.3960\n",
      "Epoch 3/100\n",
      "1407/1407 [==============================] - 27s 19ms/step - loss: 1.5776 - accuracy: 0.4486 - val_loss: 1.6406 - val_accuracy: 0.4324\n",
      "Epoch 4/100\n",
      "1407/1407 [==============================] - 27s 19ms/step - loss: 1.4946 - accuracy: 0.4766 - val_loss: 1.5477 - val_accuracy: 0.4596\n",
      "Epoch 5/100\n",
      "1407/1407 [==============================] - 27s 19ms/step - loss: 1.4407 - accuracy: 0.4943 - val_loss: 1.6497 - val_accuracy: 0.4414\n",
      "Epoch 6/100\n",
      "1407/1407 [==============================] - 27s 19ms/step - loss: 1.3927 - accuracy: 0.5134 - val_loss: 1.5282 - val_accuracy: 0.4762\n",
      "Epoch 7/100\n",
      "1407/1407 [==============================] - 27s 19ms/step - loss: 1.3452 - accuracy: 0.5303 - val_loss: 1.5490 - val_accuracy: 0.4692\n",
      "Epoch 8/100\n",
      "1407/1407 [==============================] - 30s 21ms/step - loss: 1.2988 - accuracy: 0.5441 - val_loss: 1.5115 - val_accuracy: 0.4850\n",
      "Epoch 9/100\n",
      "1407/1407 [==============================] - 29s 21ms/step - loss: 1.2702 - accuracy: 0.5579 - val_loss: 1.5513 - val_accuracy: 0.4816\n",
      "Epoch 10/100\n",
      "1407/1407 [==============================] - 31s 22ms/step - loss: 1.2378 - accuracy: 0.5701 - val_loss: 1.5009 - val_accuracy: 0.4954\n",
      "Epoch 11/100\n",
      "1407/1407 [==============================] - 30s 21ms/step - loss: 1.1974 - accuracy: 0.5828 - val_loss: 1.5413 - val_accuracy: 0.5028\n",
      "Epoch 12/100\n",
      "1407/1407 [==============================] - 30s 21ms/step - loss: 1.1777 - accuracy: 0.5932 - val_loss: 1.5566 - val_accuracy: 0.4896\n",
      "Epoch 13/100\n",
      "1407/1407 [==============================] - 30s 22ms/step - loss: 1.1407 - accuracy: 0.6033 - val_loss: 1.6082 - val_accuracy: 0.4936\n",
      "Epoch 14/100\n",
      "1407/1407 [==============================] - 30s 22ms/step - loss: 1.0956 - accuracy: 0.6216 - val_loss: 1.5983 - val_accuracy: 0.5004\n",
      "Epoch 15/100\n",
      "1407/1407 [==============================] - 30s 21ms/step - loss: 1.0853 - accuracy: 0.6231 - val_loss: 1.6099 - val_accuracy: 0.5102\n",
      "Epoch 16/100\n",
      "1407/1407 [==============================] - 31s 22ms/step - loss: 1.0672 - accuracy: 0.6323 - val_loss: 1.6183 - val_accuracy: 0.4958\n",
      "Epoch 17/100\n",
      "1407/1407 [==============================] - 30s 21ms/step - loss: 1.0482 - accuracy: 0.6390 - val_loss: 1.6666 - val_accuracy: 0.5070\n",
      "Epoch 18/100\n",
      "1407/1407 [==============================] - 31s 22ms/step - loss: 1.0205 - accuracy: 0.6456 - val_loss: 1.6277 - val_accuracy: 0.5104\n",
      "Epoch 19/100\n",
      "1407/1407 [==============================] - 31s 22ms/step - loss: 0.9920 - accuracy: 0.6652 - val_loss: 1.6775 - val_accuracy: 0.5074\n",
      "Epoch 20/100\n",
      "1407/1407 [==============================] - 31s 22ms/step - loss: 0.9682 - accuracy: 0.6700 - val_loss: 1.6648 - val_accuracy: 0.5058\n",
      "Epoch 21/100\n",
      "1407/1407 [==============================] - 31s 22ms/step - loss: 0.9597 - accuracy: 0.6707 - val_loss: 1.6936 - val_accuracy: 0.5012\n",
      "Epoch 22/100\n",
      "1407/1407 [==============================] - 30s 21ms/step - loss: 0.9350 - accuracy: 0.6796 - val_loss: 1.7349 - val_accuracy: 0.5110\n",
      "Epoch 23/100\n",
      "1407/1407 [==============================] - 31s 22ms/step - loss: 0.9090 - accuracy: 0.6888 - val_loss: 1.7123 - val_accuracy: 0.5016\n",
      "Epoch 24/100\n",
      "1407/1407 [==============================] - 31s 22ms/step - loss: 0.8975 - accuracy: 0.6946 - val_loss: 1.7432 - val_accuracy: 0.5064\n",
      "Epoch 25/100\n",
      "1407/1407 [==============================] - 30s 22ms/step - loss: 0.8933 - accuracy: 0.6946 - val_loss: 1.7931 - val_accuracy: 0.4982\n",
      "Epoch 26/100\n",
      "1407/1407 [==============================] - 30s 21ms/step - loss: 0.8564 - accuracy: 0.7116 - val_loss: 1.7471 - val_accuracy: 0.5012\n",
      "Epoch 27/100\n",
      "1407/1407 [==============================] - 31s 22ms/step - loss: 0.8453 - accuracy: 0.7157 - val_loss: 1.8183 - val_accuracy: 0.4954\n",
      "Epoch 28/100\n",
      "1407/1407 [==============================] - 31s 22ms/step - loss: 0.8392 - accuracy: 0.7132 - val_loss: 1.8226 - val_accuracy: 0.4926\n",
      "Epoch 29/100\n",
      "1407/1407 [==============================] - 31s 22ms/step - loss: 0.8136 - accuracy: 0.7214 - val_loss: 1.9056 - val_accuracy: 0.5016\n",
      "Epoch 30/100\n",
      "1407/1407 [==============================] - 30s 21ms/step - loss: 0.8115 - accuracy: 0.7244 - val_loss: 1.8688 - val_accuracy: 0.5008\n",
      "157/157 [==============================] - 1s 6ms/step - loss: 1.5009 - accuracy: 0.4954\n"
     ]
    },
    {
     "data": {
      "text/plain": [
       "[1.500890851020813, 0.49540001153945923]"
      ]
     },
     "execution_count": 137,
     "metadata": {},
     "output_type": "execute_result"
    }
   ],
   "source": [
    "keras.backend.clear_session()\n",
    "tf.random.set_seed(42)\n",
    "np.random.seed(42)\n",
    "\n",
    "model = keras.models.Sequential()\n",
    "model.add(keras.layers.Flatten(input_shape=[32, 32, 3]))\n",
    "for _ in range(20):\n",
    "    model.add(keras.layers.Dense(100,\n",
    "                                 kernel_initializer=\"lecun_normal\",\n",
    "                                 activation=\"selu\"))\n",
    "\n",
    "model.add(keras.layers.AlphaDropout(rate=0.1))\n",
    "model.add(keras.layers.Dense(10, activation=\"softmax\"))\n",
    "\n",
    "optimizer = keras.optimizers.Nadam(lr=5e-4)\n",
    "model.compile(loss=\"sparse_categorical_crossentropy\",\n",
    "              optimizer=optimizer,\n",
    "              metrics=[\"accuracy\"])\n",
    "\n",
    "early_stopping_cb = keras.callbacks.EarlyStopping(patience=20)\n",
    "model_checkpoint_cb = keras.callbacks.ModelCheckpoint(\"my_cifar10_alpha_dropout_model.h5\", save_best_only=True)\n",
    "run_index = 1 # increment every time you train the model\n",
    "run_logdir = os.path.join(os.curdir, \"my_cifar10_logs\", \"run_alpha_dropout_{:03d}\".format(run_index))\n",
    "tensorboard_cb = keras.callbacks.TensorBoard(run_logdir)\n",
    "callbacks = [early_stopping_cb, model_checkpoint_cb, tensorboard_cb]\n",
    "\n",
    "X_means = X_train.mean(axis=0)\n",
    "X_stds = X_train.std(axis=0)\n",
    "X_train_scaled = (X_train - X_means) / X_stds\n",
    "X_valid_scaled = (X_valid - X_means) / X_stds\n",
    "X_test_scaled = (X_test - X_means) / X_stds\n",
    "\n",
    "model.fit(X_train_scaled, y_train, epochs=100,\n",
    "          validation_data=(X_valid_scaled, y_valid),\n",
    "          callbacks=callbacks)\n",
    "\n",
    "model = keras.models.load_model(\"my_cifar10_alpha_dropout_model.h5\")\n",
    "model.evaluate(X_valid_scaled, y_valid)"
   ]
  },
  {
   "cell_type": "markdown",
   "id": "complimentary-mileage",
   "metadata": {},
   "source": [
    "Let's use MC Dropout now. We will need the MCAlphaDropout class we used earlier, so let's just copy it here for convenience:"
   ]
  },
  {
   "cell_type": "code",
   "execution_count": 138,
   "id": "accessible-omega",
   "metadata": {},
   "outputs": [],
   "source": [
    "class MCAlphaDropout(keras.layers.AlphaDropout):\n",
    "    def call(self, inputs):\n",
    "        return super().call(inputs, training=True)"
   ]
  },
  {
   "cell_type": "markdown",
   "id": "racial-score",
   "metadata": {},
   "source": [
    "Now let's create a new model, identical to the one we just trained (with the same weights), but with MCAlphaDropout dropout layers instead of AlphaDropout layers:"
   ]
  },
  {
   "cell_type": "code",
   "execution_count": 139,
   "id": "burning-terrorist",
   "metadata": {},
   "outputs": [],
   "source": [
    "mc_model = keras.models.Sequential([\n",
    "    MCAlphaDropout(layer.rate) if isinstance(layer, keras.layers.AlphaDropout) else layer\n",
    "    for layer in model.layers\n",
    "])"
   ]
  },
  {
   "cell_type": "markdown",
   "id": "dressed-specialist",
   "metadata": {},
   "source": [
    "Then let's add a couple utility functions. The first will run the model many times (10 by default) and it will return the mean predicted class probabilities. The second will use these mean probabilities to predict the most likely class for each instance:"
   ]
  },
  {
   "cell_type": "code",
   "execution_count": 140,
   "id": "fancy-october",
   "metadata": {},
   "outputs": [],
   "source": [
    "def mc_dropout_predict_probas(mc_model, X, n_samples=10):\n",
    "    Y_probas = [mc_model.predict(X) for sample in range(n_samples)]\n",
    "    return np.mean(Y_probas, axis=0)\n",
    "\n",
    "def mc_dropout_predict_classes(mc_model, X, n_samples=10):\n",
    "    Y_probas = mc_dropout_predict_probas(mc_model, X, n_samples)\n",
    "    return np.argmax(Y_probas, axis=1)"
   ]
  },
  {
   "cell_type": "markdown",
   "id": "conceptual-destination",
   "metadata": {},
   "source": [
    "Now let's make predictions for all the instances in the validation set, and compute the accuracy:"
   ]
  },
  {
   "cell_type": "code",
   "execution_count": 141,
   "id": "creative-customs",
   "metadata": {},
   "outputs": [
    {
     "data": {
      "text/plain": [
       "0.4932"
      ]
     },
     "execution_count": 141,
     "metadata": {},
     "output_type": "execute_result"
    }
   ],
   "source": [
    "keras.backend.clear_session()\n",
    "tf.random.set_seed(42)\n",
    "np.random.seed(42)\n",
    "\n",
    "y_pred = mc_dropout_predict_classes(mc_model, X_valid_scaled)\n",
    "accuracy = np.mean(y_pred == y_valid[:, 0])\n",
    "accuracy"
   ]
  },
  {
   "cell_type": "markdown",
   "id": "exceptional-child",
   "metadata": {},
   "source": [
    "We get no accuracy improvement in this case (we're still at 49% accuracy).\n",
    "\n",
    "So the best model we got in this exercise is the Batch Normalization model."
   ]
  },
  {
   "cell_type": "markdown",
   "id": "impressed-monday",
   "metadata": {},
   "source": [
    "### f.\n",
    "Exercise: Retrain your model using 1cycle scheduling and see if it improves training speed and model accuracy."
   ]
  },
  {
   "cell_type": "code",
   "execution_count": 142,
   "id": "scientific-bookmark",
   "metadata": {},
   "outputs": [],
   "source": [
    "keras.backend.clear_session()\n",
    "tf.random.set_seed(42)\n",
    "np.random.seed(42)\n",
    "\n",
    "model = keras.models.Sequential()\n",
    "model.add(keras.layers.Flatten(input_shape=[32, 32, 3]))\n",
    "for _ in range(20):\n",
    "    model.add(keras.layers.Dense(100,\n",
    "                                 kernel_initializer=\"lecun_normal\",\n",
    "                                 activation=\"selu\"))\n",
    "\n",
    "model.add(keras.layers.AlphaDropout(rate=0.1))\n",
    "model.add(keras.layers.Dense(10, activation=\"softmax\"))\n",
    "\n",
    "optimizer = keras.optimizers.SGD(lr=1e-3)\n",
    "model.compile(loss=\"sparse_categorical_crossentropy\",\n",
    "              optimizer=optimizer,\n",
    "              metrics=[\"accuracy\"])"
   ]
  },
  {
   "cell_type": "code",
   "execution_count": 143,
   "id": "conscious-perfume",
   "metadata": {},
   "outputs": [
    {
     "name": "stdout",
     "output_type": "stream",
     "text": [
      "352/352 [==============================] - 11s 26ms/step - loss: nan - accuracy: 0.1252\n"
     ]
    },
    {
     "data": {
      "text/plain": [
       "(9.999999747378752e-06,\n",
       " 9.615227699279785,\n",
       " 2.6187450885772705,\n",
       " 3.9368624346596857)"
      ]
     },
     "execution_count": 143,
     "metadata": {},
     "output_type": "execute_result"
    },
    {
     "data": {
      "image/png": "[encoded data removed]",
      "text/plain": [
       "<Figure size 432x288 with 1 Axes>"
      ]
     },
     "metadata": {
      "needs_background": "light"
     },
     "output_type": "display_data"
    }
   ],
   "source": [
    "batch_size = 128\n",
    "rates, losses = find_learning_rate(model, X_train_scaled, y_train, epochs=1, batch_size=batch_size)\n",
    "plot_lr_vs_loss(rates, losses)\n",
    "plt.axis([min(rates), max(rates), min(losses), (losses[0] + min(losses)) / 1.4])"
   ]
  },
  {
   "cell_type": "code",
   "execution_count": 144,
   "id": "protective-monkey",
   "metadata": {},
   "outputs": [],
   "source": [
    "keras.backend.clear_session()\n",
    "tf.random.set_seed(42)\n",
    "np.random.seed(42)\n",
    "\n",
    "model = keras.models.Sequential()\n",
    "model.add(keras.layers.Flatten(input_shape=[32, 32, 3]))\n",
    "for _ in range(20):\n",
    "    model.add(keras.layers.Dense(100,\n",
    "                                 kernel_initializer=\"lecun_normal\",\n",
    "                                 activation=\"selu\"))\n",
    "\n",
    "model.add(keras.layers.AlphaDropout(rate=0.1))\n",
    "model.add(keras.layers.Dense(10, activation=\"softmax\"))\n",
    "\n",
    "optimizer = keras.optimizers.SGD(lr=1e-2)\n",
    "model.compile(loss=\"sparse_categorical_crossentropy\",\n",
    "              optimizer=optimizer,\n",
    "              metrics=[\"accuracy\"])"
   ]
  },
  {
   "cell_type": "code",
   "execution_count": 145,
   "id": "seven-barrier",
   "metadata": {},
   "outputs": [
    {
     "name": "stdout",
     "output_type": "stream",
     "text": [
      "Epoch 1/15\n",
      "352/352 [==============================] - 11s 27ms/step - loss: 2.2315 - accuracy: 0.2381 - val_loss: 1.8069 - val_accuracy: 0.3794\n",
      "Epoch 2/15\n",
      "352/352 [==============================] - 9s 25ms/step - loss: 1.7926 - accuracy: 0.3699 - val_loss: 1.6318 - val_accuracy: 0.4166\n",
      "Epoch 3/15\n",
      "352/352 [==============================] - 9s 25ms/step - loss: 1.6395 - accuracy: 0.4185 - val_loss: 1.6519 - val_accuracy: 0.4196\n",
      "Epoch 4/15\n",
      "352/352 [==============================] - 9s 25ms/step - loss: 1.5448 - accuracy: 0.4532 - val_loss: 1.6267 - val_accuracy: 0.4330\n",
      "Epoch 5/15\n",
      "352/352 [==============================] - 9s 25ms/step - loss: 1.4861 - accuracy: 0.4737 - val_loss: 1.5406 - val_accuracy: 0.4676\n",
      "Epoch 6/15\n",
      "352/352 [==============================] - 9s 26ms/step - loss: 1.4361 - accuracy: 0.4894 - val_loss: 1.5364 - val_accuracy: 0.4660\n",
      "Epoch 7/15\n",
      "352/352 [==============================] - 9s 25ms/step - loss: 1.4040 - accuracy: 0.4998 - val_loss: 1.6452 - val_accuracy: 0.4402\n",
      "Epoch 8/15\n",
      "352/352 [==============================] - 9s 26ms/step - loss: 1.3441 - accuracy: 0.5222 - val_loss: 1.4777 - val_accuracy: 0.4990\n",
      "Epoch 9/15\n",
      "352/352 [==============================] - 9s 26ms/step - loss: 1.2689 - accuracy: 0.5464 - val_loss: 1.5298 - val_accuracy: 0.4848\n",
      "Epoch 10/15\n",
      "352/352 [==============================] - 9s 26ms/step - loss: 1.1947 - accuracy: 0.5711 - val_loss: 1.5063 - val_accuracy: 0.5026\n",
      "Epoch 11/15\n",
      "352/352 [==============================] - 9s 25ms/step - loss: 1.1216 - accuracy: 0.6000 - val_loss: 1.5581 - val_accuracy: 0.5042\n",
      "Epoch 12/15\n",
      "352/352 [==============================] - 9s 26ms/step - loss: 1.0657 - accuracy: 0.6188 - val_loss: 1.5349 - val_accuracy: 0.5054\n",
      "Epoch 13/15\n",
      "352/352 [==============================] - 9s 25ms/step - loss: 0.9920 - accuracy: 0.6454 - val_loss: 1.5390 - val_accuracy: 0.5176\n",
      "Epoch 14/15\n",
      "352/352 [==============================] - 9s 25ms/step - loss: 0.9130 - accuracy: 0.6738 - val_loss: 1.5634 - val_accuracy: 0.5222\n",
      "Epoch 15/15\n",
      "352/352 [==============================] - 9s 25ms/step - loss: 0.8857 - accuracy: 0.6846 - val_loss: 1.5951 - val_accuracy: 0.5236\n"
     ]
    }
   ],
   "source": [
    "n_epochs = 15\n",
    "onecycle = OneCycleScheduler(math.ceil(len(X_train_scaled) / batch_size) * n_epochs, max_rate=0.05)\n",
    "history = model.fit(X_train_scaled, y_train, epochs=n_epochs, batch_size=batch_size,\n",
    "                    validation_data=(X_valid_scaled, y_valid),\n",
    "                    callbacks=[onecycle])"
   ]
  },
  {
   "cell_type": "markdown",
   "id": "celtic-tribune",
   "metadata": {},
   "source": [
    "One cycle allowed us to train the model in just 15 epochs, each taking only 2 seconds (thanks to the larger batch size). This is several times faster than the fastest model we trained so far. Moreover, we improved the model's performance (from 47.6% to 52.0%). The batch normalized model reaches a slightly better performance (54%), but it's much slower to train."
   ]
  },
  {
   "cell_type": "code",
   "execution_count": null,
   "id": "operating-camera",
   "metadata": {},
   "outputs": [],
   "source": []
  }
 ],
 "metadata": {
  "kernelspec": {
   "display_name": "Python 3",
   "language": "python",
   "name": "python3"
  },
  "language_info": {
   "codemirror_mode": {
    "name": "ipython",
    "version": 3
   },
   "file_extension": ".py",
   "mimetype": "text/x-python",
   "name": "python",
   "nbconvert_exporter": "python",
   "pygments_lexer": "ipython3",
   "version": "3.7.9"
  }
 },
 "nbformat": 4,
 "nbformat_minor": 5
}
