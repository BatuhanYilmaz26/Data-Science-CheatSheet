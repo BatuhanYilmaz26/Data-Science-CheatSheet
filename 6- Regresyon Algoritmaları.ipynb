{
 "cells": [
  {
   "cell_type": "code",
   "execution_count": 1,
   "metadata": {},
   "outputs": [
    {
     "name": "stdout",
     "output_type": "stream",
     "text": [
      "      CRIM    ZN  INDUS  CHAS    NOX     RM   AGE     DIS  RAD    TAX  \\\n",
      "0  0.00632  18.0   2.31   0.0  0.538  6.575  65.2  4.0900  1.0  296.0   \n",
      "1  0.02731   0.0   7.07   0.0  0.469  6.421  78.9  4.9671  2.0  242.0   \n",
      "2  0.02729   0.0   7.07   0.0  0.469  7.185  61.1  4.9671  2.0  242.0   \n",
      "3  0.03237   0.0   2.18   0.0  0.458  6.998  45.8  6.0622  3.0  222.0   \n",
      "4  0.06905   0.0   2.18   0.0  0.458  7.147  54.2  6.0622  3.0  222.0   \n",
      "\n",
      "   PTRATIO       B  LSTAT  \n",
      "0     15.3  396.90   4.98  \n",
      "1     17.8  396.90   9.14  \n",
      "2     17.8  392.83   4.03  \n",
      "3     18.7  394.63   2.94  \n",
      "4     18.7  396.90   5.33  \n"
     ]
    }
   ],
   "source": [
    "import pandas as pd\n",
    "import numpy as np\n",
    "import time\n",
    "from sklearn.metrics import mean_squared_error, r2_score\n",
    "from sklearn.datasets import load_boston\n",
    "boston = load_boston()\n",
    "\n",
    "bos = pd.DataFrame(boston.data)\n",
    "bos.columns = boston.feature_names\n",
    "print(bos.head())"
   ]
  },
  {
   "cell_type": "code",
   "execution_count": 2,
   "metadata": {},
   "outputs": [],
   "source": [
    "bos[\"PRICE\"] = boston.target\n",
    "X = bos.drop(\"PRICE\", axis = 1) # \"Price\" değişkeni hariç bütün değişkenler girdi değişkeni olarak atandı.\n",
    "Y = bos[\"PRICE\"] #\"Price\" değişkeni çıktı değişkeni olarak atandı."
   ]
  },
  {
   "cell_type": "code",
   "execution_count": 3,
   "metadata": {},
   "outputs": [],
   "source": [
    "from sklearn.model_selection import train_test_split\n",
    "x_train, x_test, y_train, y_test = train_test_split(X, Y, test_size = 0.3, random_state = 0)"
   ]
  },
  {
   "cell_type": "code",
   "execution_count": 4,
   "metadata": {},
   "outputs": [],
   "source": [
    "from sklearn.preprocessing import StandardScaler  #Verinin normalize edilmesi\n",
    "sc = StandardScaler()\n",
    "sc.fit(x_train)\n",
    "x_train_std = sc.transform(x_train)\n",
    "x_test_std = sc.transform(x_test)"
   ]
  },
  {
   "cell_type": "code",
   "execution_count": 5,
   "metadata": {},
   "outputs": [],
   "source": [
    "#Çıktı değişkeni sürekli ise Regresyon kullanılır.\n",
    "# 1- DOĞRUSAL REGRESYON"
   ]
  },
  {
   "cell_type": "code",
   "execution_count": 6,
   "metadata": {},
   "outputs": [
    {
     "name": "stdout",
     "output_type": "stream",
     "text": [
      "Doğrusal model sabit: 22.7454802259887\n",
      "Doğrusal model katsayılar (w): [-1.01190059  1.05028027  0.07920966  0.618962   -1.87369102  2.70526979\n",
      " -0.27957264 -3.09766486  2.09689998 -1.88606339 -2.26110466  0.58264309\n",
      " -3.44049838]\n",
      "R-kare (eğitim): 0.765\n",
      "R-kare (test): 0.673\n"
     ]
    }
   ],
   "source": [
    "from sklearn.linear_model import LinearRegression\n",
    "#Normalize edilmiş veri ile çalışılır. (std)\n",
    "linreg = LinearRegression().fit(x_train_std, y_train) #Model tanımlandı ve öğrenme süreci(fit) gerçekleştirildi.\n",
    "#Modelin denklemini yazdırmak.\n",
    "print(\"Doğrusal model sabit: {}\" .format(linreg.intercept_))# Kullanılan _ işareti eğitim verisinin kullanılacağını belirtir.\n",
    "print(\"Doğrusal model katsayılar (w): {}\" .format(linreg.coef_))\n",
    "#Performans ölçümü\n",
    "print(\"R-kare (eğitim): {:.3f}\" .format(linreg.score(x_train_std, y_train.values.ravel())))\n",
    "print(\"R-kare (test): {:.3f}\" .format(linreg.score(x_test_std, y_test.values.ravel())))"
   ]
  },
  {
   "cell_type": "code",
   "execution_count": 7,
   "metadata": {},
   "outputs": [
    {
     "name": "stdout",
     "output_type": "stream",
     "text": [
      "Ridge regresyon sabit: 22.7454802259887\n",
      "Ridge regresyon katsayılar:\n",
      " [-1.00200663  1.03147899  0.04980509  0.62374999 -1.83526275  2.71572801\n",
      " -0.28544778 -3.05889965  2.01159113 -1.80651084 -2.25197658  0.58293035\n",
      " -3.4245575 ]\n",
      "R-kare (eğitim): 0.765\n",
      "R-kare (test): 0.673\n",
      "0 olmayan öznitelik(katsayı) sayısı: 13\n"
     ]
    }
   ],
   "source": [
    "#1.2- RİDGE REGRESYON  (minimizasyon modelidir) (L2 cezalandırması ile yapılan regresyon, katsayıların kareleri ceza fonksiyonuna eklenir, Amaç büyük katsayıların etkisini azaltmak veya küçültmek.)\n",
    "from sklearn.linear_model import Ridge\n",
    "linridge = Ridge(alpha = 1).fit(x_train_std, y_train)\n",
    "#Normalize edilmiş veri ile çalışılır. (std)\n",
    "print(\"Ridge regresyon sabit: {}\" .format(linridge.intercept_))\n",
    "print(\"Ridge regresyon katsayılar:\\n {}\" .format(linridge.coef_))\n",
    "#Performans ölçümü\n",
    "print(\"R-kare (eğitim): {:.3f}\" .format(linridge.score(x_train_std, y_train.values.ravel())))\n",
    "print(\"R-kare (test): {:.3f}\" .format(linridge.score(x_test_std, y_test.values.ravel())))\n",
    "print(\"0 olmayan öznitelik(katsayı) sayısı: {}\" .format(np.sum(linridge.coef_ != 0))) #Bu bilgi L2 yani Ridge regresyonunda bir etkisi yok , Lasso yani L1 regresyonunda etkilidir.\n"
   ]
  },
  {
   "cell_type": "code",
   "execution_count": 8,
   "metadata": {},
   "outputs": [],
   "source": [
    "#Normal regresyon modelinde aşırı öğrenme olmadığı için cezalandırma regresyonun bir faydası olmadı."
   ]
  },
  {
   "cell_type": "code",
   "execution_count": 9,
   "metadata": {},
   "outputs": [
    {
     "name": "stdout",
     "output_type": "stream",
     "text": [
      "Lasso regresyon sabit: 22.7454802259887\n",
      "Lasso regresyon ağırlıklar:\n",
      " [-3.40902715e-02  0.00000000e+00 -0.00000000e+00  0.00000000e+00\n",
      " -0.00000000e+00  2.67547491e+00 -0.00000000e+00 -0.00000000e+00\n",
      " -0.00000000e+00 -1.19742663e-01 -1.78483588e+00  2.43989358e-03\n",
      " -3.40428359e+00]\n",
      "0 olmayan özniteliklerin sayısı: 6\n",
      "R-kare eğitim: 0.693\n",
      "R-kare test: 0.600\n",
      "0 olmayan özniteliklerin ağırlıkları(mutlak değer sırasında):\n",
      "\tLSTAT, -3.404\n",
      "\tRM, 2.675\n",
      "\tPTRATIO, -1.785\n",
      "\tTAX, -0.120\n",
      "\tCRIM, -0.034\n",
      "\tB, 0.002\n"
     ]
    }
   ],
   "source": [
    "# 1.3- LASSO (L1) REGRESYON\n",
    "#Katsayıların mutlak değerlerini modele katar, bazı katsayıları 0'lar ve denklemden çıkarır, modelin karmaşıklığını azaltmak için kullanılır.\n",
    "from sklearn.linear_model import Lasso\n",
    "linlasso = Lasso(max_iter = 20000).fit(x_train_std, y_train)\n",
    "#Normalize edilmiş veri ile çalışılır. (std)\n",
    "print(\"Lasso regresyon sabit: {}\" .format(linlasso.intercept_))\n",
    "print(\"Lasso regresyon ağırlıklar:\\n {}\" .format(linlasso.coef_))\n",
    "print(\"0 olmayan özniteliklerin sayısı: {}\" .format(np.sum(linlasso.coef_ != 0)))\n",
    "print(\"R-kare eğitim: {:.3f}\" .format(linlasso.score(x_train_std, y_train.values.ravel())))\n",
    "print(\"R-kare test: {:.3f}\" .format(linlasso.score(x_test_std, y_test.values.ravel())))\n",
    "print(\"0 olmayan özniteliklerin ağırlıkları(mutlak değer sırasında):\")\n",
    "\n",
    "for e in sorted (list(zip(list(X), linlasso.coef_)), \n",
    "                key = lambda e: -abs(e[1])):\n",
    "    if e[1] != 0:\n",
    "        print(\"\\t{}, {:.3f}\" .format(e[0], e[1]))"
   ]
  },
  {
   "cell_type": "code",
   "execution_count": 10,
   "metadata": {},
   "outputs": [
    {
     "name": "stdout",
     "output_type": "stream",
     "text": [
      "(polinom model)katsayılar (w):\n",
      "[-3.17763383e-11 -1.36066033e+00  2.32738250e+00 -4.21315711e+01\n",
      "  4.29172126e+00 -3.20474118e+00  3.18525454e+00  3.48051577e+01\n",
      " -2.23377269e+01  9.73693788e+00  1.08958586e+01  5.42661130e+00\n",
      " -1.48379531e+01 -1.08854941e+01  7.76299031e-01  8.31306070e-01\n",
      "  9.26243771e+01  9.82253830e-01 -2.20714474e+00  4.43224885e+00\n",
      " -2.19208802e+00  7.72268880e-01  1.24671161e+02 -2.65145003e+02\n",
      "  4.44401004e+01 -1.76290367e-01  2.58194791e+00 -2.53470412e+00\n",
      " -6.03828745e-01 -1.01738819e-01 -1.65683922e+01  3.02487453e+00\n",
      "  4.03107235e-01 -1.30655611e-01 -3.13183382e-01  4.60514099e+00\n",
      " -4.88433618e+00  1.59704548e+01 -7.28503539e-01  1.01652955e+01\n",
      "  1.41666968e-01 -2.98879249e-01  1.67823036e+01  3.99652050e+00\n",
      "  2.54412929e+00 -8.95841966e+00  6.54809391e+00 -7.61415902e+00\n",
      "  1.47567065e+01 -2.10305318e+00  4.29172126e+00 -5.41588829e+00\n",
      " -1.06575083e+01  1.43600773e+00 -6.90466770e-01  2.38250991e+00\n",
      " -2.55505809e+00 -5.63746082e+00  1.38061612e+01 -1.62086173e+00\n",
      "  2.41120047e+00  8.35978122e+00 -8.15926324e+00  1.09689264e+01\n",
      " -1.77258218e+01  2.66062190e+01 -2.27693953e+01  1.62364387e+00\n",
      "  6.67647711e+00  8.43879533e+00 -1.72941200e+01  7.08829968e+00\n",
      "  3.96609149e+00 -2.71037767e+01 -6.97056674e+00  2.57174522e+00\n",
      " -1.11228492e+00  4.37765652e-01 -4.53791556e-01  1.55694154e+01\n",
      " -1.56090073e+01 -1.68714540e+00 -7.74945396e+00 -7.60636015e+00\n",
      "  8.08740906e+00 -1.80781183e+00 -1.85254583e+00 -5.11110661e+00\n",
      " -4.73276319e+00  1.98657069e+00 -4.33491613e+01  7.64920530e+01\n",
      " -1.25256500e+01 -4.88045418e+00 -6.63425117e+00 -1.84152351e+01\n",
      "  1.91059615e+01 -5.83261739e+00  9.71029738e-01  1.50760440e+00\n",
      "  1.72321984e+01  5.17369367e+00  1.74328512e-01  4.95480407e-01\n",
      "  5.39927683e+00]\n",
      "(polinom model) sabit (b): 22.609\n",
      "(polinom model) R-kare eğitim: 0.952\n",
      "(polinom model) R-kare test: 0.607\n",
      "\n",
      "0 olmayan öznitelik(katsayı) sayısı: 105\n",
      "MSE-eğitim: 4.090\n",
      "MSE-test: 32.069\n",
      "R-kare (eğitim): 0.9521\n",
      "R-kare (test): 0.6075\n"
     ]
    }
   ],
   "source": [
    "from sklearn.preprocessing import PolynomialFeatures\n",
    "poly = PolynomialFeatures(degree = 2) #Polinom derecesi arttıkça modelin karmaşıklık derecesi arttığı için aşırı öğrenmeye yol açar.\n",
    "X_poly = poly.fit_transform(X)\n",
    "X_train, X_test, y_train1, y_test1 = train_test_split(X_poly, Y, random_state = 0)\n",
    "#Normalize edilmiş veri ile çalışılır.(std)\n",
    "sc.fit(X_train)\n",
    "X_train_std = sc.transform(X_train)\n",
    "X_test_std = sc.transform(X_test)\n",
    "linreg1 = LinearRegression().fit(X_train_std, y_train1)\n",
    "\n",
    "print(\"(polinom model)katsayılar (w):\\n{}\" .format(linreg1.coef_))\n",
    "print(\"(polinom model) sabit (b): {:.3f}\" .format(linreg1.intercept_))\n",
    "print(\"(polinom model) R-kare eğitim: {:.3f}\" .format(linreg1.score(X_train_std, y_train1.values.ravel())))\n",
    "print(\"(polinom model) R-kare test: {:.3f}\\n\" .format(linreg1.score(X_test_std, y_test1.values.ravel())))\n",
    "print(\"0 olmayan öznitelik(katsayı) sayısı: {}\" .format(np.sum(linreg1.coef_ != 0)))\n",
    "\n",
    "pre_train = linreg1.predict(X_train_std)\n",
    "pre_test = linreg1.predict(X_test_std)\n",
    "print(\"MSE-eğitim: %.3f\" % mean_squared_error(y_train1, pre_train))\n",
    "print(\"MSE-test: %.3f\" % mean_squared_error(y_test1, pre_test))\n",
    "print(\"R-kare (eğitim): %.4f\" % r2_score(y_train1, pre_train))\n",
    "print(\"R-kare (test): %.4f\" % r2_score(y_test1, pre_test))"
   ]
  },
  {
   "cell_type": "code",
   "execution_count": 21,
   "metadata": {},
   "outputs": [
    {
     "name": "stdout",
     "output_type": "stream",
     "text": [
      "R-kare eğitim: 0.7996\n",
      "R-kare test: 0.6563\n",
      "MSE-eğitim: 16.985\n",
      "MSE-test: 28.621\n"
     ]
    }
   ],
   "source": [
    "# 2- K-Nearest Neighbor Regresyon\n",
    "from sklearn.neighbors import KNeighborsRegressor\n",
    "kNN = KNeighborsRegressor(n_neighbors = 10)#Karar değişkeni-parametre n_neighbors(komşu sayısı)dır.Sayısı düşük iken aşırı öğrenme olur.\n",
    "kNN.fit(x_train_std, y_train)\n",
    "#Normalize edilmiş veri ile çalışılır.(std)\n",
    "\n",
    "pred_train = kNN.predict(x_train_std)\n",
    "pred_test = kNN.predict(x_test_std)\n",
    "print(\"R-kare eğitim: %.4f\" % r2_score(y_train, pred_train))\n",
    "print(\"R-kare test: %.4f\" % r2_score(y_test, pred_test))\n",
    "print(\"MSE-eğitim: %.3f\" % mean_squared_error(y_train,pred_train))\n",
    "print(\"MSE-test: %.3f\" % mean_squared_error(y_test, pred_test))"
   ]
  },
  {
   "cell_type": "code",
   "execution_count": 29,
   "metadata": {},
   "outputs": [
    {
     "name": "stdout",
     "output_type": "stream",
     "text": [
      "R-kare eğitim: 0.9274\n",
      "R-kare test: 0.7120\n",
      "MSE-eğitim: 6.156\n",
      "MSE-test: 23.981\n"
     ]
    }
   ],
   "source": [
    "# 3- Karar Ağaçları\n",
    "from sklearn.tree import DecisionTreeRegressor\n",
    "\n",
    "KAR = DecisionTreeRegressor(max_leaf_nodes = 20, random_state = 0, max_depth = 6)\n",
    "KAR.fit(x_train, y_train)\n",
    "\n",
    "pred_train = KAR.predict(x_train)\n",
    "pred_test = KAR.predict(x_test)\n",
    "\n",
    "print(\"R-kare eğitim: %.4f\" % r2_score(y_train, pred_train))\n",
    "print(\"R-kare test: %.4f\" % r2_score(y_test, pred_test))\n",
    "print(\"MSE-eğitim: %.3f\" % mean_squared_error(y_train,pred_train))\n",
    "print(\"MSE-test: %.3f\" % mean_squared_error(y_test, pred_test))"
   ]
  },
  {
   "cell_type": "code",
   "execution_count": 33,
   "metadata": {},
   "outputs": [
    {
     "name": "stdout",
     "output_type": "stream",
     "text": [
      "R-kare eğitim: 0.9670\n",
      "R-kare test: 0.7630\n",
      "MSE-eğitim: 2.795\n",
      "MSE-test: 19.738\n"
     ]
    }
   ],
   "source": [
    "# 4- Yapay Sinir Ağları (Multilayer Perceptron - neural network)\n",
    "from sklearn.neural_network import MLPRegressor\n",
    "#Normalize edilmiş veri ile çalışılır. (std)\n",
    "# Aktivasyon fonksiyonları--> activation : {\"identity\", \"logistic\", \"tanh\", \"relu\"}\n",
    "mlp = MLPRegressor(activation = \"relu\", hidden_layer_sizes = [10], solver = \"lbfgs\",max_iter = 20000, tol = 0.000000001 )\n",
    "mlp.fit(x_train_std, y_train)\n",
    "\n",
    "pre_train = mlp.predict(x_train_std)\n",
    "pre_test = mlp.predict(x_test_std)\n",
    "\n",
    "print(\"R-kare eğitim: %.4f\" % r2_score(y_train, pre_train))\n",
    "print(\"R-kare test: %.4f\" % r2_score(y_test, pre_test))\n",
    "print(\"MSE-eğitim: %.3f\" % mean_squared_error(y_train,pre_train))\n",
    "print(\"MSE-test: %.3f\" % mean_squared_error(y_test, pre_test))"
   ]
  },
  {
   "cell_type": "code",
   "execution_count": 52,
   "metadata": {},
   "outputs": [
    {
     "name": "stderr",
     "output_type": "stream",
     "text": [
      "C:\\Users\\batuh\\Anaconda3\\lib\\site-packages\\xgboost\\core.py:587: FutureWarning: Series.base is deprecated and will be removed in a future version\n",
      "  if getattr(data, 'base', None) is not None and \\\n"
     ]
    },
    {
     "name": "stdout",
     "output_type": "stream",
     "text": [
      "R-kare eğitim: 1.0000\n",
      "R-kare test: 0.7739\n",
      "MSE-eğitim: 0.000\n",
      "MSE-test: 18.830\n"
     ]
    }
   ],
   "source": [
    "# 5- XGBOOST\n",
    "import xgboost\n",
    "\n",
    "xgb = xgboost.XGBRegressor(objective = \"reg:squarederror\", n_estimators =300, learning_rate = 0.08, max_depth = 10)\n",
    "xgb.fit(x_train, y_train)\n",
    "\n",
    "pre_train = xgb.predict(x_train)\n",
    "pre_test = xgb.predict(x_test)\n",
    "\n",
    "print(\"R-kare eğitim: %.4f\" % r2_score(y_train, pre_train))\n",
    "print(\"R-kare test: %.4f\" % r2_score(y_test, pre_test))\n",
    "print(\"MSE-eğitim: %.3f\" % mean_squared_error(y_train,pre_train))\n",
    "print(\"MSE-test: %.3f\" % mean_squared_error(y_test, pre_test))"
   ]
  },
  {
   "cell_type": "code",
   "execution_count": 55,
   "metadata": {},
   "outputs": [
    {
     "name": "stdout",
     "output_type": "stream",
     "text": [
      "R-kare eğitim: 0.8848\n",
      "R-kare test: 0.7559\n",
      "MSE-eğitim: 9.765\n",
      "MSE-test: 20.324\n"
     ]
    }
   ],
   "source": [
    "# 6- RASTGELE ORMAN ALGORİTMASI\n",
    "from sklearn.ensemble import RandomForestRegressor\n",
    "rf_clf = RandomForestRegressor(max_depth = 15, n_estimators = 100, min_samples_leaf = 10, min_samples_split = 10, random_state = 10)\n",
    "rf_clf.fit(x_train, y_train)\n",
    "\n",
    "pre_train = rf_clf.predict(x_train)\n",
    "pre_test = rf_clf.predict(x_test)\n",
    "\n",
    "print(\"R-kare eğitim: %.4f\" % r2_score(y_train, pre_train))\n",
    "print(\"R-kare test: %.4f\" % r2_score(y_test, pre_test))\n",
    "print(\"MSE-eğitim: %.3f\" % mean_squared_error(y_train,pre_train))\n",
    "print(\"MSE-test: %.3f\" % mean_squared_error(y_test, pre_test))"
   ]
  },
  {
   "cell_type": "code",
   "execution_count": 57,
   "metadata": {},
   "outputs": [
    {
     "name": "stdout",
     "output_type": "stream",
     "text": [
      "Ridge regresyon: düzenlileştirme katsayısının etkisi\n",
      "\n",
      "Lambda = 0.05\n",
      "\n",
      "R-Kare (eğitim): 0.765\n",
      "R-Kare (test): 0.673 \n",
      "\n",
      "Lambda = 0.10\n",
      "\n",
      "R-Kare (eğitim): 0.765\n",
      "R-Kare (test): 0.673 \n",
      "\n",
      "Lambda = 0.00\n",
      "\n",
      "R-Kare (eğitim): 0.765\n",
      "R-Kare (test): 0.673 \n",
      "\n",
      "Lambda = 1.00\n",
      "\n",
      "R-Kare (eğitim): 0.765\n",
      "R-Kare (test): 0.673 \n",
      "\n",
      "Lambda = 10.00\n",
      "\n",
      "R-Kare (eğitim): 0.763\n",
      "R-Kare (test): 0.667 \n",
      "\n",
      "Lambda = 20.00\n",
      "\n",
      "R-Kare (eğitim): 0.761\n",
      "R-Kare (test): 0.662 \n",
      "\n",
      "Lambda = 50.00\n",
      "\n",
      "R-Kare (eğitim): 0.753\n",
      "R-Kare (test): 0.649 \n",
      "\n",
      "Lambda = 100.00\n",
      "\n",
      "R-Kare (eğitim): 0.739\n",
      "R-Kare (test): 0.632 \n",
      "\n",
      "Lambda = 1000.00\n",
      "\n",
      "R-Kare (eğitim): 0.537\n",
      "R-Kare (test): 0.461 \n",
      "\n"
     ]
    }
   ],
   "source": [
    "# PARAMETRE OPTİMİZASYONU\n",
    "# 1.Ridge regresyon (L2) ve düzenlileştirme katsayısı\n",
    "print(\"Ridge regresyon: düzenlileştirme katsayısının etkisi\\n\")\n",
    "for alfa in [0.05, 0.1, 0, 1, 10, 20, 50, 100, 1000]:\n",
    "    linridge = Ridge(alpha = alfa).fit(x_train_std, y_train)\n",
    "    print(\"Lambda = {:.2f}\\n\" .format(alfa))\n",
    "    pre_train = linridge.predict(x_train_std)\n",
    "    pre_test = linridge.predict(x_test_std)\n",
    "    print(\"R-Kare (eğitim): %.3f\" % r2_score(y_train, pre_train))\n",
    "    print(\"R-Kare (test): %.3f \\n\" % r2_score(y_test, pre_test))"
   ]
  },
  {
   "cell_type": "code",
   "execution_count": 64,
   "metadata": {},
   "outputs": [
    {
     "name": "stdout",
     "output_type": "stream",
     "text": [
      "Lasso regresyon: düzenlileştirme katsayısının etkisi\n",
      "\n",
      "Lambda = 0.001\n",
      "\n",
      "R-Kare (eğitim): 0.765\n",
      "R-Kare (test): 0.673\n",
      "0 olmayan öznitelikler: 13\n",
      "\n",
      "Lambda = 0.010\n",
      "\n",
      "R-Kare (eğitim): 0.764\n",
      "R-Kare (test): 0.672\n",
      "0 olmayan öznitelikler: 12\n",
      "\n",
      "Lambda = 0.500\n",
      "\n",
      "R-Kare (eğitim): 0.720\n",
      "R-Kare (test): 0.618\n",
      "0 olmayan öznitelikler: 8\n",
      "\n",
      "Lambda = 1.000\n",
      "\n",
      "R-Kare (eğitim): 0.693\n",
      "R-Kare (test): 0.600\n",
      "0 olmayan öznitelikler: 6\n",
      "\n",
      "Lambda = 2.000\n",
      "\n",
      "R-Kare (eğitim): 0.636\n",
      "R-Kare (test): 0.568\n",
      "0 olmayan öznitelikler: 3\n",
      "\n",
      "Lambda = 3.000\n",
      "\n",
      "R-Kare (eğitim): 0.543\n",
      "R-Kare (test): 0.503\n",
      "0 olmayan öznitelikler: 3\n",
      "\n",
      "Lambda = 5.000\n",
      "\n",
      "R-Kare (eğitim): 0.288\n",
      "R-Kare (test): 0.280\n",
      "0 olmayan öznitelikler: 2\n",
      "\n",
      "Lambda = 10.000\n",
      "\n",
      "R-Kare (eğitim): 0.000\n",
      "R-Kare (test): -0.006\n",
      "0 olmayan öznitelikler: 0\n",
      "\n",
      "Lambda = 20.000\n",
      "\n",
      "R-Kare (eğitim): 0.000\n",
      "R-Kare (test): -0.006\n",
      "0 olmayan öznitelikler: 0\n",
      "\n",
      "Lambda = 50.000\n",
      "\n",
      "R-Kare (eğitim): 0.000\n",
      "R-Kare (test): -0.006\n",
      "0 olmayan öznitelikler: 0\n",
      "\n"
     ]
    }
   ],
   "source": [
    "# 2. Lasso Regresyon (L1) ve düzenlileştirme katsayısı\n",
    "print(\"Lasso regresyon: düzenlileştirme katsayısının etkisi\\n\")\n",
    "for alfa in [0.001, 0.01, 0.5, 1, 2, 3, 5, 10, 20, 50]:\n",
    "    linlasso = Lasso(alpha = alfa, max_iter = 150000).fit(x_train_std, y_train)\n",
    "    print(\"Lambda = {:.3f}\\n\" .format(alfa))\n",
    "    pre_train = linlasso.predict(x_train_std)\n",
    "    pre_test = linlasso.predict(x_test_std)\n",
    "    print(\"R-Kare (eğitim): %.3f\" % r2_score(y_train, pre_train))\n",
    "    print(\"R-Kare (test): %.3f\" % r2_score(y_test, pre_test))\n",
    "    print(\"0 olmayan öznitelik sayısı: {}\\n\" .format(np.sum(linlasso.coef_ != 0)))"
   ]
  },
  {
   "cell_type": "code",
   "execution_count": 65,
   "metadata": {},
   "outputs": [
    {
     "name": "stdout",
     "output_type": "stream",
     "text": [
      "Derece =  1\n",
      "\n",
      "\n",
      "MSE-eğitim: 19.958\n",
      "MSE-test: 27.196\n",
      "R-Kare (eğitim): 0.765\n",
      "R-Kare (test): 0.673\n",
      "0 olmayan öznitelik sayısı: 13\n",
      "\n",
      "0.01698899269104004 sn geçti\n",
      "\n",
      "Derece =  2\n",
      "\n",
      "\n",
      "MSE-eğitim: 4.117\n",
      "MSE-test: 29.550\n",
      "R-Kare (eğitim): 0.951\n",
      "R-Kare (test): 0.645\n",
      "0 olmayan öznitelik sayısı: 105\n",
      "\n",
      "0.02698349952697754 sn geçti\n",
      "\n",
      "Derece =  3\n",
      "\n",
      "\n",
      "MSE-eğitim: 0.000\n",
      "MSE-test: 19354.182\n",
      "R-Kare (eğitim): 1.000\n",
      "R-Kare (test): -231.439\n",
      "0 olmayan öznitelik sayısı: 560\n",
      "\n",
      "0.20487332344055176 sn geçti\n",
      "\n",
      "Derece =  4\n",
      "\n",
      "\n",
      "MSE-eğitim: 0.000\n",
      "MSE-test: 2714.607\n",
      "R-Kare (eğitim): 1.000\n",
      "R-Kare (test): -31.602\n",
      "0 olmayan öznitelik sayısı: 2380\n",
      "\n",
      "0.4740936756134033 sn geçti\n",
      "\n",
      "Derece =  5\n",
      "\n",
      "\n",
      "MSE-eğitim: 0.000\n",
      "MSE-test: 2146.488\n",
      "R-Kare (eğitim): 1.000\n",
      "R-Kare (test): -24.779\n",
      "0 olmayan öznitelik sayısı: 8568\n",
      "\n",
      "0.8794569969177246 sn geçti\n",
      "\n",
      "Derece =  6\n",
      "\n",
      "\n",
      "MSE-eğitim: 0.000\n",
      "MSE-test: 1683.270\n",
      "R-Kare (eğitim): 1.000\n",
      "R-Kare (test): -19.216\n",
      "0 olmayan öznitelik sayısı: 27132\n",
      "\n",
      "2.6693432331085205 sn geçti\n",
      "\n"
     ]
    }
   ],
   "source": [
    "# 3. Polinom Derecesi\n",
    "for a in range (1,7): # Derece 1 = Doğrusal Regresyon\n",
    "    tic = time.time()\n",
    "    tahminpolinom = PolynomialFeatures(degree = a)\n",
    "    Xyeni = tahminpolinom.fit_transform(X)\n",
    "    X_train1, X_test1, y_train1, y_test1 = train_test_split(Xyeni, Y, test_size = 0.3, random_state = 0)\n",
    "    sc = StandardScaler()\n",
    "    sc.fit(X_train1)\n",
    "    x_train_st1 = sc.transform(X_train1)\n",
    "    x_test_st1 = sc.transform(X_test1)\n",
    "    \n",
    "    polimodel = LinearRegression()\n",
    "    polimodel.fit(x_train_st1, y_train1)\n",
    "    pre_train = polimodel.predict(x_train_st1)\n",
    "    pre_test = polimodel.predict(x_test_st1)\n",
    "    print(\"Derece = \", a)\n",
    "    print(\"\\n\")\n",
    "    print(\"MSE-eğitim: %.3f\" % mean_squared_error(y_train1, pre_train))\n",
    "    print(\"MSE-test: %.3f\" % mean_squared_error(y_test1, pre_test))\n",
    "    print(\"R-Kare (eğitim): %.3f\" % r2_score(y_train1, pre_train))\n",
    "    print(\"R-Kare (test): %.3f\" % r2_score(y_test1, pre_test))\n",
    "    print(\"0 olmayan öznitelik sayısı: {}\\n\" .format(np.sum(polimodel.coef_ != 0)))\n",
    "    toc = time.time()\n",
    "    print(toc-tic, \"sn geçti\\n\")"
   ]
  },
  {
   "cell_type": "code",
   "execution_count": 66,
   "metadata": {},
   "outputs": [
    {
     "name": "stdout",
     "output_type": "stream",
     "text": [
      "Polinom model katsayılar (w):\n",
      "[ 0. -0.  0. ... -0. -0. -0.] \n",
      "Polinom model sabit (b):\n",
      "22.609 \n",
      "Polinom model R-Kare(eğitim): 0.796\n",
      "Polinom model R-Kare(test): 0.686\n",
      "0 olmayan öznitelik sayısı: 12\n",
      "\n",
      "MSE-eğitim: 17.411\n",
      "MSE-test: 25.613\n",
      "R-Kare eğitim: 0.7959\n",
      "R-Kare test: 0.6865\n"
     ]
    }
   ],
   "source": [
    "# Polinom + Lasso\n",
    "from sklearn.preprocessing import PolynomialFeatures\n",
    "poly = PolynomialFeatures(degree = 6)\n",
    "X_poly = poly.fit_transform(X)\n",
    "X_train, X_test, y_train1, y_test1 = train_test_split(X_poly, Y, random_state = 0)\n",
    "\n",
    "sc.fit(X_train)\n",
    "X_train_std = sc.transform(X_train)\n",
    "X_test_std = sc.transform(X_test)\n",
    "\n",
    "linlasso1 = Lasso(max_iter = 20000).fit(X_train_std, y_train1)\n",
    "\n",
    "print(\"Polinom model katsayılar (w):\\n{} \" .format(linlasso1.coef_))\n",
    "print(\"Polinom model sabit (b):\\n{:.3f} \" .format(linlasso1.intercept_))\n",
    "print(\"Polinom model R-Kare(eğitim): {:.3f}\" .format(linlasso1.score(X_train_std, y_train1.values.ravel())))\n",
    "print(\"Polinom model R-Kare(test): {:.3f}\" .format(linlasso1.score(X_test_std, y_test1.values.ravel())))\n",
    "print(\"0 olmayan öznitelik sayısı: {}\\n\" .format(np.sum(linlasso1.coef_ != 0)))\n",
    "\n",
    "pre_train = linlasso1.predict(X_train_std)\n",
    "pre_test = linlasso1.predict(X_test_std)\n",
    "print(\"MSE-eğitim: %.3f\" % mean_squared_error(y_train1, pre_train))\n",
    "print(\"MSE-test: %.3f\" % mean_squared_error(y_test1, pre_test))\n",
    "print(\"R-Kare eğitim: %.4f\" % r2_score(y_train1, pre_train))\n",
    "print(\"R-Kare test: %.4f\" % r2_score(y_test1, pre_test))"
   ]
  },
  {
   "cell_type": "code",
   "execution_count": null,
   "metadata": {},
   "outputs": [],
   "source": []
  }
 ],
 "metadata": {
  "kernelspec": {
   "display_name": "Python 3",
   "language": "python",
   "name": "python3"
  },
  "language_info": {
   "codemirror_mode": {
    "name": "ipython",
    "version": 3
   },
   "file_extension": ".py",
   "mimetype": "text/x-python",
   "name": "python",
   "nbconvert_exporter": "python",
   "pygments_lexer": "ipython3",
   "version": "3.7.7"
  }
 },
 "nbformat": 4,
 "nbformat_minor": 2
}
