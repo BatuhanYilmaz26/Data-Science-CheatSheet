{
 "cells": [
  {
   "cell_type": "code",
   "execution_count": 1,
   "metadata": {},
   "outputs": [],
   "source": [
    "import pandas\n",
    "import numpy as np\n",
    "from pandas import read_csv\n",
    "url = \"https://raw.githubusercontent.com/jbrownlee/Datasets/master/pima-indians-diabetes.data.csv\"\n",
    "names = [\"preg\", \"plas\", \"pres\", \"skin\", \"test\", \"mass\", \"pedi\", \"age\", \"class\"]\n",
    "data = read_csv(url, names = names)"
   ]
  },
  {
   "cell_type": "code",
   "execution_count": 3,
   "metadata": {},
   "outputs": [
    {
     "name": "stdout",
     "output_type": "stream",
     "text": [
      "Verinin yapısı: (768, 9)\n"
     ]
    }
   ],
   "source": [
    "print(\"Verinin yapısı: {}\".format(data.shape))"
   ]
  },
  {
   "cell_type": "code",
   "execution_count": 4,
   "metadata": {},
   "outputs": [
    {
     "name": "stdout",
     "output_type": "stream",
     "text": [
      "class\n",
      "0    500\n",
      "1    268\n",
      "dtype: int64\n"
     ]
    }
   ],
   "source": [
    "class_counts = data.groupby(\"class\").size()\n",
    "print(class_counts)    # Sınıfların dağılımı homojen değil. Bu yüzden performansı ölçmek için sadece doğruluk oranı kullanılmamalı.\n",
    "#Farklı performans ölçme yöntemleri de kullanılmalı."
   ]
  },
  {
   "cell_type": "code",
   "execution_count": 5,
   "metadata": {},
   "outputs": [],
   "source": [
    "X = data.iloc[: , 0:8]\n",
    "Y = data.iloc[:, -1]"
   ]
  },
  {
   "cell_type": "code",
   "execution_count": 6,
   "metadata": {},
   "outputs": [],
   "source": [
    "from sklearn.model_selection import train_test_split\n",
    "from sklearn.linear_model import LogisticRegression"
   ]
  },
  {
   "cell_type": "code",
   "execution_count": 7,
   "metadata": {},
   "outputs": [],
   "source": [
    "x_train, x_test, y_train, y_test = train_test_split(X, Y, test_size = 0.3, random_state = 0) #stratify : tabakalı eğitim"
   ]
  },
  {
   "cell_type": "code",
   "execution_count": 8,
   "metadata": {},
   "outputs": [],
   "source": [
    "model = LogisticRegression(solver = \"lbfgs\", max_iter = 5000) #Kullanılıcak modeli tanımladık\n",
    "model.fit(x_train, y_train) # Öğrenme işlemi gerçekleştirildi\n",
    "\n",
    "y_pred = model.predict(x_test) # Test verisi için tahmin\n",
    "y_pred1 = model.predict(x_train) # Eğitim verisi için tahmin"
   ]
  },
  {
   "cell_type": "code",
   "execution_count": 9,
   "metadata": {},
   "outputs": [
    {
     "name": "stdout",
     "output_type": "stream",
     "text": [
      "Eğitim verisi için doğruluk oranı:  0.7653631284916201\n",
      "Test verisi için doğruluk oranı:  0.7792207792207793\n"
     ]
    }
   ],
   "source": [
    "from sklearn.metrics import accuracy_score #Performans kriteri olarak doğruluk oranını seçtik\n",
    "print(\"Eğitim verisi için doğruluk oranı: \", accuracy_score(y_pred1, y_train))\n",
    "print(\"Test verisi için doğruluk oranı: \", accuracy_score(y_pred, y_test))\n"
   ]
  },
  {
   "cell_type": "code",
   "execution_count": 10,
   "metadata": {},
   "outputs": [
    {
     "name": "stdout",
     "output_type": "stream",
     "text": [
      "Test verisi için Hassaslık-kesinlik(Precision):  0.7090909090909091\n",
      "Test verisi için Duyarlılık(Recall):  0.527027027027027\n"
     ]
    }
   ],
   "source": [
    "from sklearn.metrics import precision_score, recall_score # Hassaslık ve Duyarlılık skorları\n",
    "print(\"Test verisi için Hassaslık-kesinlik(Precision): \", precision_score(y_test, y_pred))\n",
    "print(\"Test verisi için Duyarlılık(Recall): \", recall_score(y_test, y_pred))"
   ]
  },
  {
   "cell_type": "code",
   "execution_count": 14,
   "metadata": {},
   "outputs": [
    {
     "name": "stdout",
     "output_type": "stream",
     "text": [
      " Eğitim verisi için Hassaslık-kesinlik(Precision):  0.7125\n",
      "Eğitim verisi için Duyarlılık(Recall):  0.5876288659793815\n"
     ]
    }
   ],
   "source": [
    "from sklearn.metrics import precision_score, recall_score # Hassaslık ve Duyarlılık skorları\n",
    "print(\" Eğitim verisi için Hassaslık-kesinlik(Precision): \", precision_score(y_train, y_pred1))\n",
    "print(\"Eğitim verisi için Duyarlılık(Recall): \", recall_score(y_train, y_pred1))\n",
    "#Recall(Duyarlılık): Hasta olanları tespit etme oranı = TP/(TP+FN)\n",
    "#Precision(Kesinlik): Hasta dediklerimizin gerçekten kaçı hasta ? = TP/(TP+FP)\n"
   ]
  },
  {
   "cell_type": "code",
   "execution_count": 19,
   "metadata": {},
   "outputs": [
    {
     "name": "stdout",
     "output_type": "stream",
     "text": [
      "Test verisi için sınıflandırma tablosu: \n",
      " [[141  16]\n",
      " [ 35  39]]\n"
     ]
    }
   ],
   "source": [
    "from sklearn.metrics import confusion_matrix # Sınıflandırma tablosu\n",
    "print(\"Test verisi için sınıflandırma tablosu: \\n\", (confusion_matrix(y_test, y_pred)))\n"
   ]
  },
  {
   "cell_type": "code",
   "execution_count": 26,
   "metadata": {},
   "outputs": [
    {
     "name": "stdout",
     "output_type": "stream",
     "text": [
      "Test verisi için\n"
     ]
    },
    {
     "data": {
      "text/plain": [
       "<matplotlib.axes._subplots.AxesSubplot at 0x2138cfe8d88>"
      ]
     },
     "execution_count": 26,
     "metadata": {},
     "output_type": "execute_result"
    },
    {
     "data": {
      "image/png": "[encoded data removed]",
      "text/plain": [
       "<Figure size 432x288 with 2 Axes>"
      ]
     },
     "metadata": {
      "needs_background": "light"
     },
     "output_type": "display_data"
    }
   ],
   "source": [
    "import seaborn as sns\n",
    "print (\"Test verisi için\")\n",
    "cm = confusion_matrix(y_test, y_pred)\n",
    "sns.heatmap(cm, center=True, annot=True, fmt='d')"
   ]
  },
  {
   "cell_type": "code",
   "execution_count": 27,
   "metadata": {},
   "outputs": [
    {
     "name": "stdout",
     "output_type": "stream",
     "text": [
      "Test verisi için sınıflandırma raporu: \n",
      "               precision    recall  f1-score   support\n",
      "\n",
      "           0       0.80      0.90      0.85       157\n",
      "           1       0.71      0.53      0.60        74\n",
      "\n",
      "    accuracy                           0.78       231\n",
      "   macro avg       0.76      0.71      0.73       231\n",
      "weighted avg       0.77      0.78      0.77       231\n",
      "\n"
     ]
    }
   ],
   "source": [
    "from sklearn.metrics import classification_report\n",
    "print(\"Test verisi için sınıflandırma raporu: \\n\", (classification_report(y_test, y_pred)))"
   ]
  },
  {
   "cell_type": "code",
   "execution_count": 28,
   "metadata": {},
   "outputs": [
    {
     "data": {
      "text/plain": [
       "0.6046511627906976"
      ]
     },
     "execution_count": 28,
     "metadata": {},
     "output_type": "execute_result"
    }
   ],
   "source": [
    "from sklearn.metrics import f1_score\n",
    "f1_score(y_test, y_pred)"
   ]
  },
  {
   "cell_type": "code",
   "execution_count": 29,
   "metadata": {},
   "outputs": [
    {
     "name": "stdout",
     "output_type": "stream",
     "text": [
      "Test verisi için ROC Eğrisi altındaki alan:  0.7125580995007746\n"
     ]
    }
   ],
   "source": [
    "from sklearn.metrics import roc_auc_score\n",
    "alan = roc_auc_score(y_test, y_pred)\n",
    "print(\"Test verisi için ROC Eğrisi altındaki alan: \", alan)"
   ]
  },
  {
   "cell_type": "code",
   "execution_count": 30,
   "metadata": {},
   "outputs": [
    {
     "name": "stdout",
     "output_type": "stream",
     "text": [
      "Test verisi için cohen kappa skoru: \n",
      " 0.4560690705942102\n"
     ]
    }
   ],
   "source": [
    "from sklearn.metrics import cohen_kappa_score\n",
    "print(\"Test verisi için cohen kappa skoru: \\n\", (cohen_kappa_score(y_test, y_pred)))"
   ]
  },
  {
   "cell_type": "code",
   "execution_count": 31,
   "metadata": {},
   "outputs": [],
   "source": [
    "#REGRESYON İÇİN PERFORMANS ÖLÇME\n",
    "from sklearn.datasets import load_boston\n",
    "boston = load_boston()"
   ]
  },
  {
   "cell_type": "code",
   "execution_count": 32,
   "metadata": {},
   "outputs": [
    {
     "name": "stdout",
     "output_type": "stream",
     "text": [
      "['CRIM' 'ZN' 'INDUS' 'CHAS' 'NOX' 'RM' 'AGE' 'DIS' 'RAD' 'TAX' 'PTRATIO'\n",
      " 'B' 'LSTAT']\n"
     ]
    }
   ],
   "source": [
    "print(boston.feature_names)"
   ]
  },
  {
   "cell_type": "code",
   "execution_count": 33,
   "metadata": {},
   "outputs": [
    {
     "name": "stdout",
     "output_type": "stream",
     "text": [
      "      CRIM    ZN  INDUS  CHAS    NOX     RM   AGE     DIS  RAD    TAX  \\\n",
      "0  0.00632  18.0   2.31   0.0  0.538  6.575  65.2  4.0900  1.0  296.0   \n",
      "1  0.02731   0.0   7.07   0.0  0.469  6.421  78.9  4.9671  2.0  242.0   \n",
      "2  0.02729   0.0   7.07   0.0  0.469  7.185  61.1  4.9671  2.0  242.0   \n",
      "3  0.03237   0.0   2.18   0.0  0.458  6.998  45.8  6.0622  3.0  222.0   \n",
      "4  0.06905   0.0   2.18   0.0  0.458  7.147  54.2  6.0622  3.0  222.0   \n",
      "\n",
      "   PTRATIO       B  LSTAT  \n",
      "0     15.3  396.90   4.98  \n",
      "1     17.8  396.90   9.14  \n",
      "2     17.8  392.83   4.03  \n",
      "3     18.7  394.63   2.94  \n",
      "4     18.7  396.90   5.33  \n"
     ]
    }
   ],
   "source": [
    "import pandas as pd\n",
    "bos = pd.DataFrame(boston.data)\n",
    "bos.columns = boston.feature_names\n",
    "print(bos.head())"
   ]
  },
  {
   "cell_type": "code",
   "execution_count": 34,
   "metadata": {},
   "outputs": [],
   "source": [
    "bos[\"PRICE\"] = boston.target"
   ]
  },
  {
   "cell_type": "code",
   "execution_count": 35,
   "metadata": {},
   "outputs": [
    {
     "name": "stdout",
     "output_type": "stream",
     "text": [
      "      CRIM    ZN  INDUS  CHAS    NOX     RM   AGE     DIS  RAD    TAX  \\\n",
      "0  0.00632  18.0   2.31   0.0  0.538  6.575  65.2  4.0900  1.0  296.0   \n",
      "1  0.02731   0.0   7.07   0.0  0.469  6.421  78.9  4.9671  2.0  242.0   \n",
      "2  0.02729   0.0   7.07   0.0  0.469  7.185  61.1  4.9671  2.0  242.0   \n",
      "3  0.03237   0.0   2.18   0.0  0.458  6.998  45.8  6.0622  3.0  222.0   \n",
      "4  0.06905   0.0   2.18   0.0  0.458  7.147  54.2  6.0622  3.0  222.0   \n",
      "\n",
      "   PTRATIO       B  LSTAT  PRICE  \n",
      "0     15.3  396.90   4.98   24.0  \n",
      "1     17.8  396.90   9.14   21.6  \n",
      "2     17.8  392.83   4.03   34.7  \n",
      "3     18.7  394.63   2.94   33.4  \n",
      "4     18.7  396.90   5.33   36.2  \n"
     ]
    }
   ],
   "source": [
    "print(bos.head())"
   ]
  },
  {
   "cell_type": "code",
   "execution_count": 36,
   "metadata": {},
   "outputs": [],
   "source": [
    "X1 = bos.drop(\"PRICE\", axis = 1) # Girdi\n",
    "Y1 = bos[\"PRICE\"] # Çıktı"
   ]
  },
  {
   "cell_type": "code",
   "execution_count": 37,
   "metadata": {},
   "outputs": [],
   "source": [
    "x_train1, x_test1, y_train1, y_test1 = train_test_split(X1, Y1, test_size = 0.3, random_state = 0)"
   ]
  },
  {
   "cell_type": "code",
   "execution_count": 38,
   "metadata": {},
   "outputs": [],
   "source": [
    "from sklearn.preprocessing import StandardScaler\n",
    "sc = StandardScaler() # Veri normalize aşaması.\n",
    "sc.fit(x_train1) # Öğrenme aşaması.\n",
    "x_train_std = sc.transform(x_train1) # Eğitim verisi normalize edildi.\n",
    "x_test_std = sc.transform(x_test1) # Test verisi normalize edildi."
   ]
  },
  {
   "cell_type": "code",
   "execution_count": 39,
   "metadata": {},
   "outputs": [
    {
     "data": {
      "text/plain": [
       "LinearRegression(copy_X=True, fit_intercept=True, n_jobs=None, normalize=False)"
      ]
     },
     "execution_count": 39,
     "metadata": {},
     "output_type": "execute_result"
    }
   ],
   "source": [
    "from sklearn.linear_model import LinearRegression\n",
    "model = LinearRegression()\n",
    "model.fit(x_train_std, y_train1)#Normalize edilmiş eğitim verisinin girdisi ve çıktı öğrenme sürecine alındı(fit methodu ile)"
   ]
  },
  {
   "cell_type": "code",
   "execution_count": 41,
   "metadata": {},
   "outputs": [
    {
     "name": "stdout",
     "output_type": "stream",
     "text": [
      "R-kare(eğitim): 0.765\n",
      "R-kare(test): 0.673\n"
     ]
    }
   ],
   "source": [
    "#Korelasyon katsayısı (R-kare)' na göre performans ölçümü\n",
    "print(\"R-kare(eğitim): {:.3f}\".format(model.score(x_train_std, y_train1)))\n",
    "print(\"R-kare(test): {:.3f}\".format(model.score(x_test_std, y_test1)))"
   ]
  },
  {
   "cell_type": "code",
   "execution_count": 42,
   "metadata": {},
   "outputs": [],
   "source": [
    "from sklearn.metrics import mean_squared_error, r2_score\n",
    "y_pred = model.predict(x_test_std)\n",
    "y_pred1 = model.predict(x_train_std)"
   ]
  },
  {
   "cell_type": "code",
   "execution_count": 43,
   "metadata": {},
   "outputs": [
    {
     "name": "stdout",
     "output_type": "stream",
     "text": [
      "Test Verisi İçin Ortalama Hata Kare (MSE) 27.196\n",
      "Eğitim Verisi İçin Ortalama Hata Kare (MSE) 19.958\n",
      "\n",
      "\n",
      "Eğitim Verisi İçin R-Kare: 0.765\n",
      "Test Verisi İçin R-Kare: 0.673\n"
     ]
    }
   ],
   "source": [
    "print(\"Test Verisi İçin Ortalama Hata Kare (MSE) %.3f\" % mean_squared_error(y_test1, y_pred))\n",
    "print(\"Eğitim Verisi İçin Ortalama Hata Kare (MSE) %.3f\" % mean_squared_error(y_train1, y_pred1))\n",
    "print(\"\\n\")\n",
    "print(\"Eğitim Verisi İçin R-Kare: %.3f\" % r2_score(y_train1, y_pred1))\n",
    "print(\"Test Verisi İçin R-Kare: %.3f\" % r2_score(y_test1, y_pred))"
   ]
  },
  {
   "cell_type": "code",
   "execution_count": null,
   "metadata": {},
   "outputs": [],
   "source": []
  }
 ],
 "metadata": {
  "kernelspec": {
   "display_name": "Python 3",
   "language": "python",
   "name": "python3"
  },
  "language_info": {
   "codemirror_mode": {
    "name": "ipython",
    "version": 3
   },
   "file_extension": ".py",
   "mimetype": "text/x-python",
   "name": "python",
   "nbconvert_exporter": "python",
   "pygments_lexer": "ipython3",
   "version": "3.7.7"
  }
 },
 "nbformat": 4,
 "nbformat_minor": 2
}
